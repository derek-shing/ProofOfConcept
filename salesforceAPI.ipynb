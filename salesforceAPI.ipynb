{
  "nbformat": 4,
  "nbformat_minor": 0,
  "metadata": {
    "colab": {
      "name": "salesforceAPI.ipynb",
      "provenance": [],
      "collapsed_sections": [],
      "authorship_tag": "ABX9TyM0OW2zgD/kTQrM+n0hCbrt",
      "include_colab_link": true
    },
    "kernelspec": {
      "name": "python3",
      "display_name": "Python 3"
    }
  },
  "cells": [
    {
      "cell_type": "markdown",
      "metadata": {
        "id": "view-in-github",
        "colab_type": "text"
      },
      "source": [
        "<a href=\"https://colab.research.google.com/github/derek-shing/ProofOfConcept/blob/master/salesforceAPI.ipynb\" target=\"_parent\"><img src=\"https://colab.research.google.com/assets/colab-badge.svg\" alt=\"Open In Colab\"/></a>"
      ]
    },
    {
      "cell_type": "code",
      "metadata": {
        "id": "ou1kXouyP3hL"
      },
      "source": [
        "username=\"hpshing@gmail.com\"\r\n",
        "pw=\"abcd1234SJi3U9s80nVbJDgV744BA6YWY\"\r\n",
        "token=\"\""
      ],
      "execution_count": 7,
      "outputs": []
    },
    {
      "cell_type": "code",
      "metadata": {
        "colab": {
          "base_uri": "https://localhost:8080/"
        },
        "id": "8mcI_knATVl7",
        "outputId": "248fa1e6-90aa-4b0b-d754-d04f7ce04377"
      },
      "source": [
        "pip install simple_salesforce"
      ],
      "execution_count": 3,
      "outputs": [
        {
          "output_type": "stream",
          "text": [
            "Collecting simple_salesforce\n",
            "  Downloading https://files.pythonhosted.org/packages/a0/a9/1af4b18fd69ba87a7da567eb0c51085998bb98c14dc6a5f890df0b154ed0/simple_salesforce-1.10.1-py2.py3-none-any.whl\n",
            "Collecting authlib\n",
            "\u001b[?25l  Downloading https://files.pythonhosted.org/packages/95/51/6d6a820cbbea22098557d173931800c08edf15d720b66124627ac9da6357/Authlib-0.15.2-py2.py3-none-any.whl (203kB)\n",
            "\u001b[K     |████████████████████████████████| 204kB 6.3MB/s \n",
            "\u001b[?25hRequirement already satisfied: requests>=2.22.0 in /usr/local/lib/python3.6/dist-packages (from simple_salesforce) (2.23.0)\n",
            "Collecting cryptography\n",
            "\u001b[?25l  Downloading https://files.pythonhosted.org/packages/c9/de/7054df0620b5411ba45480f0261e1fb66a53f3db31b28e3aa52c026e72d9/cryptography-3.3.1-cp36-abi3-manylinux2010_x86_64.whl (2.6MB)\n",
            "\u001b[K     |████████████████████████████████| 2.6MB 19.5MB/s \n",
            "\u001b[?25hRequirement already satisfied: urllib3!=1.25.0,!=1.25.1,<1.26,>=1.21.1 in /usr/local/lib/python3.6/dist-packages (from requests>=2.22.0->simple_salesforce) (1.24.3)\n",
            "Requirement already satisfied: chardet<4,>=3.0.2 in /usr/local/lib/python3.6/dist-packages (from requests>=2.22.0->simple_salesforce) (3.0.4)\n",
            "Requirement already satisfied: idna<3,>=2.5 in /usr/local/lib/python3.6/dist-packages (from requests>=2.22.0->simple_salesforce) (2.10)\n",
            "Requirement already satisfied: certifi>=2017.4.17 in /usr/local/lib/python3.6/dist-packages (from requests>=2.22.0->simple_salesforce) (2020.12.5)\n",
            "Requirement already satisfied: cffi>=1.12 in /usr/local/lib/python3.6/dist-packages (from cryptography->authlib->simple_salesforce) (1.14.4)\n",
            "Requirement already satisfied: six>=1.4.1 in /usr/local/lib/python3.6/dist-packages (from cryptography->authlib->simple_salesforce) (1.15.0)\n",
            "Requirement already satisfied: pycparser in /usr/local/lib/python3.6/dist-packages (from cffi>=1.12->cryptography->authlib->simple_salesforce) (2.20)\n",
            "Installing collected packages: cryptography, authlib, simple-salesforce\n",
            "Successfully installed authlib-0.15.2 cryptography-3.3.1 simple-salesforce-1.10.1\n"
          ],
          "name": "stdout"
        }
      ]
    },
    {
      "cell_type": "code",
      "metadata": {
        "id": "7Gh_azMiQGyX"
      },
      "source": [
        "from simple_salesforce import Salesforce, SalesforceLogin\r\n",
        "session_id, instance = SalesforceLogin(username=username, password=pw)\r\n",
        "sf = Salesforce(instance=instance, session_id=session_id)"
      ],
      "execution_count": 8,
      "outputs": []
    },
    {
      "cell_type": "code",
      "metadata": {
        "colab": {
          "base_uri": "https://localhost:8080/",
          "height": 303
        },
        "id": "vmTaH0XlWbjy",
        "outputId": "fca05bb7-6f48-4000-da5c-55b6fba1e1bc"
      },
      "source": [
        "print(sf.Contact.get('00B4x00000954ae'))"
      ],
      "execution_count": 15,
      "outputs": [
        {
          "output_type": "error",
          "ename": "SalesforceResourceNotFound",
          "evalue": "ignored",
          "traceback": [
            "\u001b[0;31m---------------------------------------------------------------------------\u001b[0m",
            "\u001b[0;31mSalesforceResourceNotFound\u001b[0m                Traceback (most recent call last)",
            "\u001b[0;32m<ipython-input-15-2ea7b6f2839f>\u001b[0m in \u001b[0;36m<module>\u001b[0;34m()\u001b[0m\n\u001b[0;32m----> 1\u001b[0;31m \u001b[0mprint\u001b[0m\u001b[0;34m(\u001b[0m\u001b[0msf\u001b[0m\u001b[0;34m.\u001b[0m\u001b[0mContact\u001b[0m\u001b[0;34m.\u001b[0m\u001b[0mget\u001b[0m\u001b[0;34m(\u001b[0m\u001b[0;34m'00B4x00000954ae'\u001b[0m\u001b[0;34m)\u001b[0m\u001b[0;34m)\u001b[0m\u001b[0;34m\u001b[0m\u001b[0;34m\u001b[0m\u001b[0m\n\u001b[0m",
            "\u001b[0;32m/usr/local/lib/python3.6/dist-packages/simple_salesforce/api.py\u001b[0m in \u001b[0;36mget\u001b[0;34m(self, record_id, headers)\u001b[0m\n\u001b[1;32m    629\u001b[0m         result = self._call_salesforce(\n\u001b[1;32m    630\u001b[0m             \u001b[0mmethod\u001b[0m\u001b[0;34m=\u001b[0m\u001b[0;34m'GET'\u001b[0m\u001b[0;34m,\u001b[0m \u001b[0murl\u001b[0m\u001b[0;34m=\u001b[0m\u001b[0murljoin\u001b[0m\u001b[0;34m(\u001b[0m\u001b[0mself\u001b[0m\u001b[0;34m.\u001b[0m\u001b[0mbase_url\u001b[0m\u001b[0;34m,\u001b[0m \u001b[0mrecord_id\u001b[0m\u001b[0;34m)\u001b[0m\u001b[0;34m,\u001b[0m\u001b[0;34m\u001b[0m\u001b[0;34m\u001b[0m\u001b[0m\n\u001b[0;32m--> 631\u001b[0;31m             \u001b[0mheaders\u001b[0m\u001b[0;34m=\u001b[0m\u001b[0mheaders\u001b[0m\u001b[0;34m\u001b[0m\u001b[0;34m\u001b[0m\u001b[0m\n\u001b[0m\u001b[1;32m    632\u001b[0m         )\n\u001b[1;32m    633\u001b[0m         \u001b[0;32mreturn\u001b[0m \u001b[0mresult\u001b[0m\u001b[0;34m.\u001b[0m\u001b[0mjson\u001b[0m\u001b[0;34m(\u001b[0m\u001b[0mobject_pairs_hook\u001b[0m\u001b[0;34m=\u001b[0m\u001b[0mOrderedDict\u001b[0m\u001b[0;34m)\u001b[0m\u001b[0;34m\u001b[0m\u001b[0;34m\u001b[0m\u001b[0m\n",
            "\u001b[0;32m/usr/local/lib/python3.6/dist-packages/simple_salesforce/api.py\u001b[0m in \u001b[0;36m_call_salesforce\u001b[0;34m(self, method, url, **kwargs)\u001b[0m\n\u001b[1;32m    798\u001b[0m \u001b[0;34m\u001b[0m\u001b[0m\n\u001b[1;32m    799\u001b[0m         \u001b[0;32mif\u001b[0m \u001b[0mresult\u001b[0m\u001b[0;34m.\u001b[0m\u001b[0mstatus_code\u001b[0m \u001b[0;34m>=\u001b[0m \u001b[0;36m300\u001b[0m\u001b[0;34m:\u001b[0m\u001b[0;34m\u001b[0m\u001b[0;34m\u001b[0m\u001b[0m\n\u001b[0;32m--> 800\u001b[0;31m             \u001b[0mexception_handler\u001b[0m\u001b[0;34m(\u001b[0m\u001b[0mresult\u001b[0m\u001b[0;34m,\u001b[0m \u001b[0mself\u001b[0m\u001b[0;34m.\u001b[0m\u001b[0mname\u001b[0m\u001b[0;34m)\u001b[0m\u001b[0;34m\u001b[0m\u001b[0;34m\u001b[0m\u001b[0m\n\u001b[0m\u001b[1;32m    801\u001b[0m \u001b[0;34m\u001b[0m\u001b[0m\n\u001b[1;32m    802\u001b[0m         \u001b[0msforce_limit_info\u001b[0m \u001b[0;34m=\u001b[0m \u001b[0mresult\u001b[0m\u001b[0;34m.\u001b[0m\u001b[0mheaders\u001b[0m\u001b[0;34m.\u001b[0m\u001b[0mget\u001b[0m\u001b[0;34m(\u001b[0m\u001b[0;34m'Sforce-Limit-Info'\u001b[0m\u001b[0;34m)\u001b[0m\u001b[0;34m\u001b[0m\u001b[0;34m\u001b[0m\u001b[0m\n",
            "\u001b[0;32m/usr/local/lib/python3.6/dist-packages/simple_salesforce/util.py\u001b[0m in \u001b[0;36mexception_handler\u001b[0;34m(result, name)\u001b[0m\n\u001b[1;32m     66\u001b[0m     \u001b[0mexc_cls\u001b[0m \u001b[0;34m=\u001b[0m \u001b[0mexc_map\u001b[0m\u001b[0;34m.\u001b[0m\u001b[0mget\u001b[0m\u001b[0;34m(\u001b[0m\u001b[0mresult\u001b[0m\u001b[0;34m.\u001b[0m\u001b[0mstatus_code\u001b[0m\u001b[0;34m,\u001b[0m \u001b[0mSalesforceGeneralError\u001b[0m\u001b[0;34m)\u001b[0m\u001b[0;34m\u001b[0m\u001b[0;34m\u001b[0m\u001b[0m\n\u001b[1;32m     67\u001b[0m \u001b[0;34m\u001b[0m\u001b[0m\n\u001b[0;32m---> 68\u001b[0;31m     \u001b[0;32mraise\u001b[0m \u001b[0mexc_cls\u001b[0m\u001b[0;34m(\u001b[0m\u001b[0mresult\u001b[0m\u001b[0;34m.\u001b[0m\u001b[0murl\u001b[0m\u001b[0;34m,\u001b[0m \u001b[0mresult\u001b[0m\u001b[0;34m.\u001b[0m\u001b[0mstatus_code\u001b[0m\u001b[0;34m,\u001b[0m \u001b[0mname\u001b[0m\u001b[0;34m,\u001b[0m \u001b[0mresponse_content\u001b[0m\u001b[0;34m)\u001b[0m\u001b[0;34m\u001b[0m\u001b[0;34m\u001b[0m\u001b[0m\n\u001b[0m\u001b[1;32m     69\u001b[0m \u001b[0;34m\u001b[0m\u001b[0m\n\u001b[1;32m     70\u001b[0m \u001b[0;34m\u001b[0m\u001b[0m\n",
            "\u001b[0;31mSalesforceResourceNotFound\u001b[0m: Resource Contact Not Found. Response content: [{'errorCode': 'NOT_FOUND', 'message': 'The requested resource does not exist'}]"
          ]
        }
      ]
    },
    {
      "cell_type": "code",
      "metadata": {
        "id": "WibZ6gqBaDHK"
      },
      "source": [
        "record = sf.query(\"SELECT Name FROM Contact\")"
      ],
      "execution_count": 18,
      "outputs": []
    },
    {
      "cell_type": "code",
      "metadata": {
        "colab": {
          "base_uri": "https://localhost:8080/"
        },
        "id": "fogQmrLGavcF",
        "outputId": "52b70356-7f1d-4c41-fbe6-b4fab6fc8347"
      },
      "source": [
        "record.popitem()"
      ],
      "execution_count": 23,
      "outputs": [
        {
          "output_type": "execute_result",
          "data": {
            "text/plain": [
              "('records',\n",
              " [OrderedDict([('attributes',\n",
              "                OrderedDict([('type', 'Contact'),\n",
              "                             ('url',\n",
              "                              '/services/data/v42.0/sobjects/Contact/0034x000007Tx1vAAC')])),\n",
              "               ('Name', 'Ermenrich Nalani')]),\n",
              "  OrderedDict([('attributes',\n",
              "                OrderedDict([('type', 'Contact'),\n",
              "                             ('url',\n",
              "                              '/services/data/v42.0/sobjects/Contact/0034x000007Tx1sAAC')])),\n",
              "               ('Name', 'John Doe')]),\n",
              "  OrderedDict([('attributes',\n",
              "                OrderedDict([('type', 'Contact'),\n",
              "                             ('url',\n",
              "                              '/services/data/v42.0/sobjects/Contact/0034x000007Tx1tAAC')])),\n",
              "               ('Name', 'Laetitia Arevik')]),\n",
              "  OrderedDict([('attributes',\n",
              "                OrderedDict([('type', 'Contact'),\n",
              "                             ('url',\n",
              "                              '/services/data/v42.0/sobjects/Contact/0034x000007Tx1uAAC')])),\n",
              "               ('Name', 'Meghan Gerald')]),\n",
              "  OrderedDict([('attributes',\n",
              "                OrderedDict([('type', 'Contact'),\n",
              "                             ('url',\n",
              "                              '/services/data/v42.0/sobjects/Contact/0034x000007TD8AAAW')])),\n",
              "               ('Name', 'Rose Gonzalez')]),\n",
              "  OrderedDict([('attributes',\n",
              "                OrderedDict([('type', 'Contact'),\n",
              "                             ('url',\n",
              "                              '/services/data/v42.0/sobjects/Contact/0034x000007TD8BAAW')])),\n",
              "               ('Name', 'Sean Forbes')]),\n",
              "  OrderedDict([('attributes',\n",
              "                OrderedDict([('type', 'Contact'),\n",
              "                             ('url',\n",
              "                              '/services/data/v42.0/sobjects/Contact/0034x000007TD8CAAW')])),\n",
              "               ('Name', 'Jack Rogers')]),\n",
              "  OrderedDict([('attributes',\n",
              "                OrderedDict([('type', 'Contact'),\n",
              "                             ('url',\n",
              "                              '/services/data/v42.0/sobjects/Contact/0034x000007TD8DAAW')])),\n",
              "               ('Name', 'Pat Stumuller')]),\n",
              "  OrderedDict([('attributes',\n",
              "                OrderedDict([('type', 'Contact'),\n",
              "                             ('url',\n",
              "                              '/services/data/v42.0/sobjects/Contact/0034x000007TD8EAAW')])),\n",
              "               ('Name', 'Andy Young')]),\n",
              "  OrderedDict([('attributes',\n",
              "                OrderedDict([('type', 'Contact'),\n",
              "                             ('url',\n",
              "                              '/services/data/v42.0/sobjects/Contact/0034x000007TD8FAAW')])),\n",
              "               ('Name', 'Tim Barr')]),\n",
              "  OrderedDict([('attributes',\n",
              "                OrderedDict([('type', 'Contact'),\n",
              "                             ('url',\n",
              "                              '/services/data/v42.0/sobjects/Contact/0034x000007TD8GAAW')])),\n",
              "               ('Name', 'John Bond')]),\n",
              "  OrderedDict([('attributes',\n",
              "                OrderedDict([('type', 'Contact'),\n",
              "                             ('url',\n",
              "                              '/services/data/v42.0/sobjects/Contact/0034x000007TD8HAAW')])),\n",
              "               ('Name', 'Stella Pavlova')]),\n",
              "  OrderedDict([('attributes',\n",
              "                OrderedDict([('type', 'Contact'),\n",
              "                             ('url',\n",
              "                              '/services/data/v42.0/sobjects/Contact/0034x000007TD8IAAW')])),\n",
              "               ('Name', 'Lauren Boyle')]),\n",
              "  OrderedDict([('attributes',\n",
              "                OrderedDict([('type', 'Contact'),\n",
              "                             ('url',\n",
              "                              '/services/data/v42.0/sobjects/Contact/0034x000007TD8JAAW')])),\n",
              "               ('Name', 'Babara Levy')]),\n",
              "  OrderedDict([('attributes',\n",
              "                OrderedDict([('type', 'Contact'),\n",
              "                             ('url',\n",
              "                              '/services/data/v42.0/sobjects/Contact/0034x000007TD8KAAW')])),\n",
              "               ('Name', 'Josh Davis')]),\n",
              "  OrderedDict([('attributes',\n",
              "                OrderedDict([('type', 'Contact'),\n",
              "                             ('url',\n",
              "                              '/services/data/v42.0/sobjects/Contact/0034x000007TD8LAAW')])),\n",
              "               ('Name', 'Jane Grey')]),\n",
              "  OrderedDict([('attributes',\n",
              "                OrderedDict([('type', 'Contact'),\n",
              "                             ('url',\n",
              "                              '/services/data/v42.0/sobjects/Contact/0034x000007TD8MAAW')])),\n",
              "               ('Name', 'Arthur Song')]),\n",
              "  OrderedDict([('attributes',\n",
              "                OrderedDict([('type', 'Contact'),\n",
              "                             ('url',\n",
              "                              '/services/data/v42.0/sobjects/Contact/0034x000007TD8NAAW')])),\n",
              "               ('Name', 'Ashley James')]),\n",
              "  OrderedDict([('attributes',\n",
              "                OrderedDict([('type', 'Contact'),\n",
              "                             ('url',\n",
              "                              '/services/data/v42.0/sobjects/Contact/0034x000007TD8OAAW')])),\n",
              "               ('Name', 'Tom Ripley')]),\n",
              "  OrderedDict([('attributes',\n",
              "                OrderedDict([('type', 'Contact'),\n",
              "                             ('url',\n",
              "                              '/services/data/v42.0/sobjects/Contact/0034x000007TD8PAAW')])),\n",
              "               ('Name', \"Liz D'Cruz\")]),\n",
              "  OrderedDict([('attributes',\n",
              "                OrderedDict([('type', 'Contact'),\n",
              "                             ('url',\n",
              "                              '/services/data/v42.0/sobjects/Contact/0034x000007TD8QAAW')])),\n",
              "               ('Name', 'Edna Frank')]),\n",
              "  OrderedDict([('attributes',\n",
              "                OrderedDict([('type', 'Contact'),\n",
              "                             ('url',\n",
              "                              '/services/data/v42.0/sobjects/Contact/0034x000007TD8RAAW')])),\n",
              "               ('Name', 'Avi Green')]),\n",
              "  OrderedDict([('attributes',\n",
              "                OrderedDict([('type', 'Contact'),\n",
              "                             ('url',\n",
              "                              '/services/data/v42.0/sobjects/Contact/0034x000007TD8SAAW')])),\n",
              "               ('Name', 'Siddartha Nedaerk')]),\n",
              "  OrderedDict([('attributes',\n",
              "                OrderedDict([('type', 'Contact'),\n",
              "                             ('url',\n",
              "                              '/services/data/v42.0/sobjects/Contact/0034x000007TD8TAAW')])),\n",
              "               ('Name', 'Jake Llorrac')])])"
            ]
          },
          "metadata": {
            "tags": []
          },
          "execution_count": 23
        }
      ]
    }
  ]
}