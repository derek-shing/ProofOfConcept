{
  "nbformat": 4,
  "nbformat_minor": 0,
  "metadata": {
    "colab": {
      "name": "Speech_to_text.ipynb",
      "provenance": [],
      "authorship_tag": "ABX9TyO4V392vJBKCFBteFGOkOOO",
      "include_colab_link": true
    },
    "kernelspec": {
      "name": "python3",
      "display_name": "Python 3"
    }
  },
  "cells": [
    {
      "cell_type": "markdown",
      "metadata": {
        "id": "view-in-github",
        "colab_type": "text"
      },
      "source": [
        "<a href=\"https://colab.research.google.com/github/derek-shing/ProofOfConcept/blob/master/Speech_to_text.ipynb\" target=\"_parent\"><img src=\"https://colab.research.google.com/assets/colab-badge.svg\" alt=\"Open In Colab\"/></a>"
      ]
    },
    {
      "cell_type": "markdown",
      "metadata": {
        "id": "7X9CjNTyRkuJ",
        "colab_type": "text"
      },
      "source": [
        "#Testing the Speech to Text Cantonese API\n",
        "\n",
        "\n",
        "1.   Preprocessing the audio file\n",
        "\n",
        "\n",
        "*   How to record sound\n",
        "*   turn to correct format\n",
        "*   display codec spec.\n",
        "*   Save to Storage\n",
        "\n",
        "\n",
        "\n",
        "2.   Using AutoML API\n",
        "*    Read from Storage\n",
        "*    Call the API\n",
        "*    Store the result to Firestore\n",
        "\n",
        "https://cloud.google.com/firestore/docs/quickstart-servers\n",
        "\n",
        "\n",
        "https://cloud.google.com/speech-to-text/docs/quickstart  \n",
        "\n",
        "Convert mp3 to wav:\n",
        "\n",
        "https://www.online-convert.com/result/b85182ca-bb4a-47a1-9d58-86e22f150a87\n",
        "\n",
        "\n",
        "\n",
        "\n",
        "\n"
      ]
    },
    {
      "cell_type": "code",
      "metadata": {
        "id": "iQ5mljBPRjkT",
        "colab_type": "code",
        "colab": {}
      },
      "source": [
        "project_id = 'my-project-1558599394309'"
      ],
      "execution_count": 0,
      "outputs": []
    },
    {
      "cell_type": "code",
      "metadata": {
        "id": "H3d88FoFUKpB",
        "colab_type": "code",
        "colab": {}
      },
      "source": [
        "from google.colab import auth\n",
        "auth.authenticate_user()"
      ],
      "execution_count": 0,
      "outputs": []
    },
    {
      "cell_type": "code",
      "metadata": {
        "id": "j9g2829rUoXI",
        "colab_type": "code",
        "outputId": "32ed0903-7d9d-442b-a2ac-2b7c528aa542",
        "colab": {
          "base_uri": "https://localhost:8080/",
          "height": 118
        }
      },
      "source": [
        "!gcloud config set project {project_id}"
      ],
      "execution_count": 3,
      "outputs": [
        {
          "output_type": "stream",
          "text": [
            "Updated property [core/project].\n",
            "\n",
            "\n",
            "To take a quick anonymous survey, run:\n",
            "  $ gcloud survey\n",
            "\n"
          ],
          "name": "stdout"
        }
      ]
    },
    {
      "cell_type": "code",
      "metadata": {
        "id": "go46rSDsWPFE",
        "colab_type": "code",
        "outputId": "3ac1f382-da47-44be-9d98-e5806dd4a6da",
        "colab": {
          "base_uri": "https://localhost:8080/",
          "height": 67
        }
      },
      "source": [
        "!gsutil cp gs://food1430/newSong.wav newSong.wav"
      ],
      "execution_count": 4,
      "outputs": [
        {
          "output_type": "stream",
          "text": [
            "Copying gs://food1430/newSong.wav...\n",
            "- [1 files][ 10.1 MiB/ 10.1 MiB]                                                \n",
            "Operation completed over 1 objects/10.1 MiB.                                     \n"
          ],
          "name": "stdout"
        }
      ]
    },
    {
      "cell_type": "code",
      "metadata": {
        "id": "UF3_069JssXH",
        "colab_type": "code",
        "outputId": "a8e73bf7-ffc0-491e-a53a-172f44a1b20a",
        "colab": {
          "base_uri": "https://localhost:8080/",
          "height": 649
        }
      },
      "source": [
        "!ffmpeg -i cantonese_flac.flac -ac 1 mono.flac"
      ],
      "execution_count": 0,
      "outputs": [
        {
          "output_type": "stream",
          "text": [
            "ffmpeg version 3.4.6-0ubuntu0.18.04.1 Copyright (c) 2000-2019 the FFmpeg developers\n",
            "  built with gcc 7 (Ubuntu 7.3.0-16ubuntu3)\n",
            "  configuration: --prefix=/usr --extra-version=0ubuntu0.18.04.1 --toolchain=hardened --libdir=/usr/lib/x86_64-linux-gnu --incdir=/usr/include/x86_64-linux-gnu --enable-gpl --disable-stripping --enable-avresample --enable-avisynth --enable-gnutls --enable-ladspa --enable-libass --enable-libbluray --enable-libbs2b --enable-libcaca --enable-libcdio --enable-libflite --enable-libfontconfig --enable-libfreetype --enable-libfribidi --enable-libgme --enable-libgsm --enable-libmp3lame --enable-libmysofa --enable-libopenjpeg --enable-libopenmpt --enable-libopus --enable-libpulse --enable-librubberband --enable-librsvg --enable-libshine --enable-libsnappy --enable-libsoxr --enable-libspeex --enable-libssh --enable-libtheora --enable-libtwolame --enable-libvorbis --enable-libvpx --enable-libwavpack --enable-libwebp --enable-libx265 --enable-libxml2 --enable-libxvid --enable-libzmq --enable-libzvbi --enable-omx --enable-openal --enable-opengl --enable-sdl2 --enable-libdc1394 --enable-libdrm --enable-libiec61883 --enable-chromaprint --enable-frei0r --enable-libopencv --enable-libx264 --enable-shared\n",
            "  libavutil      55. 78.100 / 55. 78.100\n",
            "  libavcodec     57.107.100 / 57.107.100\n",
            "  libavformat    57. 83.100 / 57. 83.100\n",
            "  libavdevice    57. 10.100 / 57. 10.100\n",
            "  libavfilter     6.107.100 /  6.107.100\n",
            "  libavresample   3.  7.  0 /  3.  7.  0\n",
            "  libswscale      4.  8.100 /  4.  8.100\n",
            "  libswresample   2.  9.100 /  2.  9.100\n",
            "  libpostproc    54.  7.100 / 54.  7.100\n",
            "Input #0, flac, from 'cantonese_flac.flac':\n",
            "  Metadata:\n",
            "    MAJOR_BRAND     : M4A \n",
            "    MINOR_VERSION   : 0\n",
            "    COMPATIBLE_BRANDS: M4A mp42isom\n",
            "    ITUNSMPB        :  00000000 00000840 00000000 00000000002107C0 00000000 00000000 00000000 00000000 00000000 00000000 00000000 00000000\n",
            "    ENCODER         : Lavf58.29.100\n",
            "  Duration: 00:00:49.09, start: 0.000000, bitrate: 559 kb/s\n",
            "    Stream #0:0: Audio: flac, 44100 Hz, stereo, s32 (24 bit)\n",
            "Stream mapping:\n",
            "  Stream #0:0 -> #0:0 (flac (native) -> flac (native))\n",
            "Press [q] to stop, [?] for help\n",
            "Output #0, flac, to 'mono.flac':\n",
            "  Metadata:\n",
            "    MAJOR_BRAND     : M4A \n",
            "    MINOR_VERSION   : 0\n",
            "    COMPATIBLE_BRANDS: M4A mp42isom\n",
            "    ITUNSMPB        :  00000000 00000840 00000000 00000000002107C0 00000000 00000000 00000000 00000000 00000000 00000000 00000000 00000000\n",
            "    encoder         : Lavf57.83.100\n",
            "    Stream #0:0: Audio: flac, 44100 Hz, mono, s32 (24 bit), 128 kb/s\n",
            "    Metadata:\n",
            "      encoder         : Lavc57.107.100 flac\n",
            "size=    3088kB time=00:00:49.08 bitrate= 515.4kbits/s speed= 252x    \n",
            "video:0kB audio:3080kB subtitle:0kB other streams:0kB global headers:0kB muxing overhead: 0.269182%\n"
          ],
          "name": "stdout"
        }
      ]
    },
    {
      "cell_type": "code",
      "metadata": {
        "id": "vKiV3hztk7RX",
        "colab_type": "code",
        "outputId": "816cc31c-01c1-4217-92ce-d5127e57c29c",
        "colab": {
          "base_uri": "https://localhost:8080/",
          "height": 204
        }
      },
      "source": [
        "!wget https://www.signalogic.com/melp/eng_noise/orig/car.wav"
      ],
      "execution_count": 0,
      "outputs": [
        {
          "output_type": "stream",
          "text": [
            "--2020-01-24 08:03:49--  https://www.signalogic.com/melp/eng_noise/orig/car.wav\n",
            "Resolving www.signalogic.com (www.signalogic.com)... 209.150.126.178\n",
            "Connecting to www.signalogic.com (www.signalogic.com)|209.150.126.178|:443... connected.\n",
            "HTTP request sent, awaiting response... 200 OK\n",
            "Length: 256044 (250K) [audio/x-wav]\n",
            "Saving to: ‘car.wav’\n",
            "\n",
            "\rcar.wav               0%[                    ]       0  --.-KB/s               \rcar.wav             100%[===================>] 250.04K  --.-KB/s    in 0.06s   \n",
            "\n",
            "2020-01-24 08:03:49 (4.41 MB/s) - ‘car.wav’ saved [256044/256044]\n",
            "\n"
          ],
          "name": "stdout"
        }
      ]
    },
    {
      "cell_type": "code",
      "metadata": {
        "id": "L2ekqyjglaq6",
        "colab_type": "code",
        "outputId": "3cbc8910-48cf-4b4a-b28b-9ef1ca8de781",
        "colab": {
          "base_uri": "https://localhost:8080/",
          "height": 68
        }
      },
      "source": [
        "!gsutil cp /content/car.wav gs://food1430/car.wav"
      ],
      "execution_count": 0,
      "outputs": [
        {
          "output_type": "stream",
          "text": [
            "Copying file:///content/car.wav [Content-Type=audio/x-wav]...\n",
            "-\n",
            "Operation completed over 1 objects/250.0 KiB.                                    \n"
          ],
          "name": "stdout"
        }
      ]
    },
    {
      "cell_type": "code",
      "metadata": {
        "id": "aDyWnNFKoOse",
        "colab_type": "code",
        "colab": {}
      },
      "source": [
        "import os\n",
        "os.environ[\"GOOGLE_APPLICATION_CREDENTIALS\"] = \"/content/drive/My Drive/GCP_account.json\""
      ],
      "execution_count": 0,
      "outputs": []
    },
    {
      "cell_type": "code",
      "metadata": {
        "id": "i_1JbZ4EomJy",
        "colab_type": "code",
        "outputId": "62d2fe01-9654-4478-e8b9-d870cfd57d2a",
        "colab": {
          "base_uri": "https://localhost:8080/",
          "height": 121
        }
      },
      "source": [
        "from google.colab import drive\n",
        "drive.mount('/content/drive')"
      ],
      "execution_count": 6,
      "outputs": [
        {
          "output_type": "stream",
          "text": [
            "Go to this URL in a browser: https://accounts.google.com/o/oauth2/auth?client_id=947318989803-6bn6qk8qdgf4n4g3pfee6491hc0brc4i.apps.googleusercontent.com&redirect_uri=urn%3aietf%3awg%3aoauth%3a2.0%3aoob&response_type=code&scope=email%20https%3a%2f%2fwww.googleapis.com%2fauth%2fdocs.test%20https%3a%2f%2fwww.googleapis.com%2fauth%2fdrive%20https%3a%2f%2fwww.googleapis.com%2fauth%2fdrive.photos.readonly%20https%3a%2f%2fwww.googleapis.com%2fauth%2fpeopleapi.readonly\n",
            "\n",
            "Enter your authorization code:\n",
            "··········\n",
            "Mounted at /content/drive\n"
          ],
          "name": "stdout"
        }
      ]
    },
    {
      "cell_type": "code",
      "metadata": {
        "id": "zqMAQDm5pbNZ",
        "colab_type": "code",
        "outputId": "00cb62df-1432-43ae-9bb5-9a90fe44ff52",
        "colab": {
          "base_uri": "https://localhost:8080/",
          "height": 491
        }
      },
      "source": [
        "pip install google-cloud-speech"
      ],
      "execution_count": 7,
      "outputs": [
        {
          "output_type": "stream",
          "text": [
            "Collecting google-cloud-speech\n",
            "\u001b[?25l  Downloading https://files.pythonhosted.org/packages/0c/81/c59a373c7668beb9de922b9c4419b793898d46c6d4a44f4fe28098e77623/google_cloud_speech-1.3.1-py2.py3-none-any.whl (88kB)\n",
            "\r\u001b[K     |███▊                            | 10kB 27.8MB/s eta 0:00:01\r\u001b[K     |███████▍                        | 20kB 6.4MB/s eta 0:00:01\r\u001b[K     |███████████▏                    | 30kB 7.4MB/s eta 0:00:01\r\u001b[K     |██████████████▉                 | 40kB 5.9MB/s eta 0:00:01\r\u001b[K     |██████████████████▋             | 51kB 6.2MB/s eta 0:00:01\r\u001b[K     |██████████████████████▎         | 61kB 7.3MB/s eta 0:00:01\r\u001b[K     |██████████████████████████      | 71kB 8.0MB/s eta 0:00:01\r\u001b[K     |█████████████████████████████▊  | 81kB 8.3MB/s eta 0:00:01\r\u001b[K     |████████████████████████████████| 92kB 5.8MB/s \n",
            "\u001b[?25hRequirement already satisfied: google-api-core[grpc]<2.0.0dev,>=1.14.0 in /usr/local/lib/python3.6/dist-packages (from google-cloud-speech) (1.15.0)\n",
            "Requirement already satisfied: pytz in /usr/local/lib/python3.6/dist-packages (from google-api-core[grpc]<2.0.0dev,>=1.14.0->google-cloud-speech) (2018.9)\n",
            "Requirement already satisfied: six>=1.10.0 in /usr/local/lib/python3.6/dist-packages (from google-api-core[grpc]<2.0.0dev,>=1.14.0->google-cloud-speech) (1.12.0)\n",
            "Requirement already satisfied: setuptools>=34.0.0 in /usr/local/lib/python3.6/dist-packages (from google-api-core[grpc]<2.0.0dev,>=1.14.0->google-cloud-speech) (42.0.2)\n",
            "Requirement already satisfied: google-auth<2.0dev,>=0.4.0 in /usr/local/lib/python3.6/dist-packages (from google-api-core[grpc]<2.0.0dev,>=1.14.0->google-cloud-speech) (1.4.2)\n",
            "Requirement already satisfied: googleapis-common-protos<2.0dev,>=1.6.0 in /usr/local/lib/python3.6/dist-packages (from google-api-core[grpc]<2.0.0dev,>=1.14.0->google-cloud-speech) (1.6.0)\n",
            "Requirement already satisfied: requests<3.0.0dev,>=2.18.0 in /usr/local/lib/python3.6/dist-packages (from google-api-core[grpc]<2.0.0dev,>=1.14.0->google-cloud-speech) (2.21.0)\n",
            "Requirement already satisfied: protobuf>=3.4.0 in /usr/local/lib/python3.6/dist-packages (from google-api-core[grpc]<2.0.0dev,>=1.14.0->google-cloud-speech) (3.10.0)\n",
            "Requirement already satisfied: grpcio<2.0dev,>=1.8.2; extra == \"grpc\" in /usr/local/lib/python3.6/dist-packages (from google-api-core[grpc]<2.0.0dev,>=1.14.0->google-cloud-speech) (1.15.0)\n",
            "Requirement already satisfied: rsa>=3.1.4 in /usr/local/lib/python3.6/dist-packages (from google-auth<2.0dev,>=0.4.0->google-api-core[grpc]<2.0.0dev,>=1.14.0->google-cloud-speech) (4.0)\n",
            "Requirement already satisfied: pyasn1-modules>=0.2.1 in /usr/local/lib/python3.6/dist-packages (from google-auth<2.0dev,>=0.4.0->google-api-core[grpc]<2.0.0dev,>=1.14.0->google-cloud-speech) (0.2.7)\n",
            "Requirement already satisfied: cachetools>=2.0.0 in /usr/local/lib/python3.6/dist-packages (from google-auth<2.0dev,>=0.4.0->google-api-core[grpc]<2.0.0dev,>=1.14.0->google-cloud-speech) (4.0.0)\n",
            "Requirement already satisfied: idna<2.9,>=2.5 in /usr/local/lib/python3.6/dist-packages (from requests<3.0.0dev,>=2.18.0->google-api-core[grpc]<2.0.0dev,>=1.14.0->google-cloud-speech) (2.8)\n",
            "Requirement already satisfied: certifi>=2017.4.17 in /usr/local/lib/python3.6/dist-packages (from requests<3.0.0dev,>=2.18.0->google-api-core[grpc]<2.0.0dev,>=1.14.0->google-cloud-speech) (2019.11.28)\n",
            "Requirement already satisfied: urllib3<1.25,>=1.21.1 in /usr/local/lib/python3.6/dist-packages (from requests<3.0.0dev,>=2.18.0->google-api-core[grpc]<2.0.0dev,>=1.14.0->google-cloud-speech) (1.24.3)\n",
            "Requirement already satisfied: chardet<3.1.0,>=3.0.2 in /usr/local/lib/python3.6/dist-packages (from requests<3.0.0dev,>=2.18.0->google-api-core[grpc]<2.0.0dev,>=1.14.0->google-cloud-speech) (3.0.4)\n",
            "Requirement already satisfied: pyasn1>=0.1.3 in /usr/local/lib/python3.6/dist-packages (from rsa>=3.1.4->google-auth<2.0dev,>=0.4.0->google-api-core[grpc]<2.0.0dev,>=1.14.0->google-cloud-speech) (0.4.8)\n",
            "Installing collected packages: google-cloud-speech\n",
            "Successfully installed google-cloud-speech-1.3.1\n"
          ],
          "name": "stdout"
        },
        {
          "output_type": "display_data",
          "data": {
            "application/vnd.colab-display-data+json": {
              "pip_warning": {
                "packages": [
                  "google"
                ]
              }
            }
          },
          "metadata": {
            "tags": []
          }
        }
      ]
    },
    {
      "cell_type": "code",
      "metadata": {
        "id": "CJaoboRiWrjO",
        "colab_type": "code",
        "colab": {}
      },
      "source": [
        "import io\n",
        "import os\n",
        "\n",
        "# Imports the Google Cloud client library\n",
        "from google.cloud import speech\n",
        "from google.cloud.speech import enums\n",
        "from google.cloud.speech import types\n",
        "\n",
        "# Instantiates a client\n",
        "client = speech.SpeechClient()\n",
        "\n",
        "# The name of the audio file to transcribe\n",
        "#file_name = os.path.join(\n",
        "#    os.path.dirname(__file__),\n",
        "#    'resources',\n",
        "#    'audio.raw')\n",
        "\n",
        "file_name='/content/newSong.wav'\n",
        "\n",
        "# Loads the audio into memory\n",
        "with io.open(file_name, 'rb') as audio_file:\n",
        "    content = audio_file.read()\n",
        "    audio = types.RecognitionAudio(content=content)\n",
        "\n",
        "config = types.RecognitionConfig(\n",
        "    encoding=enums.RecognitionConfig.AudioEncoding.FLAC,\n",
        "    sample_rate_hertz=44100,\n",
        "    language_code='yue-Hant-HK')\n",
        "\n",
        "# Detects speech in the audio file\n",
        "response = client.recognize(config, audio)\n",
        "\n",
        "for result in response.results:\n",
        "    print('Transcript: {}'.format(result.alternatives[0].transcript))"
      ],
      "execution_count": 0,
      "outputs": []
    },
    {
      "cell_type": "code",
      "metadata": {
        "id": "SuLIbuwz0zWE",
        "colab_type": "code",
        "colab": {}
      },
      "source": [
        "from google.cloud import speech_v1\n",
        "from google.cloud.speech_v1 import enums\n",
        "\n",
        "\n",
        "def sample_long_running_recognize(storage_uri):\n",
        "    \"\"\"\n",
        "    Transcribe long audio file from Cloud Storage using asynchronous speech\n",
        "    recognition\n",
        "\n",
        "    Args:\n",
        "      storage_uri URI for audio file in Cloud Storage, e.g. gs://[BUCKET]/[FILE]\n",
        "    \"\"\"\n",
        "\n",
        "    client = speech_v1.SpeechClient()\n",
        "\n",
        "    # storage_uri = 'gs://cloud-samples-data/speech/brooklyn_bridge.raw'\n",
        "\n",
        "    # Sample rate in Hertz of the audio data sent\n",
        "    sample_rate_hertz = 44100\n",
        "\n",
        "    # The language of the supplied audio\n",
        "    language_code = \"yue-Hant-HK\"\n",
        "\n",
        "    # Encoding of audio data sent. This sample sets this explicitly.\n",
        "    # This field is optional for FLAC and WAV audio formats.\n",
        "    encoding = enums.RecognitionConfig.AudioEncoding.LINEAR16\n",
        "    config = {\n",
        "        \"sample_rate_hertz\": sample_rate_hertz,\n",
        "        \"language_code\": language_code,\n",
        "        \"encoding\": encoding,\n",
        "    }\n",
        "    audio = {\"uri\": storage_uri}\n",
        "\n",
        "    operation = client.long_running_recognize(config, audio)\n",
        "\n",
        "    print(u\"Waiting for operation to complete...\")\n",
        "    response = operation.result()\n",
        "\n",
        "    for result in response.results:\n",
        "        # First alternative is the most probable result\n",
        "        alternative = result.alternatives[0]\n",
        "        print(u\"Transcript: {}\".format(alternative.transcript))\n",
        "    return response"
      ],
      "execution_count": 0,
      "outputs": []
    },
    {
      "cell_type": "code",
      "metadata": {
        "id": "PgmlJO0Klmmk",
        "colab_type": "code",
        "colab": {
          "base_uri": "https://localhost:8080/",
          "height": 87
        },
        "outputId": "408bd95a-5b62-4d49-f9b7-7453223dd5a1"
      },
      "source": [
        "uri=\"gs://food1430/newSong.wav\"\n",
        "data = sample_long_running_recognize(uri)"
      ],
      "execution_count": 9,
      "outputs": [
        {
          "output_type": "stream",
          "text": [
            "Waiting for operation to complete...\n",
            "Transcript: 美式無限無限寬頻人人有份好歡迎大家收聽今日嘅無限寬頻我已經為大家可以畫3d今日呢我就準備咗一間餐廳同你講下因為我覺得你會鍾意食嘅嘢嚟嘅佢每次都話我鍾意食嘅嘢好容易搵嘅啫因為我可以食嘅咁有啲嘢係你冇咁鍾意食㗎嘛甜品呢樣嘢呢其實就先講星期日本日本日本餐廳啦咁後日本餐都好多種㗎嘛食好多嘢嘅我覺得係比較\n",
            "Transcript: 人哋啲譬如係一個唔係亞洲人啦可能係其他文化嘅人呢都會接受食呢樣嘢因為唔係嗰啲生嘢食食完返去你會驚我哋飲住先我哋約下中國飲茶食嗰啲鳳爪佢哋又會驚㗎咁樣嘢呢就基本上佢哋唔會驚嘅食緊嚟㗎咁所以係比較大就快啲囉應該就唔會拉麵咁普通啦唔係會唔會係日本嘅定食嗰啲嘢嘅舖頭特別在咩呢佢開鋪頭嗰個人下低嗰個主廚個師傅呢佢並唔係日本人哋嘅咁個故事好得意下其實佢個鼻老人\n"
          ],
          "name": "stdout"
        }
      ]
    },
    {
      "cell_type": "code",
      "metadata": {
        "id": "eqz3ntCyV1yK",
        "colab_type": "code",
        "colab": {
          "base_uri": "https://localhost:8080/",
          "height": 238
        },
        "outputId": "7b7aa08e-0704-4b60-e48f-2cb6a7b943a4"
      },
      "source": [
        "data"
      ],
      "execution_count": 12,
      "outputs": [
        {
          "output_type": "execute_result",
          "data": {
            "text/plain": [
              "results {\n",
              "  alternatives {\n",
              "    transcript: \"\\347\\276\\216\\345\\274\\217\\347\\204\\241\\351\\231\\220\\347\\204\\241\\351\\231\\220\\345\\257\\254\\351\\240\\273\\344\\272\\272\\344\\272\\272\\346\\234\\211\\344\\273\\275\\345\\245\\275\\346\\255\\241\\350\\277\\216\\345\\244\\247\\345\\256\\266\\346\\224\\266\\350\\201\\275\\344\\273\\212\\346\\227\\245\\345\\230\\205\\347\\204\\241\\351\\231\\220\\345\\257\\254\\351\\240\\273\\346\\210\\221\\345\\267\\262\\347\\266\\223\\347\\202\\272\\345\\244\\247\\345\\256\\266\\345\\217\\257\\344\\273\\245\\347\\225\\2533d\\344\\273\\212\\346\\227\\245\\345\\221\\242\\346\\210\\221\\345\\260\\261\\346\\272\\226\\345\\202\\231\\345\\222\\227\\344\\270\\200\\351\\226\\223\\351\\244\\220\\345\\273\\263\\345\\220\\214\\344\\275\\240\\350\\254\\233\\344\\270\\213\\345\\233\\240\\347\\202\\272\\346\\210\\221\\350\\246\\272\\345\\276\\227\\344\\275\\240\\346\\234\\203\\351\\215\\276\\346\\204\\217\\351\\243\\237\\345\\230\\205\\345\\230\\242\\345\\232\\237\\345\\230\\205\\344\\275\\242\\346\\257\\217\\346\\254\\241\\351\\203\\275\\350\\251\\261\\346\\210\\221\\351\\215\\276\\346\\204\\217\\351\\243\\237\\345\\230\\205\\345\\230\\242\\345\\245\\275\\345\\256\\271\\346\\230\\223\\346\\220\\265\\345\\230\\205\\345\\225\\253\\345\\233\\240\\347\\202\\272\\346\\210\\221\\345\\217\\257\\344\\273\\245\\351\\243\\237\\345\\230\\205\\345\\222\\201\\346\\234\\211\\345\\225\\262\\345\\230\\242\\344\\277\\202\\344\\275\\240\\345\\206\\207\\345\\222\\201\\351\\215\\276\\346\\204\\217\\351\\243\\237\\343\\227\\216\\345\\230\\233\\347\\224\\234\\345\\223\\201\\345\\221\\242\\346\\250\\243\\345\\230\\242\\345\\221\\242\\345\\205\\266\\345\\257\\246\\345\\260\\261\\345\\205\\210\\350\\254\\233\\346\\230\\237\\346\\234\\237\\346\\227\\245\\346\\234\\254\\346\\227\\245\\346\\234\\254\\346\\227\\245\\346\\234\\254\\351\\244\\220\\345\\273\\263\\345\\225\\246\\345\\222\\201\\345\\276\\214\\346\\227\\245\\346\\234\\254\\351\\244\\220\\351\\203\\275\\345\\245\\275\\345\\244\\232\\347\\250\\256\\343\\227\\216\\345\\230\\233\\351\\243\\237\\345\\245\\275\\345\\244\\232\\345\\230\\242\\345\\230\\205\\346\\210\\221\\350\\246\\272\\345\\276\\227\\344\\277\\202\\346\\257\\224\\350\\274\\203\"\n",
              "    confidence: 0.9456586241722107\n",
              "  }\n",
              "}\n",
              "results {\n",
              "  alternatives {\n",
              "    transcript: \"\\344\\272\\272\\345\\223\\213\\345\\225\\262\\350\\255\\254\\345\\246\\202\\344\\277\\202\\344\\270\\200\\345\\200\\213\\345\\224\\224\\344\\277\\202\\344\\272\\236\\346\\264\\262\\344\\272\\272\\345\\225\\246\\345\\217\\257\\350\\203\\275\\344\\277\\202\\345\\205\\266\\344\\273\\226\\346\\226\\207\\345\\214\\226\\345\\230\\205\\344\\272\\272\\345\\221\\242\\351\\203\\275\\346\\234\\203\\346\\216\\245\\345\\217\\227\\351\\243\\237\\345\\221\\242\\346\\250\\243\\345\\230\\242\\345\\233\\240\\347\\202\\272\\345\\224\\224\\344\\277\\202\\345\\227\\260\\345\\225\\262\\347\\224\\237\\345\\230\\242\\351\\243\\237\\351\\243\\237\\345\\256\\214\\350\\277\\224\\345\\216\\273\\344\\275\\240\\346\\234\\203\\351\\251\\232\\346\\210\\221\\345\\223\\213\\351\\243\\262\\344\\275\\217\\345\\205\\210\\346\\210\\221\\345\\223\\213\\347\\264\\204\\344\\270\\213\\344\\270\\255\\345\\234\\213\\351\\243\\262\\350\\214\\266\\351\\243\\237\\345\\227\\260\\345\\225\\262\\351\\263\\263\\347\\210\\252\\344\\275\\242\\345\\223\\213\\345\\217\\210\\346\\234\\203\\351\\251\\232\\343\\227\\216\\345\\222\\201\\346\\250\\243\\345\\230\\242\\345\\221\\242\\345\\260\\261\\345\\237\\272\\346\\234\\254\\344\\270\\212\\344\\275\\242\\345\\223\\213\\345\\224\\224\\346\\234\\203\\351\\251\\232\\345\\230\\205\\351\\243\\237\\347\\267\\212\\345\\232\\237\\343\\227\\216\\345\\222\\201\\346\\211\\200\\344\\273\\245\\344\\277\\202\\346\\257\\224\\350\\274\\203\\345\\244\\247\\345\\260\\261\\345\\277\\253\\345\\225\\262\\345\\233\\211\\346\\207\\211\\350\\251\\262\\345\\260\\261\\345\\224\\224\\346\\234\\203\\346\\213\\211\\351\\272\\265\\345\\222\\201\\346\\231\\256\\351\\200\\232\\345\\225\\246\\345\\224\\224\\344\\277\\202\\346\\234\\203\\345\\224\\224\\346\\234\\203\\344\\277\\202\\346\\227\\245\\346\\234\\254\\345\\230\\205\\345\\256\\232\\351\\243\\237\\345\\227\\260\\345\\225\\262\\345\\230\\242\\345\\230\\205\\350\\210\\226\\351\\240\\255\\347\\211\\271\\345\\210\\245\\345\\234\\250\\345\\222\\251\\345\\221\\242\\344\\275\\242\\351\\226\\213\\351\\213\\252\\351\\240\\255\\345\\227\\260\\345\\200\\213\\344\\272\\272\\344\\270\\213\\344\\275\\216\\345\\227\\260\\345\\200\\213\\344\\270\\273\\345\\273\\232\\345\\200\\213\\345\\270\\253\\345\\202\\205\\345\\221\\242\\344\\275\\242\\344\\270\\246\\345\\224\\224\\344\\277\\202\\346\\227\\245\\346\\234\\254\\344\\272\\272\\345\\223\\213\\345\\230\\205\\345\\222\\201\\345\\200\\213\\346\\225\\205\\344\\272\\213\\345\\245\\275\\345\\276\\227\\346\\204\\217\\344\\270\\213\\345\\205\\266\\345\\257\\246\\344\\275\\242\\345\\200\\213\\351\\274\\273\\350\\200\\201\\344\\272\\272\"\n",
              "    confidence: 0.9434411525726318\n",
              "  }\n",
              "}"
            ]
          },
          "metadata": {
            "tags": []
          },
          "execution_count": 12
        }
      ]
    },
    {
      "cell_type": "code",
      "metadata": {
        "id": "lPqlX-H5WF9a",
        "colab_type": "code",
        "colab": {
          "base_uri": "https://localhost:8080/",
          "height": 54
        },
        "outputId": "04dafc65-2d66-479d-ea6b-b39d666cac2d"
      },
      "source": [
        "data.results[0].alternatives[0].transcript"
      ],
      "execution_count": 15,
      "outputs": [
        {
          "output_type": "execute_result",
          "data": {
            "text/plain": [
              "'美式無限無限寬頻人人有份好歡迎大家收聽今日嘅無限寬頻我已經為大家可以畫3d今日呢我就準備咗一間餐廳同你講下因為我覺得你會鍾意食嘅嘢嚟嘅佢每次都話我鍾意食嘅嘢好容易搵嘅啫因為我可以食嘅咁有啲嘢係你冇咁鍾意食㗎嘛甜品呢樣嘢呢其實就先講星期日本日本日本餐廳啦咁後日本餐都好多種㗎嘛食好多嘢嘅我覺得係比較'"
            ]
          },
          "metadata": {
            "tags": []
          },
          "execution_count": 15
        }
      ]
    },
    {
      "cell_type": "code",
      "metadata": {
        "id": "mHS5NMHkXDRd",
        "colab_type": "code",
        "colab": {}
      },
      "source": [
        "s=\"\\344\\272\\272\\345\\223\\213\\345\\225\\262\\350\\255\\254\\345\\246\\202\\344\\277\\202\\344\\270\\200\\345\\200\\213\\345\\224\\224\\344\\277\\202\\344\\272\\236\\346\\264\\262\\344\\272\\272\\345\\225\\246\\345\\217\\257\\350\\203\\275\\344\\277\\202\\345\\205\\266\\344\\273\\226\\346\\226\\207\\345\\214\\226\\345\\230\\205\\344\\272\\272\\345\\221\\242\\351\\203\\275\\346\\234\\203\\346\\216\\245\\345\\217\\227\\351\\243\\237\\345\\221\\242\\346\\250\\243\\345\\230\\242\\345\\233\\240\\347\\202\\272\\345\\224\\224\\344\\277\\202\\345\\227\\260\\345\\225\\262\\347\\224\\237\\345\\230\\242\\351\\243\\237\\351\\243\\237\\345\\256\\214\\350\\277\\224\\345\\216\\273\\344\\275\\240\\346\\234\\203\\351\\251\\232\\346\\210\\221\\345\\223\\213\\351\\243\\262\\344\\275\\217\\345\\205\\210\\346\\210\\221\\345\\223\\213\\347\\264\\204\\344\\270\\213\\344\\270\\255\\345\\234\\213\\351\\243\\262\\350\\214\\266\\351\\243\\237\\345\\227\\260\\345\\225\\262\\351\\263\\263\\347\\210\\252\\344\\275\\242\\345\\223\\213\\345\\217\\210\\346\\234\\203\\351\\251\\232\\343\\227\\216\\345\\222\\201\\346\\250\\243\\345\\230\\242\\345\\221\\242\\345\\260\\261\\345\\237\\272\\346\\234\\254\\344\\270\\212\\344\\275\\242\\345\\223\\213\\345\\224\\224\\346\\234\\203\\351\\251\\232\\345\\230\\205\\351\\243\\237\\347\\267\\212\\345\\232\\237\\343\\227\\216\\345\\222\\201\\346\\211\\200\\344\\273\\245\\344\\277\\202\\346\\257\\224\\350\\274\\203\\345\\244\\247\\345\\260\\261\\345\\277\\253\\345\\225\\262\\345\\233\\211\\346\\207\\211\\350\\251\\262\\345\\260\\261\\345\\224\\224\\346\\234\\203\\346\\213\\211\\351\\272\\265\\345\\222\\201\\346\\231\\256\\351\\200\\232\\345\\225\\246\\345\\224\\224\\344\\277\\202\\346\\234\\203\\345\\224\\224\\346\\234\\203\\344\\277\\202\\346\\227\\245\\346\\234\\254\\345\\230\\205\\345\\256\\232\\351\\243\\237\\345\\227\\260\\345\\225\\262\\345\\230\\242\\345\\230\\205\\350\\210\\226\\351\\240\\255\\347\\211\\271\\345\\210\\245\\345\\234\\250\\345\\222\\251\\345\\221\\242\\344\\275\\242\\351\\226\\213\\351\\213\\252\\351\\240\\255\\345\\227\\260\\345\\200\\213\\344\\272\\272\\344\\270\\213\\344\\275\\216\\345\\227\\260\\345\\200\\213\\344\\270\\273\\345\\273\\232\\345\\200\\213\\345\\270\\253\\345\\202\\205\\345\\221\\242\\344\\275\\242\\344\\270\\246\\345\\224\\224\\344\\277\\202\\346\\227\\245\\346\\234\\254\\344\\272\\272\\345\\223\\213\\345\\230\\205\\345\\222\\201\\345\\200\\213\\346\\225\\205\\344\\272\\213\\345\\245\\275\\345\\276\\227\\346\\204\\217\\344\\270\\213\\345\\205\\266\\345\\257\\246\\344\\275\\242\\345\\200\\213\\351\\274\\273\\350\\200\\201\\344\\272\\272\""
      ],
      "execution_count": 0,
      "outputs": []
    },
    {
      "cell_type": "code",
      "metadata": {
        "id": "PdNWlRfXXIyG",
        "colab_type": "code",
        "colab": {}
      },
      "source": [
        "s"
      ],
      "execution_count": 0,
      "outputs": []
    },
    {
      "cell_type": "code",
      "metadata": {
        "id": "jw0rvo1PWXR4",
        "colab_type": "code",
        "colab": {
          "base_uri": "https://localhost:8080/",
          "height": 34
        },
        "outputId": "83106a0e-1b15-4442-d122-54d1517861c3"
      },
      "source": [
        "type(data.results[0].alternatives[0].transcript)"
      ],
      "execution_count": 19,
      "outputs": [
        {
          "output_type": "execute_result",
          "data": {
            "text/plain": [
              "str"
            ]
          },
          "metadata": {
            "tags": []
          },
          "execution_count": 19
        }
      ]
    },
    {
      "cell_type": "markdown",
      "metadata": {
        "id": "KRL5TVzIVbU9",
        "colab_type": "text"
      },
      "source": [
        "#Putting the result to Firestore"
      ]
    },
    {
      "cell_type": "code",
      "metadata": {
        "id": "IkhsFLskVi3H",
        "colab_type": "code",
        "colab": {
          "base_uri": "https://localhost:8080/",
          "height": 508
        },
        "outputId": "252c6607-16a0-4a3c-9772-9c1b6f4fe2b3"
      },
      "source": [
        "pip install --upgrade google-cloud-firestore"
      ],
      "execution_count": 10,
      "outputs": [
        {
          "output_type": "stream",
          "text": [
            "Collecting google-cloud-firestore\n",
            "\u001b[?25l  Downloading https://files.pythonhosted.org/packages/32/b1/ef2095d777ca2505efa8182bea155f2ce8bab099224579feb1d309449076/google_cloud_firestore-1.6.1-py2.py3-none-any.whl (333kB)\n",
            "\r\u001b[K     |█                               | 10kB 24.6MB/s eta 0:00:01\r\u001b[K     |██                              | 20kB 6.4MB/s eta 0:00:01\r\u001b[K     |███                             | 30kB 9.0MB/s eta 0:00:01\r\u001b[K     |████                            | 40kB 5.8MB/s eta 0:00:01\r\u001b[K     |█████                           | 51kB 7.1MB/s eta 0:00:01\r\u001b[K     |██████                          | 61kB 8.4MB/s eta 0:00:01\r\u001b[K     |██████▉                         | 71kB 9.6MB/s eta 0:00:01\r\u001b[K     |███████▉                        | 81kB 10.7MB/s eta 0:00:01\r\u001b[K     |████████▉                       | 92kB 11.9MB/s eta 0:00:01\r\u001b[K     |█████████▉                      | 102kB 9.3MB/s eta 0:00:01\r\u001b[K     |██████████▉                     | 112kB 9.3MB/s eta 0:00:01\r\u001b[K     |███████████▉                    | 122kB 9.3MB/s eta 0:00:01\r\u001b[K     |████████████▊                   | 133kB 9.3MB/s eta 0:00:01\r\u001b[K     |█████████████▊                  | 143kB 9.3MB/s eta 0:00:01\r\u001b[K     |██████████████▊                 | 153kB 9.3MB/s eta 0:00:01\r\u001b[K     |███████████████▊                | 163kB 9.3MB/s eta 0:00:01\r\u001b[K     |████████████████▊               | 174kB 9.3MB/s eta 0:00:01\r\u001b[K     |█████████████████▊              | 184kB 9.3MB/s eta 0:00:01\r\u001b[K     |██████████████████▋             | 194kB 9.3MB/s eta 0:00:01\r\u001b[K     |███████████████████▋            | 204kB 9.3MB/s eta 0:00:01\r\u001b[K     |████████████████████▋           | 215kB 9.3MB/s eta 0:00:01\r\u001b[K     |█████████████████████▋          | 225kB 9.3MB/s eta 0:00:01\r\u001b[K     |██████████████████████▋         | 235kB 9.3MB/s eta 0:00:01\r\u001b[K     |███████████████████████▋        | 245kB 9.3MB/s eta 0:00:01\r\u001b[K     |████████████████████████▌       | 256kB 9.3MB/s eta 0:00:01\r\u001b[K     |█████████████████████████▌      | 266kB 9.3MB/s eta 0:00:01\r\u001b[K     |██████████████████████████▌     | 276kB 9.3MB/s eta 0:00:01\r\u001b[K     |███████████████████████████▌    | 286kB 9.3MB/s eta 0:00:01\r\u001b[K     |████████████████████████████▌   | 296kB 9.3MB/s eta 0:00:01\r\u001b[K     |█████████████████████████████▌  | 307kB 9.3MB/s eta 0:00:01\r\u001b[K     |██████████████████████████████▍ | 317kB 9.3MB/s eta 0:00:01\r\u001b[K     |███████████████████████████████▍| 327kB 9.3MB/s eta 0:00:01\r\u001b[K     |████████████████████████████████| 337kB 9.3MB/s \n",
            "\u001b[?25hRequirement already satisfied, skipping upgrade: google-cloud-core<2.0dev,>=1.0.3 in /usr/local/lib/python3.6/dist-packages (from google-cloud-firestore) (1.0.3)\n",
            "Requirement already satisfied, skipping upgrade: pytz in /usr/local/lib/python3.6/dist-packages (from google-cloud-firestore) (2018.9)\n",
            "Requirement already satisfied, skipping upgrade: google-api-core[grpc]<2.0.0dev,>=1.14.0 in /usr/local/lib/python3.6/dist-packages (from google-cloud-firestore) (1.15.0)\n",
            "Requirement already satisfied, skipping upgrade: setuptools>=34.0.0 in /usr/local/lib/python3.6/dist-packages (from google-api-core[grpc]<2.0.0dev,>=1.14.0->google-cloud-firestore) (42.0.2)\n",
            "Requirement already satisfied, skipping upgrade: google-auth<2.0dev,>=0.4.0 in /usr/local/lib/python3.6/dist-packages (from google-api-core[grpc]<2.0.0dev,>=1.14.0->google-cloud-firestore) (1.4.2)\n",
            "Requirement already satisfied, skipping upgrade: six>=1.10.0 in /usr/local/lib/python3.6/dist-packages (from google-api-core[grpc]<2.0.0dev,>=1.14.0->google-cloud-firestore) (1.12.0)\n",
            "Requirement already satisfied, skipping upgrade: googleapis-common-protos<2.0dev,>=1.6.0 in /usr/local/lib/python3.6/dist-packages (from google-api-core[grpc]<2.0.0dev,>=1.14.0->google-cloud-firestore) (1.6.0)\n",
            "Requirement already satisfied, skipping upgrade: protobuf>=3.4.0 in /usr/local/lib/python3.6/dist-packages (from google-api-core[grpc]<2.0.0dev,>=1.14.0->google-cloud-firestore) (3.10.0)\n",
            "Requirement already satisfied, skipping upgrade: requests<3.0.0dev,>=2.18.0 in /usr/local/lib/python3.6/dist-packages (from google-api-core[grpc]<2.0.0dev,>=1.14.0->google-cloud-firestore) (2.21.0)\n",
            "Requirement already satisfied, skipping upgrade: grpcio<2.0dev,>=1.8.2; extra == \"grpc\" in /usr/local/lib/python3.6/dist-packages (from google-api-core[grpc]<2.0.0dev,>=1.14.0->google-cloud-firestore) (1.15.0)\n",
            "Requirement already satisfied, skipping upgrade: pyasn1-modules>=0.2.1 in /usr/local/lib/python3.6/dist-packages (from google-auth<2.0dev,>=0.4.0->google-api-core[grpc]<2.0.0dev,>=1.14.0->google-cloud-firestore) (0.2.7)\n",
            "Requirement already satisfied, skipping upgrade: rsa>=3.1.4 in /usr/local/lib/python3.6/dist-packages (from google-auth<2.0dev,>=0.4.0->google-api-core[grpc]<2.0.0dev,>=1.14.0->google-cloud-firestore) (4.0)\n",
            "Requirement already satisfied, skipping upgrade: cachetools>=2.0.0 in /usr/local/lib/python3.6/dist-packages (from google-auth<2.0dev,>=0.4.0->google-api-core[grpc]<2.0.0dev,>=1.14.0->google-cloud-firestore) (4.0.0)\n",
            "Requirement already satisfied, skipping upgrade: certifi>=2017.4.17 in /usr/local/lib/python3.6/dist-packages (from requests<3.0.0dev,>=2.18.0->google-api-core[grpc]<2.0.0dev,>=1.14.0->google-cloud-firestore) (2019.11.28)\n",
            "Requirement already satisfied, skipping upgrade: idna<2.9,>=2.5 in /usr/local/lib/python3.6/dist-packages (from requests<3.0.0dev,>=2.18.0->google-api-core[grpc]<2.0.0dev,>=1.14.0->google-cloud-firestore) (2.8)\n",
            "Requirement already satisfied, skipping upgrade: chardet<3.1.0,>=3.0.2 in /usr/local/lib/python3.6/dist-packages (from requests<3.0.0dev,>=2.18.0->google-api-core[grpc]<2.0.0dev,>=1.14.0->google-cloud-firestore) (3.0.4)\n",
            "Requirement already satisfied, skipping upgrade: urllib3<1.25,>=1.21.1 in /usr/local/lib/python3.6/dist-packages (from requests<3.0.0dev,>=2.18.0->google-api-core[grpc]<2.0.0dev,>=1.14.0->google-cloud-firestore) (1.24.3)\n",
            "Requirement already satisfied, skipping upgrade: pyasn1<0.5.0,>=0.4.6 in /usr/local/lib/python3.6/dist-packages (from pyasn1-modules>=0.2.1->google-auth<2.0dev,>=0.4.0->google-api-core[grpc]<2.0.0dev,>=1.14.0->google-cloud-firestore) (0.4.8)\n",
            "Installing collected packages: google-cloud-firestore\n",
            "Successfully installed google-cloud-firestore-1.6.1\n"
          ],
          "name": "stdout"
        },
        {
          "output_type": "display_data",
          "data": {
            "application/vnd.colab-display-data+json": {
              "pip_warning": {
                "packages": [
                  "google"
                ]
              }
            }
          },
          "metadata": {
            "tags": []
          }
        }
      ]
    },
    {
      "cell_type": "code",
      "metadata": {
        "id": "BnfzbYjDVuBi",
        "colab_type": "code",
        "colab": {}
      },
      "source": [
        "from google.cloud import firestore\n",
        "\n",
        "# Project ID is determined by the GCLOUD_PROJECT environment variable\n",
        "db = firestore.Client()"
      ],
      "execution_count": 0,
      "outputs": []
    },
    {
      "cell_type": "code",
      "metadata": {
        "id": "A8R5hRd4arDb",
        "colab_type": "code",
        "colab": {}
      },
      "source": [
        "import json"
      ],
      "execution_count": 0,
      "outputs": []
    },
    {
      "cell_type": "code",
      "metadata": {
        "id": "wJr80Jf-fTlI",
        "colab_type": "code",
        "colab": {
          "base_uri": "https://localhost:8080/",
          "height": 238
        },
        "outputId": "6c304100-e281-4f46-e6c3-ca2ca4ce59d5"
      },
      "source": [
        "data"
      ],
      "execution_count": 28,
      "outputs": [
        {
          "output_type": "execute_result",
          "data": {
            "text/plain": [
              "results {\n",
              "  alternatives {\n",
              "    transcript: \"\\347\\276\\216\\345\\274\\217\\347\\204\\241\\351\\231\\220\\347\\204\\241\\351\\231\\220\\345\\257\\254\\351\\240\\273\\344\\272\\272\\344\\272\\272\\346\\234\\211\\344\\273\\275\\345\\245\\275\\346\\255\\241\\350\\277\\216\\345\\244\\247\\345\\256\\266\\346\\224\\266\\350\\201\\275\\344\\273\\212\\346\\227\\245\\345\\230\\205\\347\\204\\241\\351\\231\\220\\345\\257\\254\\351\\240\\273\\346\\210\\221\\345\\267\\262\\347\\266\\223\\347\\202\\272\\345\\244\\247\\345\\256\\266\\345\\217\\257\\344\\273\\245\\347\\225\\2533d\\344\\273\\212\\346\\227\\245\\345\\221\\242\\346\\210\\221\\345\\260\\261\\346\\272\\226\\345\\202\\231\\345\\222\\227\\344\\270\\200\\351\\226\\223\\351\\244\\220\\345\\273\\263\\345\\220\\214\\344\\275\\240\\350\\254\\233\\344\\270\\213\\345\\233\\240\\347\\202\\272\\346\\210\\221\\350\\246\\272\\345\\276\\227\\344\\275\\240\\346\\234\\203\\351\\215\\276\\346\\204\\217\\351\\243\\237\\345\\230\\205\\345\\230\\242\\345\\232\\237\\345\\230\\205\\344\\275\\242\\346\\257\\217\\346\\254\\241\\351\\203\\275\\350\\251\\261\\346\\210\\221\\351\\215\\276\\346\\204\\217\\351\\243\\237\\345\\230\\205\\345\\230\\242\\345\\245\\275\\345\\256\\271\\346\\230\\223\\346\\220\\265\\345\\230\\205\\345\\225\\253\\345\\233\\240\\347\\202\\272\\346\\210\\221\\345\\217\\257\\344\\273\\245\\351\\243\\237\\345\\230\\205\\345\\222\\201\\346\\234\\211\\345\\225\\262\\345\\230\\242\\344\\277\\202\\344\\275\\240\\345\\206\\207\\345\\222\\201\\351\\215\\276\\346\\204\\217\\351\\243\\237\\343\\227\\216\\345\\230\\233\\347\\224\\234\\345\\223\\201\\345\\221\\242\\346\\250\\243\\345\\230\\242\\345\\221\\242\\345\\205\\266\\345\\257\\246\\345\\260\\261\\345\\205\\210\\350\\254\\233\\346\\230\\237\\346\\234\\237\\346\\227\\245\\346\\234\\254\\346\\227\\245\\346\\234\\254\\346\\227\\245\\346\\234\\254\\351\\244\\220\\345\\273\\263\\345\\225\\246\\345\\222\\201\\345\\276\\214\\346\\227\\245\\346\\234\\254\\351\\244\\220\\351\\203\\275\\345\\245\\275\\345\\244\\232\\347\\250\\256\\343\\227\\216\\345\\230\\233\\351\\243\\237\\345\\245\\275\\345\\244\\232\\345\\230\\242\\345\\230\\205\\346\\210\\221\\350\\246\\272\\345\\276\\227\\344\\277\\202\\346\\257\\224\\350\\274\\203\"\n",
              "    confidence: 0.9456586241722107\n",
              "  }\n",
              "}\n",
              "results {\n",
              "  alternatives {\n",
              "    transcript: \"\\344\\272\\272\\345\\223\\213\\345\\225\\262\\350\\255\\254\\345\\246\\202\\344\\277\\202\\344\\270\\200\\345\\200\\213\\345\\224\\224\\344\\277\\202\\344\\272\\236\\346\\264\\262\\344\\272\\272\\345\\225\\246\\345\\217\\257\\350\\203\\275\\344\\277\\202\\345\\205\\266\\344\\273\\226\\346\\226\\207\\345\\214\\226\\345\\230\\205\\344\\272\\272\\345\\221\\242\\351\\203\\275\\346\\234\\203\\346\\216\\245\\345\\217\\227\\351\\243\\237\\345\\221\\242\\346\\250\\243\\345\\230\\242\\345\\233\\240\\347\\202\\272\\345\\224\\224\\344\\277\\202\\345\\227\\260\\345\\225\\262\\347\\224\\237\\345\\230\\242\\351\\243\\237\\351\\243\\237\\345\\256\\214\\350\\277\\224\\345\\216\\273\\344\\275\\240\\346\\234\\203\\351\\251\\232\\346\\210\\221\\345\\223\\213\\351\\243\\262\\344\\275\\217\\345\\205\\210\\346\\210\\221\\345\\223\\213\\347\\264\\204\\344\\270\\213\\344\\270\\255\\345\\234\\213\\351\\243\\262\\350\\214\\266\\351\\243\\237\\345\\227\\260\\345\\225\\262\\351\\263\\263\\347\\210\\252\\344\\275\\242\\345\\223\\213\\345\\217\\210\\346\\234\\203\\351\\251\\232\\343\\227\\216\\345\\222\\201\\346\\250\\243\\345\\230\\242\\345\\221\\242\\345\\260\\261\\345\\237\\272\\346\\234\\254\\344\\270\\212\\344\\275\\242\\345\\223\\213\\345\\224\\224\\346\\234\\203\\351\\251\\232\\345\\230\\205\\351\\243\\237\\347\\267\\212\\345\\232\\237\\343\\227\\216\\345\\222\\201\\346\\211\\200\\344\\273\\245\\344\\277\\202\\346\\257\\224\\350\\274\\203\\345\\244\\247\\345\\260\\261\\345\\277\\253\\345\\225\\262\\345\\233\\211\\346\\207\\211\\350\\251\\262\\345\\260\\261\\345\\224\\224\\346\\234\\203\\346\\213\\211\\351\\272\\265\\345\\222\\201\\346\\231\\256\\351\\200\\232\\345\\225\\246\\345\\224\\224\\344\\277\\202\\346\\234\\203\\345\\224\\224\\346\\234\\203\\344\\277\\202\\346\\227\\245\\346\\234\\254\\345\\230\\205\\345\\256\\232\\351\\243\\237\\345\\227\\260\\345\\225\\262\\345\\230\\242\\345\\230\\205\\350\\210\\226\\351\\240\\255\\347\\211\\271\\345\\210\\245\\345\\234\\250\\345\\222\\251\\345\\221\\242\\344\\275\\242\\351\\226\\213\\351\\213\\252\\351\\240\\255\\345\\227\\260\\345\\200\\213\\344\\272\\272\\344\\270\\213\\344\\275\\216\\345\\227\\260\\345\\200\\213\\344\\270\\273\\345\\273\\232\\345\\200\\213\\345\\270\\253\\345\\202\\205\\345\\221\\242\\344\\275\\242\\344\\270\\246\\345\\224\\224\\344\\277\\202\\346\\227\\245\\346\\234\\254\\344\\272\\272\\345\\223\\213\\345\\230\\205\\345\\222\\201\\345\\200\\213\\346\\225\\205\\344\\272\\213\\345\\245\\275\\345\\276\\227\\346\\204\\217\\344\\270\\213\\345\\205\\266\\345\\257\\246\\344\\275\\242\\345\\200\\213\\351\\274\\273\\350\\200\\201\\344\\272\\272\"\n",
              "    confidence: 0.9434411525726318\n",
              "  }\n",
              "}"
            ]
          },
          "metadata": {
            "tags": []
          },
          "execution_count": 28
        }
      ]
    },
    {
      "cell_type": "code",
      "metadata": {
        "id": "Fdt5hF9YVxtd",
        "colab_type": "code",
        "colab": {
          "base_uri": "https://localhost:8080/",
          "height": 195
        },
        "outputId": "71c974d3-06fb-496a-b86f-0350c55f7df3"
      },
      "source": [
        "import pickle \n",
        "file_result = open('010720.obj', 'w') \n",
        "pickle.dump(data, file_result)"
      ],
      "execution_count": 31,
      "outputs": [
        {
          "output_type": "error",
          "ename": "TypeError",
          "evalue": "ignored",
          "traceback": [
            "\u001b[0;31m---------------------------------------------------------------------------\u001b[0m",
            "\u001b[0;31mTypeError\u001b[0m                                 Traceback (most recent call last)",
            "\u001b[0;32m<ipython-input-31-bef701058f99>\u001b[0m in \u001b[0;36m<module>\u001b[0;34m()\u001b[0m\n\u001b[1;32m      1\u001b[0m \u001b[0;32mimport\u001b[0m \u001b[0mpickle\u001b[0m\u001b[0;34m\u001b[0m\u001b[0;34m\u001b[0m\u001b[0m\n\u001b[1;32m      2\u001b[0m \u001b[0mfile_result\u001b[0m \u001b[0;34m=\u001b[0m \u001b[0mopen\u001b[0m\u001b[0;34m(\u001b[0m\u001b[0;34m'010720.obj'\u001b[0m\u001b[0;34m,\u001b[0m \u001b[0;34m'w'\u001b[0m\u001b[0;34m)\u001b[0m\u001b[0;34m\u001b[0m\u001b[0;34m\u001b[0m\u001b[0m\n\u001b[0;32m----> 3\u001b[0;31m \u001b[0mpickle\u001b[0m\u001b[0;34m.\u001b[0m\u001b[0mdump\u001b[0m\u001b[0;34m(\u001b[0m\u001b[0mdata\u001b[0m\u001b[0;34m,\u001b[0m \u001b[0mfile_result\u001b[0m\u001b[0;34m)\u001b[0m\u001b[0;34m\u001b[0m\u001b[0;34m\u001b[0m\u001b[0m\n\u001b[0m",
            "\u001b[0;31mTypeError\u001b[0m: write() argument must be str, not bytes"
          ]
        }
      ]
    }
  ]
}