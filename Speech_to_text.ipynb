{
  "nbformat": 4,
  "nbformat_minor": 0,
  "metadata": {
    "colab": {
      "name": "Speech_to_text.ipynb",
      "provenance": [],
      "authorship_tag": "ABX9TyNmsxl399DXVR4pR9GlXoj6",
      "include_colab_link": true
    },
    "kernelspec": {
      "name": "python3",
      "display_name": "Python 3"
    }
  },
  "cells": [
    {
      "cell_type": "markdown",
      "metadata": {
        "id": "view-in-github",
        "colab_type": "text"
      },
      "source": [
        "<a href=\"https://colab.research.google.com/github/derek-shing/ProofOfConcept/blob/master/Speech_to_text.ipynb\" target=\"_parent\"><img src=\"https://colab.research.google.com/assets/colab-badge.svg\" alt=\"Open In Colab\"/></a>"
      ]
    },
    {
      "cell_type": "markdown",
      "metadata": {
        "id": "7X9CjNTyRkuJ",
        "colab_type": "text"
      },
      "source": [
        "#Testing the Speech to Text Cantonese API\n",
        "\n",
        "\n",
        "1.   Preprocessing the audio file\n",
        "\n",
        "\n",
        "*   How to record sound\n",
        "*   turn to correct format\n",
        "*   display codec spec.\n",
        "*   Save to Storage\n",
        "\n",
        "\n",
        "\n",
        "2.   Using AutoML API\n",
        "*    Read from Storage\n",
        "*    Call the API\n",
        "*    Store the result to Firestore\n",
        "\n",
        "https://cloud.google.com/firestore/docs/quickstart-servers\n",
        "\n",
        "\n",
        "https://cloud.google.com/speech-to-text/docs/quickstart  \n",
        "\n",
        "Convert mp3 to wav:\n",
        "\n",
        "https://www.online-convert.com/result/b85182ca-bb4a-47a1-9d58-86e22f150a87\n",
        "\n",
        "\n",
        "\n",
        "\n",
        "\n"
      ]
    },
    {
      "cell_type": "code",
      "metadata": {
        "id": "iQ5mljBPRjkT",
        "colab_type": "code",
        "colab": {}
      },
      "source": [
        "project_id = 'my-project-1558599394309'"
      ],
      "execution_count": 0,
      "outputs": []
    },
    {
      "cell_type": "code",
      "metadata": {
        "id": "H3d88FoFUKpB",
        "colab_type": "code",
        "colab": {}
      },
      "source": [
        "from google.colab import auth\n",
        "auth.authenticate_user()"
      ],
      "execution_count": 0,
      "outputs": []
    },
    {
      "cell_type": "code",
      "metadata": {
        "id": "j9g2829rUoXI",
        "colab_type": "code",
        "outputId": "fcacba89-3254-406a-dd64-fb1934b6c8fb",
        "colab": {
          "base_uri": "https://localhost:8080/",
          "height": 118
        }
      },
      "source": [
        "!gcloud config set project {project_id}"
      ],
      "execution_count": 2,
      "outputs": [
        {
          "output_type": "stream",
          "text": [
            "Updated property [core/project].\n",
            "\n",
            "\n",
            "To take a quick anonymous survey, run:\n",
            "  $ gcloud survey\n",
            "\n"
          ],
          "name": "stdout"
        }
      ]
    },
    {
      "cell_type": "code",
      "metadata": {
        "id": "go46rSDsWPFE",
        "colab_type": "code",
        "outputId": "3ac1f382-da47-44be-9d98-e5806dd4a6da",
        "colab": {
          "base_uri": "https://localhost:8080/",
          "height": 67
        }
      },
      "source": [
        "!gsutil cp gs://food1430/newSong.wav newSong.wav"
      ],
      "execution_count": 0,
      "outputs": [
        {
          "output_type": "stream",
          "text": [
            "Copying gs://food1430/newSong.wav...\n",
            "- [1 files][ 10.1 MiB/ 10.1 MiB]                                                \n",
            "Operation completed over 1 objects/10.1 MiB.                                     \n"
          ],
          "name": "stdout"
        }
      ]
    },
    {
      "cell_type": "code",
      "metadata": {
        "id": "UF3_069JssXH",
        "colab_type": "code",
        "outputId": "a8e73bf7-ffc0-491e-a53a-172f44a1b20a",
        "colab": {
          "base_uri": "https://localhost:8080/",
          "height": 649
        }
      },
      "source": [
        "!ffmpeg -i cantonese_flac.flac -ac 1 mono.flac"
      ],
      "execution_count": 0,
      "outputs": [
        {
          "output_type": "stream",
          "text": [
            "ffmpeg version 3.4.6-0ubuntu0.18.04.1 Copyright (c) 2000-2019 the FFmpeg developers\n",
            "  built with gcc 7 (Ubuntu 7.3.0-16ubuntu3)\n",
            "  configuration: --prefix=/usr --extra-version=0ubuntu0.18.04.1 --toolchain=hardened --libdir=/usr/lib/x86_64-linux-gnu --incdir=/usr/include/x86_64-linux-gnu --enable-gpl --disable-stripping --enable-avresample --enable-avisynth --enable-gnutls --enable-ladspa --enable-libass --enable-libbluray --enable-libbs2b --enable-libcaca --enable-libcdio --enable-libflite --enable-libfontconfig --enable-libfreetype --enable-libfribidi --enable-libgme --enable-libgsm --enable-libmp3lame --enable-libmysofa --enable-libopenjpeg --enable-libopenmpt --enable-libopus --enable-libpulse --enable-librubberband --enable-librsvg --enable-libshine --enable-libsnappy --enable-libsoxr --enable-libspeex --enable-libssh --enable-libtheora --enable-libtwolame --enable-libvorbis --enable-libvpx --enable-libwavpack --enable-libwebp --enable-libx265 --enable-libxml2 --enable-libxvid --enable-libzmq --enable-libzvbi --enable-omx --enable-openal --enable-opengl --enable-sdl2 --enable-libdc1394 --enable-libdrm --enable-libiec61883 --enable-chromaprint --enable-frei0r --enable-libopencv --enable-libx264 --enable-shared\n",
            "  libavutil      55. 78.100 / 55. 78.100\n",
            "  libavcodec     57.107.100 / 57.107.100\n",
            "  libavformat    57. 83.100 / 57. 83.100\n",
            "  libavdevice    57. 10.100 / 57. 10.100\n",
            "  libavfilter     6.107.100 /  6.107.100\n",
            "  libavresample   3.  7.  0 /  3.  7.  0\n",
            "  libswscale      4.  8.100 /  4.  8.100\n",
            "  libswresample   2.  9.100 /  2.  9.100\n",
            "  libpostproc    54.  7.100 / 54.  7.100\n",
            "Input #0, flac, from 'cantonese_flac.flac':\n",
            "  Metadata:\n",
            "    MAJOR_BRAND     : M4A \n",
            "    MINOR_VERSION   : 0\n",
            "    COMPATIBLE_BRANDS: M4A mp42isom\n",
            "    ITUNSMPB        :  00000000 00000840 00000000 00000000002107C0 00000000 00000000 00000000 00000000 00000000 00000000 00000000 00000000\n",
            "    ENCODER         : Lavf58.29.100\n",
            "  Duration: 00:00:49.09, start: 0.000000, bitrate: 559 kb/s\n",
            "    Stream #0:0: Audio: flac, 44100 Hz, stereo, s32 (24 bit)\n",
            "Stream mapping:\n",
            "  Stream #0:0 -> #0:0 (flac (native) -> flac (native))\n",
            "Press [q] to stop, [?] for help\n",
            "Output #0, flac, to 'mono.flac':\n",
            "  Metadata:\n",
            "    MAJOR_BRAND     : M4A \n",
            "    MINOR_VERSION   : 0\n",
            "    COMPATIBLE_BRANDS: M4A mp42isom\n",
            "    ITUNSMPB        :  00000000 00000840 00000000 00000000002107C0 00000000 00000000 00000000 00000000 00000000 00000000 00000000 00000000\n",
            "    encoder         : Lavf57.83.100\n",
            "    Stream #0:0: Audio: flac, 44100 Hz, mono, s32 (24 bit), 128 kb/s\n",
            "    Metadata:\n",
            "      encoder         : Lavc57.107.100 flac\n",
            "size=    3088kB time=00:00:49.08 bitrate= 515.4kbits/s speed= 252x    \n",
            "video:0kB audio:3080kB subtitle:0kB other streams:0kB global headers:0kB muxing overhead: 0.269182%\n"
          ],
          "name": "stdout"
        }
      ]
    },
    {
      "cell_type": "code",
      "metadata": {
        "id": "vKiV3hztk7RX",
        "colab_type": "code",
        "outputId": "816cc31c-01c1-4217-92ce-d5127e57c29c",
        "colab": {
          "base_uri": "https://localhost:8080/",
          "height": 204
        }
      },
      "source": [
        "!wget https://www.signalogic.com/melp/eng_noise/orig/car.wav"
      ],
      "execution_count": 0,
      "outputs": [
        {
          "output_type": "stream",
          "text": [
            "--2020-01-24 08:03:49--  https://www.signalogic.com/melp/eng_noise/orig/car.wav\n",
            "Resolving www.signalogic.com (www.signalogic.com)... 209.150.126.178\n",
            "Connecting to www.signalogic.com (www.signalogic.com)|209.150.126.178|:443... connected.\n",
            "HTTP request sent, awaiting response... 200 OK\n",
            "Length: 256044 (250K) [audio/x-wav]\n",
            "Saving to: ‘car.wav’\n",
            "\n",
            "\rcar.wav               0%[                    ]       0  --.-KB/s               \rcar.wav             100%[===================>] 250.04K  --.-KB/s    in 0.06s   \n",
            "\n",
            "2020-01-24 08:03:49 (4.41 MB/s) - ‘car.wav’ saved [256044/256044]\n",
            "\n"
          ],
          "name": "stdout"
        }
      ]
    },
    {
      "cell_type": "code",
      "metadata": {
        "id": "L2ekqyjglaq6",
        "colab_type": "code",
        "outputId": "3cbc8910-48cf-4b4a-b28b-9ef1ca8de781",
        "colab": {
          "base_uri": "https://localhost:8080/",
          "height": 68
        }
      },
      "source": [
        "!gsutil cp /content/car.wav gs://food1430/car.wav"
      ],
      "execution_count": 0,
      "outputs": [
        {
          "output_type": "stream",
          "text": [
            "Copying file:///content/car.wav [Content-Type=audio/x-wav]...\n",
            "-\n",
            "Operation completed over 1 objects/250.0 KiB.                                    \n"
          ],
          "name": "stdout"
        }
      ]
    },
    {
      "cell_type": "code",
      "metadata": {
        "id": "aDyWnNFKoOse",
        "colab_type": "code",
        "colab": {}
      },
      "source": [
        "import os\n",
        "os.environ[\"GOOGLE_APPLICATION_CREDENTIALS\"] = \"/content/drive/My Drive/GCP_account.json\""
      ],
      "execution_count": 0,
      "outputs": []
    },
    {
      "cell_type": "code",
      "metadata": {
        "id": "i_1JbZ4EomJy",
        "colab_type": "code",
        "outputId": "026db4e7-b4b4-4cac-9add-f35d72c91f2a",
        "colab": {
          "base_uri": "https://localhost:8080/",
          "height": 121
        }
      },
      "source": [
        "from google.colab import drive\n",
        "drive.mount('/content/drive')"
      ],
      "execution_count": 3,
      "outputs": [
        {
          "output_type": "stream",
          "text": [
            "Go to this URL in a browser: https://accounts.google.com/o/oauth2/auth?client_id=947318989803-6bn6qk8qdgf4n4g3pfee6491hc0brc4i.apps.googleusercontent.com&redirect_uri=urn%3aietf%3awg%3aoauth%3a2.0%3aoob&response_type=code&scope=email%20https%3a%2f%2fwww.googleapis.com%2fauth%2fdocs.test%20https%3a%2f%2fwww.googleapis.com%2fauth%2fdrive%20https%3a%2f%2fwww.googleapis.com%2fauth%2fdrive.photos.readonly%20https%3a%2f%2fwww.googleapis.com%2fauth%2fpeopleapi.readonly\n",
            "\n",
            "Enter your authorization code:\n",
            "··········\n",
            "Mounted at /content/drive\n"
          ],
          "name": "stdout"
        }
      ]
    },
    {
      "cell_type": "code",
      "metadata": {
        "id": "zqMAQDm5pbNZ",
        "colab_type": "code",
        "outputId": "04361d00-e89a-4a01-88da-e6e563f3ba7c",
        "colab": {
          "base_uri": "https://localhost:8080/",
          "height": 491
        }
      },
      "source": [
        "pip install google-cloud-speech"
      ],
      "execution_count": 5,
      "outputs": [
        {
          "output_type": "stream",
          "text": [
            "Collecting google-cloud-speech\n",
            "\u001b[?25l  Downloading https://files.pythonhosted.org/packages/0c/81/c59a373c7668beb9de922b9c4419b793898d46c6d4a44f4fe28098e77623/google_cloud_speech-1.3.1-py2.py3-none-any.whl (88kB)\n",
            "\r\u001b[K     |███▊                            | 10kB 16.8MB/s eta 0:00:01\r\u001b[K     |███████▍                        | 20kB 2.2MB/s eta 0:00:01\r\u001b[K     |███████████▏                    | 30kB 2.6MB/s eta 0:00:01\r\u001b[K     |██████████████▉                 | 40kB 2.1MB/s eta 0:00:01\r\u001b[K     |██████████████████▋             | 51kB 2.3MB/s eta 0:00:01\r\u001b[K     |██████████████████████▎         | 61kB 2.8MB/s eta 0:00:01\r\u001b[K     |██████████████████████████      | 71kB 2.9MB/s eta 0:00:01\r\u001b[K     |█████████████████████████████▊  | 81kB 3.2MB/s eta 0:00:01\r\u001b[K     |████████████████████████████████| 92kB 2.7MB/s \n",
            "\u001b[?25hRequirement already satisfied: google-api-core[grpc]<2.0.0dev,>=1.14.0 in /usr/local/lib/python3.6/dist-packages (from google-cloud-speech) (1.15.0)\n",
            "Requirement already satisfied: requests<3.0.0dev,>=2.18.0 in /usr/local/lib/python3.6/dist-packages (from google-api-core[grpc]<2.0.0dev,>=1.14.0->google-cloud-speech) (2.21.0)\n",
            "Requirement already satisfied: google-auth<2.0dev,>=0.4.0 in /usr/local/lib/python3.6/dist-packages (from google-api-core[grpc]<2.0.0dev,>=1.14.0->google-cloud-speech) (1.4.2)\n",
            "Requirement already satisfied: googleapis-common-protos<2.0dev,>=1.6.0 in /usr/local/lib/python3.6/dist-packages (from google-api-core[grpc]<2.0.0dev,>=1.14.0->google-cloud-speech) (1.6.0)\n",
            "Requirement already satisfied: protobuf>=3.4.0 in /usr/local/lib/python3.6/dist-packages (from google-api-core[grpc]<2.0.0dev,>=1.14.0->google-cloud-speech) (3.10.0)\n",
            "Requirement already satisfied: pytz in /usr/local/lib/python3.6/dist-packages (from google-api-core[grpc]<2.0.0dev,>=1.14.0->google-cloud-speech) (2018.9)\n",
            "Requirement already satisfied: setuptools>=34.0.0 in /usr/local/lib/python3.6/dist-packages (from google-api-core[grpc]<2.0.0dev,>=1.14.0->google-cloud-speech) (42.0.2)\n",
            "Requirement already satisfied: six>=1.10.0 in /usr/local/lib/python3.6/dist-packages (from google-api-core[grpc]<2.0.0dev,>=1.14.0->google-cloud-speech) (1.12.0)\n",
            "Requirement already satisfied: grpcio<2.0dev,>=1.8.2; extra == \"grpc\" in /usr/local/lib/python3.6/dist-packages (from google-api-core[grpc]<2.0.0dev,>=1.14.0->google-cloud-speech) (1.15.0)\n",
            "Requirement already satisfied: urllib3<1.25,>=1.21.1 in /usr/local/lib/python3.6/dist-packages (from requests<3.0.0dev,>=2.18.0->google-api-core[grpc]<2.0.0dev,>=1.14.0->google-cloud-speech) (1.24.3)\n",
            "Requirement already satisfied: idna<2.9,>=2.5 in /usr/local/lib/python3.6/dist-packages (from requests<3.0.0dev,>=2.18.0->google-api-core[grpc]<2.0.0dev,>=1.14.0->google-cloud-speech) (2.8)\n",
            "Requirement already satisfied: certifi>=2017.4.17 in /usr/local/lib/python3.6/dist-packages (from requests<3.0.0dev,>=2.18.0->google-api-core[grpc]<2.0.0dev,>=1.14.0->google-cloud-speech) (2019.11.28)\n",
            "Requirement already satisfied: chardet<3.1.0,>=3.0.2 in /usr/local/lib/python3.6/dist-packages (from requests<3.0.0dev,>=2.18.0->google-api-core[grpc]<2.0.0dev,>=1.14.0->google-cloud-speech) (3.0.4)\n",
            "Requirement already satisfied: rsa>=3.1.4 in /usr/local/lib/python3.6/dist-packages (from google-auth<2.0dev,>=0.4.0->google-api-core[grpc]<2.0.0dev,>=1.14.0->google-cloud-speech) (4.0)\n",
            "Requirement already satisfied: pyasn1-modules>=0.2.1 in /usr/local/lib/python3.6/dist-packages (from google-auth<2.0dev,>=0.4.0->google-api-core[grpc]<2.0.0dev,>=1.14.0->google-cloud-speech) (0.2.7)\n",
            "Requirement already satisfied: cachetools>=2.0.0 in /usr/local/lib/python3.6/dist-packages (from google-auth<2.0dev,>=0.4.0->google-api-core[grpc]<2.0.0dev,>=1.14.0->google-cloud-speech) (4.0.0)\n",
            "Requirement already satisfied: pyasn1>=0.1.3 in /usr/local/lib/python3.6/dist-packages (from rsa>=3.1.4->google-auth<2.0dev,>=0.4.0->google-api-core[grpc]<2.0.0dev,>=1.14.0->google-cloud-speech) (0.4.8)\n",
            "Installing collected packages: google-cloud-speech\n",
            "Successfully installed google-cloud-speech-1.3.1\n"
          ],
          "name": "stdout"
        },
        {
          "output_type": "display_data",
          "data": {
            "application/vnd.colab-display-data+json": {
              "pip_warning": {
                "packages": [
                  "google"
                ]
              }
            }
          },
          "metadata": {
            "tags": []
          }
        }
      ]
    },
    {
      "cell_type": "code",
      "metadata": {
        "id": "CJaoboRiWrjO",
        "colab_type": "code",
        "colab": {}
      },
      "source": [
        "import io\n",
        "import os\n",
        "\n",
        "# Imports the Google Cloud client library\n",
        "from google.cloud import speech\n",
        "from google.cloud.speech import enums\n",
        "from google.cloud.speech import types\n",
        "\n",
        "# Instantiates a client\n",
        "client = speech.SpeechClient()\n",
        "\n",
        "# The name of the audio file to transcribe\n",
        "#file_name = os.path.join(\n",
        "#    os.path.dirname(__file__),\n",
        "#    'resources',\n",
        "#    'audio.raw')\n",
        "\n",
        "file_name='/content/newSong.wav'\n",
        "\n",
        "# Loads the audio into memory\n",
        "with io.open(file_name, 'rb') as audio_file:\n",
        "    content = audio_file.read()\n",
        "    audio = types.RecognitionAudio(content=content)\n",
        "\n",
        "config = types.RecognitionConfig(\n",
        "    encoding=enums.RecognitionConfig.AudioEncoding.FLAC,\n",
        "    sample_rate_hertz=44100,\n",
        "    language_code='yue-Hant-HK')\n",
        "\n",
        "# Detects speech in the audio file\n",
        "response = client.recognize(config, audio)\n",
        "\n",
        "for result in response.results:\n",
        "    print('Transcript: {}'.format(result.alternatives[0].transcript))"
      ],
      "execution_count": 0,
      "outputs": []
    },
    {
      "cell_type": "code",
      "metadata": {
        "id": "SuLIbuwz0zWE",
        "colab_type": "code",
        "colab": {}
      },
      "source": [
        "from google.cloud import speech_v1\n",
        "from google.cloud.speech_v1 import enums\n",
        "\n",
        "\n",
        "def sample_long_running_recognize(storage_uri):\n",
        "    \"\"\"\n",
        "    Transcribe long audio file from Cloud Storage using asynchronous speech\n",
        "    recognition\n",
        "\n",
        "    Args:\n",
        "      storage_uri URI for audio file in Cloud Storage, e.g. gs://[BUCKET]/[FILE]\n",
        "    \"\"\"\n",
        "\n",
        "    client = speech_v1.SpeechClient()\n",
        "\n",
        "    # storage_uri = 'gs://cloud-samples-data/speech/brooklyn_bridge.raw'\n",
        "\n",
        "    # Sample rate in Hertz of the audio data sent\n",
        "    sample_rate_hertz = 44100\n",
        "\n",
        "    # The language of the supplied audio\n",
        "    language_code = \"yue-Hant-HK\"\n",
        "\n",
        "    # Encoding of audio data sent. This sample sets this explicitly.\n",
        "    # This field is optional for FLAC and WAV audio formats.\n",
        "    encoding = enums.RecognitionConfig.AudioEncoding.LINEAR16\n",
        "    config = {\n",
        "        \"sample_rate_hertz\": sample_rate_hertz,\n",
        "        \"language_code\": language_code,\n",
        "        \"encoding\": encoding,\n",
        "    }\n",
        "    audio = {\"uri\": storage_uri}\n",
        "\n",
        "    operation = client.long_running_recognize(config, audio)\n",
        "\n",
        "    print(u\"Waiting for operation to complete...\")\n",
        "    response = operation.result()\n",
        "\n",
        "    for result in response.results:\n",
        "        # First alternative is the most probable result\n",
        "        alternative = result.alternatives[0]\n",
        "        print(u\"Transcript: {}\".format(alternative.transcript))\n",
        "    return response"
      ],
      "execution_count": 0,
      "outputs": []
    },
    {
      "cell_type": "code",
      "metadata": {
        "id": "PgmlJO0Klmmk",
        "colab_type": "code",
        "outputId": "92237fbd-a665-42a9-8dc9-68a0797387d8",
        "colab": {
          "base_uri": "https://localhost:8080/",
          "height": 373
        }
      },
      "source": [
        "uri=\"gs://food1430/food01-07-20_wav.wav\"\n",
        "data = sample_long_running_recognize(uri)"
      ],
      "execution_count": 8,
      "outputs": [
        {
          "output_type": "stream",
          "text": [
            "Waiting for operation to complete...\n",
            "Transcript: 美式無限無限寬頻人人有份好歡迎大家收聽今日嘅無限寬頻我已經為大家可以畫3d今日呢我就準備咗一間餐廳同你講下因為我覺得你會鍾意食嘅嘢嚟嘅你每次都話我鍾意食嘅嘢好容易搵嘅啫因為我可以食嘅咁有啲嘢係你冇咁鍾意食㗎嘛甜品呢樣嘢呢其實係日本日本日本餐廳啦咁後日本餐都好多種㗎嘛食好多嘢嘅我覺得係比較\n",
            "Transcript: 被人哋啲就識玩譬如係一個唔係亞洲人啦可能係其他文化嘅人都會接受食呢樣嘢因為唔係嗰啲server迪生嘢食食完返去你會驚我哋飲住先我哋約下中國飲茶食嗰啲鳳爪佢哋又會驚㗎咁樣嘢呢就基本上佢哋唔會驚嘅食緊嚟㗎咁所以係比較大就快啲囉應該就唔會拉麵咁普通啦唔係會唔會係日本嘅定食好似metallica嗰啲嘢嘅舖頭舖頭別在咩呢佢開鋪頭嗰個人下低嗰個主廚個師傅呢佢並唔係日本人哋嘅咁個故事我得以下其實佢個鼻老人\n",
            "Transcript: 秘魯人呢就走咗去日本嗰度我諗佢嗰度住呀發展呀咁樣呀今日著咗好多年嘅時間佢就係出去餐廳返工呀去咗一間專門頂tempura嘅地方咁跟住呢基本上就學先返嚟呀即係其實佢本身呢好鍾意食呢一樣嘢愛上咗對於呢個文化對於有嘢食咁跟住呢佢就決定咗要將呢樣嘢帶返返嚟洛杉磯咁就喺度開間餐廳都係交畀阿神嘅餐廳嚟嘅下午一啲都唔貴唔會有好靚嘅裝修但係呢個嘢食出殯呢就非常之好食嘅而且呢喺短短的開咗唔夠一年嘅時間先嚟啦已經得到好好嘅平台以咁我真係好有興趣喎因為我自己本身呢係鍾意食tempura嘅但我而家講緊唔係話即係隨便咋嘢嗰啲呀係真係專業整tempura\n",
            "Transcript: 鋪頭好多嘅餐廳都會有tempura買咁但係嗰啲emperor如果你話畀喺專業專門做tempura個舖頭呢係一個好大嘅差距假我而家諗緊其實我以前呢就有間好出名呀仔畀我嗰邊呀我哋講真係好貴嘅其實有一間喺toris嗰邊都開咗好多年㗎喇咁我以前都耐唔耐都會去食嘅但係你依家呢我相信我就係唔知道嘅所以我好期待你嘅介紹呀好貴呀我都食過啦但係都未食完呢間之後呢你就發覺原來只係十零蚊都唔使十蚊你就可以食到算係真係唔錯呀得兩張相差唔多嘅呢個地方呀你又係一樣唔係咁容易嘅唔係話我求其返屋企埋一堆雜粉麵粉雞蛋返嚟呢就可以做到㗎因為我哋自己屋企第一少咋嘢啦第二其實嗰個\n",
            "Transcript: 難㗎所有嘢要搬入得非常之好無論係用咩油啦有嘅溫度啦你教唔同嘅嘢需要嘅時間都係唔同嘅咁當然重點點樣去瞓啦咁所以我覺得其實如果你要學識我咁都係幾難嘅嘢囉我覺得係唔容易㗎係其實我以前呢就學個job to run下係跟嗰個日本嘅師傅呀咁所以其實佢有教過我一啲q門喇淨係做呢個分張呢都係用好多嘅步驟同埋公聚假並唔係我哋所講嘅有啲麵粉呀有雞蛋呀點樣呀撈埋一齊呀點樣啦冇撚喺水嘅溫度啦呢啲粉嘅粗細喇你要低過佢啦然後個比例啦等等啦全部都有一個好講究嘅工序同埋份量㗎咁所以點解有啲tempura舖頭有啲人覺得就成間舖頭定係食炸template\n",
            "Transcript: 需唔需要做到咁專業呀需唔需要做咁簡單呀咁樣其實呢如果你試過呢啲真係專門食平啲嘅舖頭呢你好難去返去其他鋪頭食tempura㗎啦咁去到咁遠呀我就真係暈暈咁多其實我覺得你好想食嗰啲你啲call呢一間食炸豬扒好食嘅係諗咗好耐真係好慘呀食一餐我都決定咗去食西餐廳因為隻豬扒有冇食過呀嘛咁佢一陣間呢個時候呢就係中午嚟㗎咁我中午嘅其實因為係生活都幾多人㗎所以唔使等位大都係即可換曬嘅咁其實好簡單好似你話齋佢根本呢就專門做嗰幾樣嘢好想食嗰樣因為我去打畀我吖我到咗先下晝一點\n",
            "Transcript: 就係用呢一個蟹肉呀patrick整嘅成本價錢唔貴喎佢呢個都係咁嘅做法呢就有兩種選擇一呢就係做嗰種嗰啲當即係上面係食物啦下面就煩得好好因為呢都好食嘅一碗白飯就分開跟住有冇麵豉湯跟住呢就係分開嘅我就自己個人呢就比較呢啲呢啲環境我覺得好撚煩囉因為你會將佢炸物香味啦同埋佢有個特世界上第一混合埋一齊好食嘅重點係咩你所有埋佢嘅飯呢佢都有一隻流心蛋\n",
            "Transcript: 流心蛋呢係講明㗎啦佢好佢唔會唔會話畀人聽留心中間嗰個彈琴嘅唔會㗎佢教你將個打咩等個蛋糕嘅樓落個飯度連埋佢本身混合咗嗰度比較特別嘅自由呢一齊食真係好好呀非常之好啦佢唔會過甜會過鹹個味道啱啱好嘅就算你load咗煩到你唔會覺得嘅時候攞返啲全部都係打得好好玩啲嘢就有咩都有炸蝦喇有大雨啦有炸紫菜同埋有打過一陣時見到kappa嘅咁如果你畀貴少少呢就會有一個係炸鰻魚嘅係唔好啦咁我本身自己唔鍾意食鰻魚咁就冇20蚊如果我好似平時賣\n",
            "Transcript: 而家問一問其實一啲都唔貴囉我已經流曬好衰但係真係唔係咁容易食到呀全羅南基就真係得嗰十隻手指數唔夠嘅餐廳啦咁你呢間講嘅呢你就而家我聽你咁都目前為止嘅講法呢我就已經係好想嘅自動ii佢嘅好處呢我覺得係因為唔貴呀你講緊有十二蚊到最貴都係去到20蚊咁定係應該可能貴啲但係你講咁嘅價錢呢有咩食到唔錯佢嗰陣都嚟呢已經係非常之難得㗎啦咁你就比華利山嗰啲食緊講冇辦法定200蚊一位㗎嘛咁平民化啲嘢我覺得你係非常之好食㗎啦\n",
            "Transcript: 比華利山嗰啲就係食咗麥卡錫啦然後去師傅就好似好高級嘅嗰啲方式食啦你而家講緊呢啲就係基本上一個lunch呀或者係平時搞解決咗個肚餓問題嘅一種選擇嚟㗎好平民化價錢相當之豐到咁而且你啱啱所講嘅因為人哋專門做嘅咁我相信佢嘅品質出品呢係絕對係即係專門店舖頭嘅掂啦其實每個人都有自己嘅有自己嘅喜好啦就算真係鍾意食tempura嘅人有啲蝦嘅有啲人唔鍾意食其他嘅其實你啱啱所講嘅炸饅魚呢係我鍾意食嘅男仔入嚟㗎但我唔係嗰啲㗎我係食隻唔係有執嗰啲鰻魚呀我係鍾意食嗰啲淡水鰻魚真係冇嗰啲日子都要吊銷執嗰啲鰻魚所以兩種食法係唔同嘅我鍾意食嗰種就係淡水嘅冇汁嘅蛋\n",
            "Transcript: 哪個方式去做過嘅呢係我其中一個最鍾意食嘅tempura點隻品種之一嚟㗎有埋嗰個站鰻魚嘅我哋都係呀同埋一堆嗰啲菜啦你知我勁怕聲都唔出嚟呢係冇聲嚟㗎即係佢係叫你啦非常之好咁夜瞓呢可能係有唔同嘅境界就食個飯嘅食唔到啲嘢其實好啱㗎嘛係會食到嗰個比例啱啱好啦咁你都係食到好嘅食材啦當然你唔可以要求佢畀最靚嘅咩哈你食啦呢啲咁但係我覺得都係覺得佢啦\n",
            "Transcript: 唔記得當年阿姐而家講緊快十年前嘅事啦你因為佢接飛機就錯過咗一次息tempura嘅機會啦你記唔記得就係一啲好高級嘅我macarthur嘅方式啦咁其實你啱啱講到喇因為出面有好多嘅舖頭咁無論如何去啲lunch嘅時間呢佢都會有一啲所謂嘅我食呀夾tempura令到大部分嘅民眾去到日本餐廳食tempura呢都有一個固有嘅stella態度有個錯覺就差啲嘢出嚟唔係咁重要嘅啫但係當你食咗呢一啲真正嘅member之後呢你就知道你其實對tempura嘅理解呢係一個好錯誤因為如果咋得靚嘅係真係好好食啱啱畫3d所講嘅嗰個脆漿啦個咋分呀如果人哋係真係黃金色嘅咋到兼職薄薄一層\n",
            "Transcript: 出面嘅你食落去呢真係嗰種趣同埋成口粉呢係完全兩回事嚟㗎一種就係食真正tempura同埋出面嗰啲濫竽充數嘅第一個最大嘅分別喺度呀香口啲啦你整返舊熱辣辣嘅飯有啲醬汁喺度呢嗰下啦如果改下呢個備一份冰凍啤酒你呢你就會覺得好熱㗎啦佢十零廿蚊好抵好抵㗎啦好開心㗎喇咁呢個係一個經驗啦我比較佩服嘅就係本身呢間餐廳個老闆同埋個廚佢唔係日本人帶佢亦都會將呢樣嘢都做到佢喺度㗎佢真係出嚟同我哋打招呼自己都親力親為個廚房度做嘢㗎唔係話搞掂咗鋪頭求其搵個人去做啦佢自己都會喺度㗎\n",
            "Transcript: 太平道華喺日本人嘅文化裏面呀特別係啲日本男士呀一放工呢咪佢鍾意佢啲酒吧或者係啲居酒屋度成班同事check下水呀咁樣嘅呢啲所謂嘅social嘅生活啦即係社交生活啦其中一個最熱門嘅嘢食呢就係tempura叫做輕食嘅東西或者係咪食呢就係兩個人或者幾個朋友喺度杯酒飲下啤酒嘅時間呢想一碟tempura咁佢哋食少少就作為送走或者係一種令到個口冇咁無聊㗎仲使唔使喺到普遍好普遍嘅平民嘢食但係做得唔好啦最主要其中一個我總結起嚟呀就係因為以後嘅問題啦有好多舖頭呢慳成本呀永遠都唔肯玩啲人唔願意每日玩但係多一啲真正正宗做tempura舖頭呢佢嗰種tempura油呢你只要任何時間入到去佢個廚房度\n",
            "Transcript: 你都見到啲油係金黃色清澈見底嘅禮個係仲要中嘅重要呀當你啲油唔係新鮮唔係靚的話呢咋出嚟無論顏色香味啦係會絕對影響到你嘅出品㗎點樣溝出嚟呀我諗所有嘢好細微嘅呢都係計過度過㗎啦真係好用咩油呀甚至可能要同一種又唔知會唔會教我自己諗可能都係連個遊都會講究過囉唔係就咁簡單畫但係一開間舖頭求其攞啲尤其嗰啲出嚟打下就係唔係咁簡單嘅我一定會去無論如何就想試試佢嘅lunch先啦然後再睇睇咩情況考慮下dinner你知我其實都幾大食㗎每次去食tempura啲專門做temperature\n",
            "Transcript: 一個阿太我唔係好夠飽三分鐘車程我就去咗個日本嘅超級市場買咗嗰個個都得啦我喺度去到的大概就排咗20分鐘嘅山長水遠去到就排啦是但啦我都係去到你口味呢就係有士多啤梨芒果同埋黑芝麻味嘅都唔係我哋上次介紹過啦就係喺個market裏面嘅當時就話係pop up store嚟㗎原來好明顯而家唔係block都好似永久住佢喺嗰度我諗生意太好喇因為呢應該係確實呢排都開埋我諗係因為只知道演員黎lv真係唔係好多呢一種嘅認多型\n",
            "Transcript: 舖頭咁就變咗個擁飯食而且佢哋都識簽名啦成日轉口味呀嘛佢都係貴十蚊得12個鐘呀我真係好貴喎呢個嘢確實係好貴呀但係每個人嘅審法就係我同你咁樣啦山長水遠去到咁長水牌幾多錢冇所謂呀幾好嗰堆麵粉等嚟㗎咋嘛我覺得有時有啲做生意就係咁㗎啦得啦而家啲成本比較低嘅產品呀當你做得約為一名氣或者做得唔錯嘅情況下呢係貴少少呢冇人會投訴呀\n",
            "Transcript: 去到嗰度啦然後正如你所講嘅龜極都係廿蚊畀多你double啦都係45蚊唔會變咗四百蚊呀咁樣即係完全係唔會㗎嘛既然去到幾長龍都排啦一買你見到啲人呢一買呢係一打以上㗎啦咁辛苦你點都要買粥盡量去買㗎啦唔會話買少少咁樣嘅因為你始終有一日之後加好食呢個成功嘅地方所以我當時心甘情願畀20蚊呢就返到屋企假日都好食嘅我覺得ok\n",
            "Transcript: 所謂嘅出醒之行收穫都幾大喎咁所以今次我覺得係好成功嘅個出行咁呀希望有機會你都去試下啦好多謝你嘅介紹呀今日嘅無限寬頻到此為止我哋下星期再傾\n"
          ],
          "name": "stdout"
        }
      ]
    },
    {
      "cell_type": "code",
      "metadata": {
        "id": "eqz3ntCyV1yK",
        "colab_type": "code",
        "outputId": "a1a45335-a6e6-4891-ac9a-24ff40d94365",
        "colab": {
          "base_uri": "https://localhost:8080/",
          "height": 1000
        }
      },
      "source": [
        "data"
      ],
      "execution_count": 9,
      "outputs": [
        {
          "output_type": "execute_result",
          "data": {
            "text/plain": [
              "results {\n",
              "  alternatives {\n",
              "    transcript: \"\\347\\276\\216\\345\\274\\217\\347\\204\\241\\351\\231\\220\\347\\204\\241\\351\\231\\220\\345\\257\\254\\351\\240\\273\\344\\272\\272\\344\\272\\272\\346\\234\\211\\344\\273\\275\\345\\245\\275\\346\\255\\241\\350\\277\\216\\345\\244\\247\\345\\256\\266\\346\\224\\266\\350\\201\\275\\344\\273\\212\\346\\227\\245\\345\\230\\205\\347\\204\\241\\351\\231\\220\\345\\257\\254\\351\\240\\273\\346\\210\\221\\345\\267\\262\\347\\266\\223\\347\\202\\272\\345\\244\\247\\345\\256\\266\\345\\217\\257\\344\\273\\245\\347\\225\\2533d\\344\\273\\212\\346\\227\\245\\345\\221\\242\\346\\210\\221\\345\\260\\261\\346\\272\\226\\345\\202\\231\\345\\222\\227\\344\\270\\200\\351\\226\\223\\351\\244\\220\\345\\273\\263\\345\\220\\214\\344\\275\\240\\350\\254\\233\\344\\270\\213\\345\\233\\240\\347\\202\\272\\346\\210\\221\\350\\246\\272\\345\\276\\227\\344\\275\\240\\346\\234\\203\\351\\215\\276\\346\\204\\217\\351\\243\\237\\345\\230\\205\\345\\230\\242\\345\\232\\237\\345\\230\\205\\344\\275\\240\\346\\257\\217\\346\\254\\241\\351\\203\\275\\350\\251\\261\\346\\210\\221\\351\\215\\276\\346\\204\\217\\351\\243\\237\\345\\230\\205\\345\\230\\242\\345\\245\\275\\345\\256\\271\\346\\230\\223\\346\\220\\265\\345\\230\\205\\345\\225\\253\\345\\233\\240\\347\\202\\272\\346\\210\\221\\345\\217\\257\\344\\273\\245\\351\\243\\237\\345\\230\\205\\345\\222\\201\\346\\234\\211\\345\\225\\262\\345\\230\\242\\344\\277\\202\\344\\275\\240\\345\\206\\207\\345\\222\\201\\351\\215\\276\\346\\204\\217\\351\\243\\237\\343\\227\\216\\345\\230\\233\\347\\224\\234\\345\\223\\201\\345\\221\\242\\346\\250\\243\\345\\230\\242\\345\\221\\242\\345\\205\\266\\345\\257\\246\\344\\277\\202\\346\\227\\245\\346\\234\\254\\346\\227\\245\\346\\234\\254\\346\\227\\245\\346\\234\\254\\351\\244\\220\\345\\273\\263\\345\\225\\246\\345\\222\\201\\345\\276\\214\\346\\227\\245\\346\\234\\254\\351\\244\\220\\351\\203\\275\\345\\245\\275\\345\\244\\232\\347\\250\\256\\343\\227\\216\\345\\230\\233\\351\\243\\237\\345\\245\\275\\345\\244\\232\\345\\230\\242\\345\\230\\205\\346\\210\\221\\350\\246\\272\\345\\276\\227\\344\\277\\202\\346\\257\\224\\350\\274\\203\"\n",
              "    confidence: 0.9507006406784058\n",
              "  }\n",
              "}\n",
              "results {\n",
              "  alternatives {\n",
              "    transcript: \"\\350\\242\\253\\344\\272\\272\\345\\223\\213\\345\\225\\262\\345\\260\\261\\350\\255\\230\\347\\216\\251\\350\\255\\254\\345\\246\\202\\344\\277\\202\\344\\270\\200\\345\\200\\213\\345\\224\\224\\344\\277\\202\\344\\272\\236\\346\\264\\262\\344\\272\\272\\345\\225\\246\\345\\217\\257\\350\\203\\275\\344\\277\\202\\345\\205\\266\\344\\273\\226\\346\\226\\207\\345\\214\\226\\345\\230\\205\\344\\272\\272\\351\\203\\275\\346\\234\\203\\346\\216\\245\\345\\217\\227\\351\\243\\237\\345\\221\\242\\346\\250\\243\\345\\230\\242\\345\\233\\240\\347\\202\\272\\345\\224\\224\\344\\277\\202\\345\\227\\260\\345\\225\\262server\\350\\277\\252\\347\\224\\237\\345\\230\\242\\351\\243\\237\\351\\243\\237\\345\\256\\214\\350\\277\\224\\345\\216\\273\\344\\275\\240\\346\\234\\203\\351\\251\\232\\346\\210\\221\\345\\223\\213\\351\\243\\262\\344\\275\\217\\345\\205\\210\\346\\210\\221\\345\\223\\213\\347\\264\\204\\344\\270\\213\\344\\270\\255\\345\\234\\213\\351\\243\\262\\350\\214\\266\\351\\243\\237\\345\\227\\260\\345\\225\\262\\351\\263\\263\\347\\210\\252\\344\\275\\242\\345\\223\\213\\345\\217\\210\\346\\234\\203\\351\\251\\232\\343\\227\\216\\345\\222\\201\\346\\250\\243\\345\\230\\242\\345\\221\\242\\345\\260\\261\\345\\237\\272\\346\\234\\254\\344\\270\\212\\344\\275\\242\\345\\223\\213\\345\\224\\224\\346\\234\\203\\351\\251\\232\\345\\230\\205\\351\\243\\237\\347\\267\\212\\345\\232\\237\\343\\227\\216\\345\\222\\201\\346\\211\\200\\344\\273\\245\\344\\277\\202\\346\\257\\224\\350\\274\\203\\345\\244\\247\\345\\260\\261\\345\\277\\253\\345\\225\\262\\345\\233\\211\\346\\207\\211\\350\\251\\262\\345\\260\\261\\345\\224\\224\\346\\234\\203\\346\\213\\211\\351\\272\\265\\345\\222\\201\\346\\231\\256\\351\\200\\232\\345\\225\\246\\345\\224\\224\\344\\277\\202\\346\\234\\203\\345\\224\\224\\346\\234\\203\\344\\277\\202\\346\\227\\245\\346\\234\\254\\345\\230\\205\\345\\256\\232\\351\\243\\237\\345\\245\\275\\344\\274\\274metallica\\345\\227\\260\\345\\225\\262\\345\\230\\242\\345\\230\\205\\350\\210\\226\\351\\240\\255\\350\\210\\226\\351\\240\\255\\345\\210\\245\\345\\234\\250\\345\\222\\251\\345\\221\\242\\344\\275\\242\\351\\226\\213\\351\\213\\252\\351\\240\\255\\345\\227\\260\\345\\200\\213\\344\\272\\272\\344\\270\\213\\344\\275\\216\\345\\227\\260\\345\\200\\213\\344\\270\\273\\345\\273\\232\\345\\200\\213\\345\\270\\253\\345\\202\\205\\345\\221\\242\\344\\275\\242\\344\\270\\246\\345\\224\\224\\344\\277\\202\\346\\227\\245\\346\\234\\254\\344\\272\\272\\345\\223\\213\\345\\230\\205\\345\\222\\201\\345\\200\\213\\346\\225\\205\\344\\272\\213\\346\\210\\221\\345\\276\\227\\344\\273\\245\\344\\270\\213\\345\\205\\266\\345\\257\\246\\344\\275\\242\\345\\200\\213\\351\\274\\273\\350\\200\\201\\344\\272\\272\"\n",
              "    confidence: 0.9418032169342041\n",
              "  }\n",
              "}\n",
              "results {\n",
              "  alternatives {\n",
              "    transcript: \"\\347\\247\\230\\351\\255\\257\\344\\272\\272\\345\\221\\242\\345\\260\\261\\350\\265\\260\\345\\222\\227\\345\\216\\273\\346\\227\\245\\346\\234\\254\\345\\227\\260\\345\\272\\246\\346\\210\\221\\350\\253\\227\\344\\275\\242\\345\\227\\260\\345\\272\\246\\344\\275\\217\\345\\221\\200\\347\\231\\274\\345\\261\\225\\345\\221\\200\\345\\222\\201\\346\\250\\243\\345\\221\\200\\344\\273\\212\\346\\227\\245\\350\\221\\227\\345\\222\\227\\345\\245\\275\\345\\244\\232\\345\\271\\264\\345\\230\\205\\346\\231\\202\\351\\226\\223\\344\\275\\242\\345\\260\\261\\344\\277\\202\\345\\207\\272\\345\\216\\273\\351\\244\\220\\345\\273\\263\\350\\277\\224\\345\\267\\245\\345\\221\\200\\345\\216\\273\\345\\222\\227\\344\\270\\200\\351\\226\\223\\345\\260\\210\\351\\226\\200\\351\\240\\202tempura\\345\\230\\205\\345\\234\\260\\346\\226\\271\\345\\222\\201\\350\\267\\237\\344\\275\\217\\345\\221\\242\\345\\237\\272\\346\\234\\254\\344\\270\\212\\345\\260\\261\\345\\255\\270\\345\\205\\210\\350\\277\\224\\345\\232\\237\\345\\221\\200\\345\\215\\263\\344\\277\\202\\345\\205\\266\\345\\257\\246\\344\\275\\242\\346\\234\\254\\350\\272\\253\\345\\221\\242\\345\\245\\275\\351\\215\\276\\346\\204\\217\\351\\243\\237\\345\\221\\242\\344\\270\\200\\346\\250\\243\\345\\230\\242\\346\\204\\233\\344\\270\\212\\345\\222\\227\\345\\260\\215\\346\\226\\274\\345\\221\\242\\345\\200\\213\\346\\226\\207\\345\\214\\226\\345\\260\\215\\346\\226\\274\\346\\234\\211\\345\\230\\242\\351\\243\\237\\345\\222\\201\\350\\267\\237\\344\\275\\217\\345\\221\\242\\344\\275\\242\\345\\260\\261\\346\\261\\272\\345\\256\\232\\345\\222\\227\\350\\246\\201\\345\\260\\207\\345\\221\\242\\346\\250\\243\\345\\230\\242\\345\\270\\266\\350\\277\\224\\350\\277\\224\\345\\232\\237\\346\\264\\233\\346\\235\\211\\347\\243\\257\\345\\222\\201\\345\\260\\261\\345\\226\\272\\345\\272\\246\\351\\226\\213\\351\\226\\223\\351\\244\\220\\345\\273\\263\\351\\203\\275\\344\\277\\202\\344\\272\\244\\347\\225\\200\\351\\230\\277\\347\\245\\236\\345\\230\\205\\351\\244\\220\\345\\273\\263\\345\\232\\237\\345\\230\\205\\344\\270\\213\\345\\215\\210\\344\\270\\200\\345\\225\\262\\351\\203\\275\\345\\224\\224\\350\\262\\264\\345\\224\\224\\346\\234\\203\\346\\234\\211\\345\\245\\275\\351\\235\\232\\345\\230\\205\\350\\243\\235\\344\\277\\256\\344\\275\\206\\344\\277\\202\\345\\221\\242\\345\\200\\213\\345\\230\\242\\351\\243\\237\\345\\207\\272\\346\\256\\257\\345\\221\\242\\345\\260\\261\\351\\235\\236\\345\\270\\270\\344\\271\\213\\345\\245\\275\\351\\243\\237\\345\\230\\205\\350\\200\\214\\344\\270\\224\\345\\221\\242\\345\\226\\272\\347\\237\\255\\347\\237\\255\\347\\232\\204\\351\\226\\213\\345\\222\\227\\345\\224\\224\\345\\244\\240\\344\\270\\200\\345\\271\\264\\345\\230\\205\\346\\231\\202\\351\\226\\223\\345\\205\\210\\345\\232\\237\\345\\225\\246\\345\\267\\262\\347\\266\\223\\345\\276\\227\\345\\210\\260\\345\\245\\275\\345\\245\\275\\345\\230\\205\\345\\271\\263\\345\\217\\260\\344\\273\\245\\345\\222\\201\\346\\210\\221\\347\\234\\237\\344\\277\\202\\345\\245\\275\\346\\234\\211\\350\\210\\210\\350\\266\\243\\345\\226\\216\\345\\233\\240\\347\\202\\272\\346\\210\\221\\350\\207\\252\\345\\267\\261\\346\\234\\254\\350\\272\\253\\345\\221\\242\\344\\277\\202\\351\\215\\276\\346\\204\\217\\351\\243\\237tempura\\345\\230\\205\\344\\275\\206\\346\\210\\221\\350\\200\\214\\345\\256\\266\\350\\254\\233\\347\\267\\212\\345\\224\\224\\344\\277\\202\\350\\251\\261\\345\\215\\263\\344\\277\\202\\351\\232\\250\\344\\276\\277\\345\\222\\213\\345\\230\\242\\345\\227\\260\\345\\225\\262\\345\\221\\200\\344\\277\\202\\347\\234\\237\\344\\277\\202\\345\\260\\210\\346\\245\\255\\346\\225\\264tempura\"\n",
              "    confidence: 0.9463895559310913\n",
              "  }\n",
              "}\n",
              "results {\n",
              "  alternatives {\n",
              "    transcript: \"\\351\\213\\252\\351\\240\\255\\345\\245\\275\\345\\244\\232\\345\\230\\205\\351\\244\\220\\345\\273\\263\\351\\203\\275\\346\\234\\203\\346\\234\\211tempura\\350\\262\\267\\345\\222\\201\\344\\275\\206\\344\\277\\202\\345\\227\\260\\345\\225\\262emperor\\345\\246\\202\\346\\236\\234\\344\\275\\240\\350\\251\\261\\347\\225\\200\\345\\226\\272\\345\\260\\210\\346\\245\\255\\345\\260\\210\\351\\226\\200\\345\\201\\232tempura\\345\\200\\213\\350\\210\\226\\351\\240\\255\\345\\221\\242\\344\\277\\202\\344\\270\\200\\345\\200\\213\\345\\245\\275\\345\\244\\247\\345\\230\\205\\345\\267\\256\\350\\267\\235\\345\\201\\207\\346\\210\\221\\350\\200\\214\\345\\256\\266\\350\\253\\227\\347\\267\\212\\345\\205\\266\\345\\257\\246\\346\\210\\221\\344\\273\\245\\345\\211\\215\\345\\221\\242\\345\\260\\261\\346\\234\\211\\351\\226\\223\\345\\245\\275\\345\\207\\272\\345\\220\\215\\345\\221\\200\\344\\273\\224\\347\\225\\200\\346\\210\\221\\345\\227\\260\\351\\202\\212\\345\\221\\200\\346\\210\\221\\345\\223\\213\\350\\254\\233\\347\\234\\237\\344\\277\\202\\345\\245\\275\\350\\262\\264\\345\\230\\205\\345\\205\\266\\345\\257\\246\\346\\234\\211\\344\\270\\200\\351\\226\\223\\345\\226\\272toris\\345\\227\\260\\351\\202\\212\\351\\203\\275\\351\\226\\213\\345\\222\\227\\345\\245\\275\\345\\244\\232\\345\\271\\264\\343\\227\\216\\345\\226\\207\\345\\222\\201\\346\\210\\221\\344\\273\\245\\345\\211\\215\\351\\203\\275\\350\\200\\220\\345\\224\\224\\350\\200\\220\\351\\203\\275\\346\\234\\203\\345\\216\\273\\351\\243\\237\\345\\230\\205\\344\\275\\206\\344\\277\\202\\344\\275\\240\\344\\276\\235\\345\\256\\266\\345\\221\\242\\346\\210\\221\\347\\233\\270\\344\\277\\241\\346\\210\\221\\345\\260\\261\\344\\277\\202\\345\\224\\224\\347\\237\\245\\351\\201\\223\\345\\230\\205\\346\\211\\200\\344\\273\\245\\346\\210\\221\\345\\245\\275\\346\\234\\237\\345\\276\\205\\344\\275\\240\\345\\230\\205\\344\\273\\213\\347\\264\\271\\345\\221\\200\\345\\245\\275\\350\\262\\264\\345\\221\\200\\346\\210\\221\\351\\203\\275\\351\\243\\237\\351\\201\\216\\345\\225\\246\\344\\275\\206\\344\\277\\202\\351\\203\\275\\346\\234\\252\\351\\243\\237\\345\\256\\214\\345\\221\\242\\351\\226\\223\\344\\271\\213\\345\\276\\214\\345\\221\\242\\344\\275\\240\\345\\260\\261\\347\\231\\274\\350\\246\\272\\345\\216\\237\\344\\276\\206\\345\\217\\252\\344\\277\\202\\345\\215\\201\\351\\233\\266\\350\\232\\212\\351\\203\\275\\345\\224\\224\\344\\275\\277\\345\\215\\201\\350\\232\\212\\344\\275\\240\\345\\260\\261\\345\\217\\257\\344\\273\\245\\351\\243\\237\\345\\210\\260\\347\\256\\227\\344\\277\\202\\347\\234\\237\\344\\277\\202\\345\\224\\224\\351\\214\\257\\345\\221\\200\\345\\276\\227\\345\\205\\251\\345\\274\\265\\347\\233\\270\\345\\267\\256\\345\\224\\224\\345\\244\\232\\345\\230\\205\\345\\221\\242\\345\\200\\213\\345\\234\\260\\346\\226\\271\\345\\221\\200\\344\\275\\240\\345\\217\\210\\344\\277\\202\\344\\270\\200\\346\\250\\243\\345\\224\\224\\344\\277\\202\\345\\222\\201\\345\\256\\271\\346\\230\\223\\345\\230\\205\\345\\224\\224\\344\\277\\202\\350\\251\\261\\346\\210\\221\\346\\261\\202\\345\\205\\266\\350\\277\\224\\345\\261\\213\\344\\274\\201\\345\\237\\213\\344\\270\\200\\345\\240\\206\\351\\233\\234\\347\\262\\211\\351\\272\\265\\347\\262\\211\\351\\233\\236\\350\\233\\213\\350\\277\\224\\345\\232\\237\\345\\221\\242\\345\\260\\261\\345\\217\\257\\344\\273\\245\\345\\201\\232\\345\\210\\260\\343\\227\\216\\345\\233\\240\\347\\202\\272\\346\\210\\221\\345\\223\\213\\350\\207\\252\\345\\267\\261\\345\\261\\213\\344\\274\\201\\347\\254\\254\\344\\270\\200\\345\\260\\221\\345\\222\\213\\345\\230\\242\\345\\225\\246\\347\\254\\254\\344\\272\\214\\345\\205\\266\\345\\257\\246\\345\\227\\260\\345\\200\\213\"\n",
              "    confidence: 0.9419048428535461\n",
              "  }\n",
              "}\n",
              "results {\n",
              "  alternatives {\n",
              "    transcript: \"\\351\\233\\243\\343\\227\\216\\346\\211\\200\\346\\234\\211\\345\\230\\242\\350\\246\\201\\346\\220\\254\\345\\205\\245\\345\\276\\227\\351\\235\\236\\345\\270\\270\\344\\271\\213\\345\\245\\275\\347\\204\\241\\350\\253\\226\\344\\277\\202\\347\\224\\250\\345\\222\\251\\346\\262\\271\\345\\225\\246\\346\\234\\211\\345\\230\\205\\346\\272\\253\\345\\272\\246\\345\\225\\246\\344\\275\\240\\346\\225\\231\\345\\224\\224\\345\\220\\214\\345\\230\\205\\345\\230\\242\\351\\234\\200\\350\\246\\201\\345\\230\\205\\346\\231\\202\\351\\226\\223\\351\\203\\275\\344\\277\\202\\345\\224\\224\\345\\220\\214\\345\\230\\205\\345\\222\\201\\347\\225\\266\\347\\204\\266\\351\\207\\215\\351\\273\\236\\351\\273\\236\\346\\250\\243\\345\\216\\273\\347\\236\\223\\345\\225\\246\\345\\222\\201\\346\\211\\200\\344\\273\\245\\346\\210\\221\\350\\246\\272\\345\\276\\227\\345\\205\\266\\345\\257\\246\\345\\246\\202\\346\\236\\234\\344\\275\\240\\350\\246\\201\\345\\255\\270\\350\\255\\230\\346\\210\\221\\345\\222\\201\\351\\203\\275\\344\\277\\202\\345\\271\\276\\351\\233\\243\\345\\230\\205\\345\\230\\242\\345\\233\\211\\346\\210\\221\\350\\246\\272\\345\\276\\227\\344\\277\\202\\345\\224\\224\\345\\256\\271\\346\\230\\223\\343\\227\\216\\344\\277\\202\\345\\205\\266\\345\\257\\246\\346\\210\\221\\344\\273\\245\\345\\211\\215\\345\\221\\242\\345\\260\\261\\345\\255\\270\\345\\200\\213job to run\\344\\270\\213\\344\\277\\202\\350\\267\\237\\345\\227\\260\\345\\200\\213\\346\\227\\245\\346\\234\\254\\345\\230\\205\\345\\270\\253\\345\\202\\205\\345\\221\\200\\345\\222\\201\\346\\211\\200\\344\\273\\245\\345\\205\\266\\345\\257\\246\\344\\275\\242\\346\\234\\211\\346\\225\\231\\351\\201\\216\\346\\210\\221\\344\\270\\200\\345\\225\\262q\\351\\226\\200\\345\\226\\207\\346\\267\\250\\344\\277\\202\\345\\201\\232\\345\\221\\242\\345\\200\\213\\345\\210\\206\\345\\274\\265\\345\\221\\242\\351\\203\\275\\344\\277\\202\\347\\224\\250\\345\\245\\275\\345\\244\\232\\345\\230\\205\\346\\255\\245\\351\\251\\237\\345\\220\\214\\345\\237\\213\\345\\205\\254\\350\\201\\232\\345\\201\\207\\344\\270\\246\\345\\224\\224\\344\\277\\202\\346\\210\\221\\345\\223\\213\\346\\211\\200\\350\\254\\233\\345\\230\\205\\346\\234\\211\\345\\225\\262\\351\\272\\265\\347\\262\\211\\345\\221\\200\\346\\234\\211\\351\\233\\236\\350\\233\\213\\345\\221\\200\\351\\273\\236\\346\\250\\243\\345\\221\\200\\346\\222\\210\\345\\237\\213\\344\\270\\200\\351\\275\\212\\345\\221\\200\\351\\273\\236\\346\\250\\243\\345\\225\\246\\345\\206\\207\\346\\222\\232\\345\\226\\272\\346\\260\\264\\345\\230\\205\\346\\272\\253\\345\\272\\246\\345\\225\\246\\345\\221\\242\\345\\225\\262\\347\\262\\211\\345\\230\\205\\347\\262\\227\\347\\264\\260\\345\\226\\207\\344\\275\\240\\350\\246\\201\\344\\275\\216\\351\\201\\216\\344\\275\\242\\345\\225\\246\\347\\204\\266\\345\\276\\214\\345\\200\\213\\346\\257\\224\\344\\276\\213\\345\\225\\246\\347\\255\\211\\347\\255\\211\\345\\225\\246\\345\\205\\250\\351\\203\\250\\351\\203\\275\\346\\234\\211\\344\\270\\200\\345\\200\\213\\345\\245\\275\\350\\254\\233\\347\\251\\266\\345\\230\\205\\345\\267\\245\\345\\272\\217\\345\\220\\214\\345\\237\\213\\344\\273\\275\\351\\207\\217\\343\\227\\216\\345\\222\\201\\346\\211\\200\\344\\273\\245\\351\\273\\236\\350\\247\\243\\346\\234\\211\\345\\225\\262tempura\\350\\210\\226\\351\\240\\255\\346\\234\\211\\345\\225\\262\\344\\272\\272\\350\\246\\272\\345\\276\\227\\345\\260\\261\\346\\210\\220\\351\\226\\223\\350\\210\\226\\351\\240\\255\\345\\256\\232\\344\\277\\202\\351\\243\\237\\347\\202\\270template\"\n",
              "    confidence: 0.9485453367233276\n",
              "  }\n",
              "}\n",
              "results {\n",
              "  alternatives {\n",
              "    transcript: \"\\351\\234\\200\\345\\224\\224\\351\\234\\200\\350\\246\\201\\345\\201\\232\\345\\210\\260\\345\\222\\201\\345\\260\\210\\346\\245\\255\\345\\221\\200\\351\\234\\200\\345\\224\\224\\351\\234\\200\\350\\246\\201\\345\\201\\232\\345\\222\\201\\347\\260\\241\\345\\226\\256\\345\\221\\200\\345\\222\\201\\346\\250\\243\\345\\205\\266\\345\\257\\246\\345\\221\\242\\345\\246\\202\\346\\236\\234\\344\\275\\240\\350\\251\\246\\351\\201\\216\\345\\221\\242\\345\\225\\262\\347\\234\\237\\344\\277\\202\\345\\260\\210\\351\\226\\200\\351\\243\\237\\345\\271\\263\\345\\225\\262\\345\\230\\205\\350\\210\\226\\351\\240\\255\\345\\221\\242\\344\\275\\240\\345\\245\\275\\351\\233\\243\\345\\216\\273\\350\\277\\224\\345\\216\\273\\345\\205\\266\\344\\273\\226\\351\\213\\252\\351\\240\\255\\351\\243\\237tempura\\343\\227\\216\\345\\225\\246\\345\\222\\201\\345\\216\\273\\345\\210\\260\\345\\222\\201\\351\\201\\240\\345\\221\\200\\346\\210\\221\\345\\260\\261\\347\\234\\237\\344\\277\\202\\346\\232\\210\\346\\232\\210\\345\\222\\201\\345\\244\\232\\345\\205\\266\\345\\257\\246\\346\\210\\221\\350\\246\\272\\345\\276\\227\\344\\275\\240\\345\\245\\275\\346\\203\\263\\351\\243\\237\\345\\227\\260\\345\\225\\262\\344\\275\\240\\345\\225\\262call\\345\\221\\242\\344\\270\\200\\351\\226\\223\\351\\243\\237\\347\\202\\270\\350\\261\\254\\346\\211\\222\\345\\245\\275\\351\\243\\237\\345\\230\\205\\344\\277\\202\\350\\253\\227\\345\\222\\227\\345\\245\\275\\350\\200\\220\\347\\234\\237\\344\\277\\202\\345\\245\\275\\346\\205\\230\\345\\221\\200\\351\\243\\237\\344\\270\\200\\351\\244\\220\\346\\210\\221\\351\\203\\275\\346\\261\\272\\345\\256\\232\\345\\222\\227\\345\\216\\273\\351\\243\\237\\350\\245\\277\\351\\244\\220\\345\\273\\263\\345\\233\\240\\347\\202\\272\\351\\232\\273\\350\\261\\254\\346\\211\\222\\346\\234\\211\\345\\206\\207\\351\\243\\237\\351\\201\\216\\345\\221\\200\\345\\230\\233\\345\\222\\201\\344\\275\\242\\344\\270\\200\\351\\231\\243\\351\\226\\223\\345\\221\\242\\345\\200\\213\\346\\231\\202\\345\\200\\231\\345\\221\\242\\345\\260\\261\\344\\277\\202\\344\\270\\255\\345\\215\\210\\345\\232\\237\\343\\227\\216\\345\\222\\201\\346\\210\\221\\344\\270\\255\\345\\215\\210\\345\\230\\205\\345\\205\\266\\345\\257\\246\\345\\233\\240\\347\\202\\272\\344\\277\\202\\347\\224\\237\\346\\264\\273\\351\\203\\275\\345\\271\\276\\345\\244\\232\\344\\272\\272\\343\\227\\216\\346\\211\\200\\344\\273\\245\\345\\224\\224\\344\\275\\277\\347\\255\\211\\344\\275\\215\\345\\244\\247\\351\\203\\275\\344\\277\\202\\345\\215\\263\\345\\217\\257\\346\\217\\233\\346\\233\\254\\345\\230\\205\\345\\222\\201\\345\\205\\266\\345\\257\\246\\345\\245\\275\\347\\260\\241\\345\\226\\256\\345\\245\\275\\344\\274\\274\\344\\275\\240\\350\\251\\261\\351\\275\\213\\344\\275\\242\\346\\240\\271\\346\\234\\254\\345\\221\\242\\345\\260\\261\\345\\260\\210\\351\\226\\200\\345\\201\\232\\345\\227\\260\\345\\271\\276\\346\\250\\243\\345\\230\\242\\345\\245\\275\\346\\203\\263\\351\\243\\237\\345\\227\\260\\346\\250\\243\\345\\233\\240\\347\\202\\272\\346\\210\\221\\345\\216\\273\\346\\211\\223\\347\\225\\200\\346\\210\\221\\345\\220\\226\\346\\210\\221\\345\\210\\260\\345\\222\\227\\345\\205\\210\\344\\270\\213\\346\\231\\235\\344\\270\\200\\351\\273\\236\"\n",
              "    confidence: 0.9467355608940125\n",
              "  }\n",
              "}\n",
              "results {\n",
              "  alternatives {\n",
              "    transcript: \"\\345\\260\\261\\344\\277\\202\\347\\224\\250\\345\\221\\242\\344\\270\\200\\345\\200\\213\\350\\237\\271\\350\\202\\211\\345\\221\\200patrick\\346\\225\\264\\345\\230\\205\\346\\210\\220\\346\\234\\254\\345\\203\\271\\351\\214\\242\\345\\224\\224\\350\\262\\264\\345\\226\\216\\344\\275\\242\\345\\221\\242\\345\\200\\213\\351\\203\\275\\344\\277\\202\\345\\222\\201\\345\\230\\205\\345\\201\\232\\346\\263\\225\\345\\221\\242\\345\\260\\261\\346\\234\\211\\345\\205\\251\\347\\250\\256\\351\\201\\270\\346\\223\\207\\344\\270\\200\\345\\221\\242\\345\\260\\261\\344\\277\\202\\345\\201\\232\\345\\227\\260\\347\\250\\256\\345\\227\\260\\345\\225\\262\\347\\225\\266\\345\\215\\263\\344\\277\\202\\344\\270\\212\\351\\235\\242\\344\\277\\202\\351\\243\\237\\347\\211\\251\\345\\225\\246\\344\\270\\213\\351\\235\\242\\345\\260\\261\\347\\205\\251\\345\\276\\227\\345\\245\\275\\345\\245\\275\\345\\233\\240\\347\\202\\272\\345\\221\\242\\351\\203\\275\\345\\245\\275\\351\\243\\237\\345\\230\\205\\344\\270\\200\\347\\242\\227\\347\\231\\275\\351\\243\\257\\345\\260\\261\\345\\210\\206\\351\\226\\213\\350\\267\\237\\344\\275\\217\\346\\234\\211\\345\\206\\207\\351\\272\\265\\350\\261\\211\\346\\271\\257\\350\\267\\237\\344\\275\\217\\345\\221\\242\\345\\260\\261\\344\\277\\202\\345\\210\\206\\351\\226\\213\\345\\230\\205\\346\\210\\221\\345\\260\\261\\350\\207\\252\\345\\267\\261\\345\\200\\213\\344\\272\\272\\345\\221\\242\\345\\260\\261\\346\\257\\224\\350\\274\\203\\345\\221\\242\\345\\225\\262\\345\\221\\242\\345\\225\\262\\347\\222\\260\\345\\242\\203\\346\\210\\221\\350\\246\\272\\345\\276\\227\\345\\245\\275\\346\\222\\232\\347\\205\\251\\345\\233\\211\\345\\233\\240\\347\\202\\272\\344\\275\\240\\346\\234\\203\\345\\260\\207\\344\\275\\242\\347\\202\\270\\347\\211\\251\\351\\246\\231\\345\\221\\263\\345\\225\\246\\345\\220\\214\\345\\237\\213\\344\\275\\242\\346\\234\\211\\345\\200\\213\\347\\211\\271\\344\\270\\226\\347\\225\\214\\344\\270\\212\\347\\254\\254\\344\\270\\200\\346\\267\\267\\345\\220\\210\\345\\237\\213\\344\\270\\200\\351\\275\\212\\345\\245\\275\\351\\243\\237\\345\\230\\205\\351\\207\\215\\351\\273\\236\\344\\277\\202\\345\\222\\251\\344\\275\\240\\346\\211\\200\\346\\234\\211\\345\\237\\213\\344\\275\\242\\345\\230\\205\\351\\243\\257\\345\\221\\242\\344\\275\\242\\351\\203\\275\\346\\234\\211\\344\\270\\200\\351\\232\\273\\346\\265\\201\\345\\277\\203\\350\\233\\213\"\n",
              "    confidence: 0.9448187947273254\n",
              "  }\n",
              "}\n",
              "results {\n",
              "  alternatives {\n",
              "    transcript: \"\\346\\265\\201\\345\\277\\203\\350\\233\\213\\345\\221\\242\\344\\277\\202\\350\\254\\233\\346\\230\\216\\343\\227\\216\\345\\225\\246\\344\\275\\242\\345\\245\\275\\344\\275\\242\\345\\224\\224\\346\\234\\203\\345\\224\\224\\346\\234\\203\\350\\251\\261\\347\\225\\200\\344\\272\\272\\350\\201\\275\\347\\225\\231\\345\\277\\203\\344\\270\\255\\351\\226\\223\\345\\227\\260\\345\\200\\213\\345\\275\\210\\347\\220\\264\\345\\230\\205\\345\\224\\224\\346\\234\\203\\343\\227\\216\\344\\275\\242\\346\\225\\231\\344\\275\\240\\345\\260\\207\\345\\200\\213\\346\\211\\223\\345\\222\\251\\347\\255\\211\\345\\200\\213\\350\\233\\213\\347\\263\\225\\345\\230\\205\\346\\250\\223\\350\\220\\275\\345\\200\\213\\351\\243\\257\\345\\272\\246\\351\\200\\243\\345\\237\\213\\344\\275\\242\\346\\234\\254\\350\\272\\253\\346\\267\\267\\345\\220\\210\\345\\222\\227\\345\\227\\260\\345\\272\\246\\346\\257\\224\\350\\274\\203\\347\\211\\271\\345\\210\\245\\345\\230\\205\\350\\207\\252\\347\\224\\261\\345\\221\\242\\344\\270\\200\\351\\275\\212\\351\\243\\237\\347\\234\\237\\344\\277\\202\\345\\245\\275\\345\\245\\275\\345\\221\\200\\351\\235\\236\\345\\270\\270\\344\\271\\213\\345\\245\\275\\345\\225\\246\\344\\275\\242\\345\\224\\224\\346\\234\\203\\351\\201\\216\\347\\224\\234\\346\\234\\203\\351\\201\\216\\351\\271\\271\\345\\200\\213\\345\\221\\263\\351\\201\\223\\345\\225\\261\\345\\225\\261\\345\\245\\275\\345\\230\\205\\345\\260\\261\\347\\256\\227\\344\\275\\240load\\345\\222\\227\\347\\205\\251\\345\\210\\260\\344\\275\\240\\345\\224\\224\\346\\234\\203\\350\\246\\272\\345\\276\\227\\345\\230\\205\\346\\231\\202\\345\\200\\231\\346\\224\\236\\350\\277\\224\\345\\225\\262\\345\\205\\250\\351\\203\\250\\351\\203\\275\\344\\277\\202\\346\\211\\223\\345\\276\\227\\345\\245\\275\\345\\245\\275\\347\\216\\251\\345\\225\\262\\345\\230\\242\\345\\260\\261\\346\\234\\211\\345\\222\\251\\351\\203\\275\\346\\234\\211\\347\\202\\270\\350\\235\\246\\345\\226\\207\\346\\234\\211\\345\\244\\247\\351\\233\\250\\345\\225\\246\\346\\234\\211\\347\\202\\270\\347\\264\\253\\350\\217\\234\\345\\220\\214\\345\\237\\213\\346\\234\\211\\346\\211\\223\\351\\201\\216\\344\\270\\200\\351\\231\\243\\346\\231\\202\\350\\246\\213\\345\\210\\260kappa\\345\\230\\205\\345\\222\\201\\345\\246\\202\\346\\236\\234\\344\\275\\240\\347\\225\\200\\350\\262\\264\\345\\260\\221\\345\\260\\221\\345\\221\\242\\345\\260\\261\\346\\234\\203\\346\\234\\211\\344\\270\\200\\345\\200\\213\\344\\277\\202\\347\\202\\270\\351\\260\\273\\351\\255\\232\\345\\230\\205\\344\\277\\202\\345\\224\\224\\345\\245\\275\\345\\225\\246\\345\\222\\201\\346\\210\\221\\346\\234\\254\\350\\272\\253\\350\\207\\252\\345\\267\\261\\345\\224\\224\\351\\215\\276\\346\\204\\217\\351\\243\\237\\351\\260\\273\\351\\255\\232\\345\\222\\201\\345\\260\\261\\345\\206\\20720\\350\\232\\212\\345\\246\\202\\346\\236\\234\\346\\210\\221\\345\\245\\275\\344\\274\\274\\345\\271\\263\\346\\231\\202\\350\\263\\243\"\n",
              "    confidence: 0.9475672245025635\n",
              "  }\n",
              "}\n",
              "results {\n",
              "  alternatives {\n",
              "    transcript: \"\\350\\200\\214\\345\\256\\266\\345\\225\\217\\344\\270\\200\\345\\225\\217\\345\\205\\266\\345\\257\\246\\344\\270\\200\\345\\225\\262\\351\\203\\275\\345\\224\\224\\350\\262\\264\\345\\233\\211\\346\\210\\221\\345\\267\\262\\347\\266\\223\\346\\265\\201\\346\\233\\254\\345\\245\\275\\350\\241\\260\\344\\275\\206\\344\\277\\202\\347\\234\\237\\344\\277\\202\\345\\224\\224\\344\\277\\202\\345\\222\\201\\345\\256\\271\\346\\230\\223\\351\\243\\237\\345\\210\\260\\345\\221\\200\\345\\205\\250\\347\\276\\205\\345\\215\\227\\345\\237\\272\\345\\260\\261\\347\\234\\237\\344\\277\\202\\345\\276\\227\\345\\227\\260\\345\\215\\201\\351\\232\\273\\346\\211\\213\\346\\214\\207\\346\\225\\270\\345\\224\\224\\345\\244\\240\\345\\230\\205\\351\\244\\220\\345\\273\\263\\345\\225\\246\\345\\222\\201\\344\\275\\240\\345\\221\\242\\351\\226\\223\\350\\254\\233\\345\\230\\205\\345\\221\\242\\344\\275\\240\\345\\260\\261\\350\\200\\214\\345\\256\\266\\346\\210\\221\\350\\201\\275\\344\\275\\240\\345\\222\\201\\351\\203\\275\\347\\233\\256\\345\\211\\215\\347\\202\\272\\346\\255\\242\\345\\230\\205\\350\\254\\233\\346\\263\\225\\345\\221\\242\\346\\210\\221\\345\\260\\261\\345\\267\\262\\347\\266\\223\\344\\277\\202\\345\\245\\275\\346\\203\\263\\345\\230\\205\\350\\207\\252\\345\\213\\225ii\\344\\275\\242\\345\\230\\205\\345\\245\\275\\350\\231\\225\\345\\221\\242\\346\\210\\221\\350\\246\\272\\345\\276\\227\\344\\277\\202\\345\\233\\240\\347\\202\\272\\345\\224\\224\\350\\262\\264\\345\\221\\200\\344\\275\\240\\350\\254\\233\\347\\267\\212\\346\\234\\211\\345\\215\\201\\344\\272\\214\\350\\232\\212\\345\\210\\260\\346\\234\\200\\350\\262\\264\\351\\203\\275\\344\\277\\202\\345\\216\\273\\345\\210\\26020\\350\\232\\212\\345\\222\\201\\345\\256\\232\\344\\277\\202\\346\\207\\211\\350\\251\\262\\345\\217\\257\\350\\203\\275\\350\\262\\264\\345\\225\\262\\344\\275\\206\\344\\277\\202\\344\\275\\240\\350\\254\\233\\345\\222\\201\\345\\230\\205\\345\\203\\271\\351\\214\\242\\345\\221\\242\\346\\234\\211\\345\\222\\251\\351\\243\\237\\345\\210\\260\\345\\224\\224\\351\\214\\257\\344\\275\\242\\345\\227\\260\\351\\231\\243\\351\\203\\275\\345\\232\\237\\345\\221\\242\\345\\267\\262\\347\\266\\223\\344\\277\\202\\351\\235\\236\\345\\270\\270\\344\\271\\213\\351\\233\\243\\345\\276\\227\\343\\227\\216\\345\\225\\246\\345\\222\\201\\344\\275\\240\\345\\260\\261\\346\\257\\224\\350\\217\\257\\345\\210\\251\\345\\261\\261\\345\\227\\260\\345\\225\\262\\351\\243\\237\\347\\267\\212\\350\\254\\233\\345\\206\\207\\350\\276\\246\\346\\263\\225\\345\\256\\232200\\350\\232\\212\\344\\270\\200\\344\\275\\215\\343\\227\\216\\345\\230\\233\\345\\222\\201\\345\\271\\263\\346\\260\\221\\345\\214\\226\\345\\225\\262\\345\\230\\242\\346\\210\\221\\350\\246\\272\\345\\276\\227\\344\\275\\240\\344\\277\\202\\351\\235\\236\\345\\270\\270\\344\\271\\213\\345\\245\\275\\351\\243\\237\\343\\227\\216\\345\\225\\246\"\n",
              "    confidence: 0.9315232038497925\n",
              "  }\n",
              "}\n",
              "results {\n",
              "  alternatives {\n",
              "    transcript: \"\\346\\257\\224\\350\\217\\257\\345\\210\\251\\345\\261\\261\\345\\227\\260\\345\\225\\262\\345\\260\\261\\344\\277\\202\\351\\243\\237\\345\\222\\227\\351\\272\\245\\345\\215\\241\\351\\214\\253\\345\\225\\246\\347\\204\\266\\345\\276\\214\\345\\216\\273\\345\\270\\253\\345\\202\\205\\345\\260\\261\\345\\245\\275\\344\\274\\274\\345\\245\\275\\351\\253\\230\\347\\264\\232\\345\\230\\205\\345\\227\\260\\345\\225\\262\\346\\226\\271\\345\\274\\217\\351\\243\\237\\345\\225\\246\\344\\275\\240\\350\\200\\214\\345\\256\\266\\350\\254\\233\\347\\267\\212\\345\\221\\242\\345\\225\\262\\345\\260\\261\\344\\277\\202\\345\\237\\272\\346\\234\\254\\344\\270\\212\\344\\270\\200\\345\\200\\213lunch\\345\\221\\200\\346\\210\\226\\350\\200\\205\\344\\277\\202\\345\\271\\263\\346\\231\\202\\346\\220\\236\\350\\247\\243\\346\\261\\272\\345\\222\\227\\345\\200\\213\\350\\202\\232\\351\\244\\223\\345\\225\\217\\351\\241\\214\\345\\230\\205\\344\\270\\200\\347\\250\\256\\351\\201\\270\\346\\223\\207\\345\\232\\237\\343\\227\\216\\345\\245\\275\\345\\271\\263\\346\\260\\221\\345\\214\\226\\345\\203\\271\\351\\214\\242\\347\\233\\270\\347\\225\\266\\344\\271\\213\\350\\261\\220\\345\\210\\260\\345\\222\\201\\350\\200\\214\\344\\270\\224\\344\\275\\240\\345\\225\\261\\345\\225\\261\\346\\211\\200\\350\\254\\233\\345\\230\\205\\345\\233\\240\\347\\202\\272\\344\\272\\272\\345\\223\\213\\345\\260\\210\\351\\226\\200\\345\\201\\232\\345\\230\\205\\345\\222\\201\\346\\210\\221\\347\\233\\270\\344\\277\\241\\344\\275\\242\\345\\230\\205\\345\\223\\201\\350\\263\\252\\345\\207\\272\\345\\223\\201\\345\\221\\242\\344\\277\\202\\347\\265\\225\\345\\260\\215\\344\\277\\202\\345\\215\\263\\344\\277\\202\\345\\260\\210\\351\\226\\200\\345\\272\\227\\350\\210\\226\\351\\240\\255\\345\\230\\205\\346\\216\\202\\345\\225\\246\\345\\205\\266\\345\\257\\246\\346\\257\\217\\345\\200\\213\\344\\272\\272\\351\\203\\275\\346\\234\\211\\350\\207\\252\\345\\267\\261\\345\\230\\205\\346\\234\\211\\350\\207\\252\\345\\267\\261\\345\\230\\205\\345\\226\\234\\345\\245\\275\\345\\225\\246\\345\\260\\261\\347\\256\\227\\347\\234\\237\\344\\277\\202\\351\\215\\276\\346\\204\\217\\351\\243\\237tempura\\345\\230\\205\\344\\272\\272\\346\\234\\211\\345\\225\\262\\350\\235\\246\\345\\230\\205\\346\\234\\211\\345\\225\\262\\344\\272\\272\\345\\224\\224\\351\\215\\276\\346\\204\\217\\351\\243\\237\\345\\205\\266\\344\\273\\226\\345\\230\\205\\345\\205\\266\\345\\257\\246\\344\\275\\240\\345\\225\\261\\345\\225\\261\\346\\211\\200\\350\\254\\233\\345\\230\\205\\347\\202\\270\\351\\245\\205\\351\\255\\232\\345\\221\\242\\344\\277\\202\\346\\210\\221\\351\\215\\276\\346\\204\\217\\351\\243\\237\\345\\230\\205\\347\\224\\267\\344\\273\\224\\345\\205\\245\\345\\232\\237\\343\\227\\216\\344\\275\\206\\346\\210\\221\\345\\224\\224\\344\\277\\202\\345\\227\\260\\345\\225\\262\\343\\227\\216\\346\\210\\221\\344\\277\\202\\351\\243\\237\\351\\232\\273\\345\\224\\224\\344\\277\\202\\346\\234\\211\\345\\237\\267\\345\\227\\260\\345\\225\\262\\351\\260\\273\\351\\255\\232\\345\\221\\200\\346\\210\\221\\344\\277\\202\\351\\215\\276\\346\\204\\217\\351\\243\\237\\345\\227\\260\\345\\225\\262\\346\\267\\241\\346\\260\\264\\351\\260\\273\\351\\255\\232\\347\\234\\237\\344\\277\\202\\345\\206\\207\\345\\227\\260\\345\\225\\262\\346\\227\\245\\345\\255\\220\\351\\203\\275\\350\\246\\201\\345\\220\\212\\351\\212\\267\\345\\237\\267\\345\\227\\260\\345\\225\\262\\351\\260\\273\\351\\255\\232\\346\\211\\200\\344\\273\\245\\345\\205\\251\\347\\250\\256\\351\\243\\237\\346\\263\\225\\344\\277\\202\\345\\224\\224\\345\\220\\214\\345\\230\\205\\346\\210\\221\\351\\215\\276\\346\\204\\217\\351\\243\\237\\345\\227\\260\\347\\250\\256\\345\\260\\261\\344\\277\\202\\346\\267\\241\\346\\260\\264\\345\\230\\205\\345\\206\\207\\346\\261\\201\\345\\230\\205\\350\\233\\213\"\n",
              "    confidence: 0.948503315448761\n",
              "  }\n",
              "}\n",
              "results {\n",
              "  alternatives {\n",
              "    transcript: \"\\345\\223\\252\\345\\200\\213\\346\\226\\271\\345\\274\\217\\345\\216\\273\\345\\201\\232\\351\\201\\216\\345\\230\\205\\345\\221\\242\\344\\277\\202\\346\\210\\221\\345\\205\\266\\344\\270\\255\\344\\270\\200\\345\\200\\213\\346\\234\\200\\351\\215\\276\\346\\204\\217\\351\\243\\237\\345\\230\\205tempura\\351\\273\\236\\351\\232\\273\\345\\223\\201\\347\\250\\256\\344\\271\\213\\344\\270\\200\\345\\232\\237\\343\\227\\216\\346\\234\\211\\345\\237\\213\\345\\227\\260\\345\\200\\213\\347\\253\\231\\351\\260\\273\\351\\255\\232\\345\\230\\205\\346\\210\\221\\345\\223\\213\\351\\203\\275\\344\\277\\202\\345\\221\\200\\345\\220\\214\\345\\237\\213\\344\\270\\200\\345\\240\\206\\345\\227\\260\\345\\225\\262\\350\\217\\234\\345\\225\\246\\344\\275\\240\\347\\237\\245\\346\\210\\221\\345\\213\\201\\346\\200\\225\\350\\201\\262\\351\\203\\275\\345\\224\\224\\345\\207\\272\\345\\232\\237\\345\\221\\242\\344\\277\\202\\345\\206\\207\\350\\201\\262\\345\\232\\237\\343\\227\\216\\345\\215\\263\\344\\277\\202\\344\\275\\242\\344\\277\\202\\345\\217\\253\\344\\275\\240\\345\\225\\246\\351\\235\\236\\345\\270\\270\\344\\271\\213\\345\\245\\275\\345\\222\\201\\345\\244\\234\\347\\236\\223\\345\\221\\242\\345\\217\\257\\350\\203\\275\\344\\277\\202\\346\\234\\211\\345\\224\\224\\345\\220\\214\\345\\230\\205\\345\\242\\203\\347\\225\\214\\345\\260\\261\\351\\243\\237\\345\\200\\213\\351\\243\\257\\345\\230\\205\\351\\243\\237\\345\\224\\224\\345\\210\\260\\345\\225\\262\\345\\230\\242\\345\\205\\266\\345\\257\\246\\345\\245\\275\\345\\225\\261\\343\\227\\216\\345\\230\\233\\344\\277\\202\\346\\234\\203\\351\\243\\237\\345\\210\\260\\345\\227\\260\\345\\200\\213\\346\\257\\224\\344\\276\\213\\345\\225\\261\\345\\225\\261\\345\\245\\275\\345\\225\\246\\345\\222\\201\\344\\275\\240\\351\\203\\275\\344\\277\\202\\351\\243\\237\\345\\210\\260\\345\\245\\275\\345\\230\\205\\351\\243\\237\\346\\235\\220\\345\\225\\246\\347\\225\\266\\347\\204\\266\\344\\275\\240\\345\\224\\224\\345\\217\\257\\344\\273\\245\\350\\246\\201\\346\\261\\202\\344\\275\\242\\347\\225\\200\\346\\234\\200\\351\\235\\232\\345\\230\\205\\345\\222\\251\\345\\223\\210\\344\\275\\240\\351\\243\\237\\345\\225\\246\\345\\221\\242\\345\\225\\262\\345\\222\\201\\344\\275\\206\\344\\277\\202\\346\\210\\221\\350\\246\\272\\345\\276\\227\\351\\203\\275\\344\\277\\202\\350\\246\\272\\345\\276\\227\\344\\275\\242\\345\\225\\246\"\n",
              "    confidence: 0.9337424635887146\n",
              "  }\n",
              "}\n",
              "results {\n",
              "  alternatives {\n",
              "    transcript: \"\\345\\224\\224\\350\\250\\230\\345\\276\\227\\347\\225\\266\\345\\271\\264\\351\\230\\277\\345\\247\\220\\350\\200\\214\\345\\256\\266\\350\\254\\233\\347\\267\\212\\345\\277\\253\\345\\215\\201\\345\\271\\264\\345\\211\\215\\345\\230\\205\\344\\272\\213\\345\\225\\246\\344\\275\\240\\345\\233\\240\\347\\202\\272\\344\\275\\242\\346\\216\\245\\351\\243\\233\\346\\251\\237\\345\\260\\261\\351\\214\\257\\351\\201\\216\\345\\222\\227\\344\\270\\200\\346\\254\\241\\346\\201\\257tempura\\345\\230\\205\\346\\251\\237\\346\\234\\203\\345\\225\\246\\344\\275\\240\\350\\250\\230\\345\\224\\224\\350\\250\\230\\345\\276\\227\\345\\260\\261\\344\\277\\202\\344\\270\\200\\345\\225\\262\\345\\245\\275\\351\\253\\230\\347\\264\\232\\345\\230\\205\\346\\210\\221macarthur\\345\\230\\205\\346\\226\\271\\345\\274\\217\\345\\225\\246\\345\\222\\201\\345\\205\\266\\345\\257\\246\\344\\275\\240\\345\\225\\261\\345\\225\\261\\350\\254\\233\\345\\210\\260\\345\\226\\207\\345\\233\\240\\347\\202\\272\\345\\207\\272\\351\\235\\242\\346\\234\\211\\345\\245\\275\\345\\244\\232\\345\\230\\205\\350\\210\\226\\351\\240\\255\\345\\222\\201\\347\\204\\241\\350\\253\\226\\345\\246\\202\\344\\275\\225\\345\\216\\273\\345\\225\\262lunch\\345\\230\\205\\346\\231\\202\\351\\226\\223\\345\\221\\242\\344\\275\\242\\351\\203\\275\\346\\234\\203\\346\\234\\211\\344\\270\\200\\345\\225\\262\\346\\211\\200\\350\\254\\202\\345\\230\\205\\346\\210\\221\\351\\243\\237\\345\\221\\200\\345\\244\\276tempura\\344\\273\\244\\345\\210\\260\\345\\244\\247\\351\\203\\250\\345\\210\\206\\345\\230\\205\\346\\260\\221\\347\\234\\276\\345\\216\\273\\345\\210\\260\\346\\227\\245\\346\\234\\254\\351\\244\\220\\345\\273\\263\\351\\243\\237tempura\\345\\221\\242\\351\\203\\275\\346\\234\\211\\344\\270\\200\\345\\200\\213\\345\\233\\272\\346\\234\\211\\345\\230\\205stella\\346\\205\\213\\345\\272\\246\\346\\234\\211\\345\\200\\213\\351\\214\\257\\350\\246\\272\\345\\260\\261\\345\\267\\256\\345\\225\\262\\345\\230\\242\\345\\207\\272\\345\\232\\237\\345\\224\\224\\344\\277\\202\\345\\222\\201\\351\\207\\215\\350\\246\\201\\345\\230\\205\\345\\225\\253\\344\\275\\206\\344\\277\\202\\347\\225\\266\\344\\275\\240\\351\\243\\237\\345\\222\\227\\345\\221\\242\\344\\270\\200\\345\\225\\262\\347\\234\\237\\346\\255\\243\\345\\230\\205member\\344\\271\\213\\345\\276\\214\\345\\221\\242\\344\\275\\240\\345\\260\\261\\347\\237\\245\\351\\201\\223\\344\\275\\240\\345\\205\\266\\345\\257\\246\\345\\260\\215tempura\\345\\230\\205\\347\\220\\206\\350\\247\\243\\345\\221\\242\\344\\277\\202\\344\\270\\200\\345\\200\\213\\345\\245\\275\\351\\214\\257\\350\\252\\244\\345\\233\\240\\347\\202\\272\\345\\246\\202\\346\\236\\234\\345\\222\\213\\345\\276\\227\\351\\235\\232\\345\\230\\205\\344\\277\\202\\347\\234\\237\\344\\277\\202\\345\\245\\275\\345\\245\\275\\351\\243\\237\\345\\225\\261\\345\\225\\261\\347\\225\\2533d\\346\\211\\200\\350\\254\\233\\345\\230\\205\\345\\227\\260\\345\\200\\213\\350\\204\\206\\346\\274\\277\\345\\225\\246\\345\\200\\213\\345\\222\\213\\345\\210\\206\\345\\221\\200\\345\\246\\202\\346\\236\\234\\344\\272\\272\\345\\223\\213\\344\\277\\202\\347\\234\\237\\344\\277\\202\\351\\273\\203\\351\\207\\221\\350\\211\\262\\345\\230\\205\\345\\222\\213\\345\\210\\260\\345\\205\\274\\350\\201\\267\\350\\226\\204\\350\\226\\204\\344\\270\\200\\345\\261\\244\"\n",
              "    confidence: 0.943162202835083\n",
              "  }\n",
              "}\n",
              "results {\n",
              "  alternatives {\n",
              "    transcript: \"\\345\\207\\272\\351\\235\\242\\345\\230\\205\\344\\275\\240\\351\\243\\237\\350\\220\\275\\345\\216\\273\\345\\221\\242\\347\\234\\237\\344\\277\\202\\345\\227\\260\\347\\250\\256\\350\\266\\243\\345\\220\\214\\345\\237\\213\\346\\210\\220\\345\\217\\243\\347\\262\\211\\345\\221\\242\\344\\277\\202\\345\\256\\214\\345\\205\\250\\345\\205\\251\\345\\233\\236\\344\\272\\213\\345\\232\\237\\343\\227\\216\\344\\270\\200\\347\\250\\256\\345\\260\\261\\344\\277\\202\\351\\243\\237\\347\\234\\237\\346\\255\\243tempura\\345\\220\\214\\345\\237\\213\\345\\207\\272\\351\\235\\242\\345\\227\\260\\345\\225\\262\\346\\277\\253\\347\\253\\275\\345\\205\\205\\346\\225\\270\\345\\230\\205\\347\\254\\254\\344\\270\\200\\345\\200\\213\\346\\234\\200\\345\\244\\247\\345\\230\\205\\345\\210\\206\\345\\210\\245\\345\\226\\272\\345\\272\\246\\345\\221\\200\\351\\246\\231\\345\\217\\243\\345\\225\\262\\345\\225\\246\\344\\275\\240\\346\\225\\264\\350\\277\\224\\350\\210\\212\\347\\206\\261\\350\\276\\243\\350\\276\\243\\345\\230\\205\\351\\243\\257\\346\\234\\211\\345\\225\\262\\351\\206\\254\\346\\261\\201\\345\\226\\272\\345\\272\\246\\345\\221\\242\\345\\227\\260\\344\\270\\213\\345\\225\\246\\345\\246\\202\\346\\236\\234\\346\\224\\271\\344\\270\\213\\345\\221\\242\\345\\200\\213\\345\\202\\231\\344\\270\\200\\344\\273\\275\\345\\206\\260\\345\\207\\215\\345\\225\\244\\351\\205\\222\\344\\275\\240\\345\\221\\242\\344\\275\\240\\345\\260\\261\\346\\234\\203\\350\\246\\272\\345\\276\\227\\345\\245\\275\\347\\206\\261\\343\\227\\216\\345\\225\\246\\344\\275\\242\\345\\215\\201\\351\\233\\266\\345\\273\\277\\350\\232\\212\\345\\245\\275\\346\\212\\265\\345\\245\\275\\346\\212\\265\\343\\227\\216\\345\\225\\246\\345\\245\\275\\351\\226\\213\\345\\277\\203\\343\\227\\216\\345\\226\\207\\345\\222\\201\\345\\221\\242\\345\\200\\213\\344\\277\\202\\344\\270\\200\\345\\200\\213\\347\\266\\223\\351\\251\\227\\345\\225\\246\\346\\210\\221\\346\\257\\224\\350\\274\\203\\344\\275\\251\\346\\234\\215\\345\\230\\205\\345\\260\\261\\344\\277\\202\\346\\234\\254\\350\\272\\253\\345\\221\\242\\351\\226\\223\\351\\244\\220\\345\\273\\263\\345\\200\\213\\350\\200\\201\\351\\227\\206\\345\\220\\214\\345\\237\\213\\345\\200\\213\\345\\273\\232\\344\\275\\242\\345\\224\\224\\344\\277\\202\\346\\227\\245\\346\\234\\254\\344\\272\\272\\345\\270\\266\\344\\275\\242\\344\\272\\246\\351\\203\\275\\346\\234\\203\\345\\260\\207\\345\\221\\242\\346\\250\\243\\345\\230\\242\\351\\203\\275\\345\\201\\232\\345\\210\\260\\344\\275\\242\\345\\226\\272\\345\\272\\246\\343\\227\\216\\344\\275\\242\\347\\234\\237\\344\\277\\202\\345\\207\\272\\345\\232\\237\\345\\220\\214\\346\\210\\221\\345\\223\\213\\346\\211\\223\\346\\213\\233\\345\\221\\274\\350\\207\\252\\345\\267\\261\\351\\203\\275\\350\\246\\252\\345\\212\\233\\350\\246\\252\\347\\202\\272\\345\\200\\213\\345\\273\\232\\346\\210\\277\\345\\272\\246\\345\\201\\232\\345\\230\\242\\343\\227\\216\\345\\224\\224\\344\\277\\202\\350\\251\\261\\346\\220\\236\\346\\216\\202\\345\\222\\227\\351\\213\\252\\351\\240\\255\\346\\261\\202\\345\\205\\266\\346\\220\\265\\345\\200\\213\\344\\272\\272\\345\\216\\273\\345\\201\\232\\345\\225\\246\\344\\275\\242\\350\\207\\252\\345\\267\\261\\351\\203\\275\\346\\234\\203\\345\\226\\272\\345\\272\\246\\343\\227\\216\"\n",
              "    confidence: 0.9456700086593628\n",
              "  }\n",
              "}\n",
              "results {\n",
              "  alternatives {\n",
              "    transcript: \"\\345\\244\\252\\345\\271\\263\\351\\201\\223\\350\\217\\257\\345\\226\\272\\346\\227\\245\\346\\234\\254\\344\\272\\272\\345\\230\\205\\346\\226\\207\\345\\214\\226\\350\\243\\217\\351\\235\\242\\345\\221\\200\\347\\211\\271\\345\\210\\245\\344\\277\\202\\345\\225\\262\\346\\227\\245\\346\\234\\254\\347\\224\\267\\345\\243\\253\\345\\221\\200\\344\\270\\200\\346\\224\\276\\345\\267\\245\\345\\221\\242\\345\\222\\252\\344\\275\\242\\351\\215\\276\\346\\204\\217\\344\\275\\242\\345\\225\\262\\351\\205\\222\\345\\220\\247\\346\\210\\226\\350\\200\\205\\344\\277\\202\\345\\225\\262\\345\\261\\205\\351\\205\\222\\345\\261\\213\\345\\272\\246\\346\\210\\220\\347\\217\\255\\345\\220\\214\\344\\272\\213check\\344\\270\\213\\346\\260\\264\\345\\221\\200\\345\\222\\201\\346\\250\\243\\345\\230\\205\\345\\221\\242\\345\\225\\262\\346\\211\\200\\350\\254\\202\\345\\230\\205social\\345\\230\\205\\347\\224\\237\\346\\264\\273\\345\\225\\246\\345\\215\\263\\344\\277\\202\\347\\244\\276\\344\\272\\244\\347\\224\\237\\346\\264\\273\\345\\225\\246\\345\\205\\266\\344\\270\\255\\344\\270\\200\\345\\200\\213\\346\\234\\200\\347\\206\\261\\351\\226\\200\\345\\230\\205\\345\\230\\242\\351\\243\\237\\345\\221\\242\\345\\260\\261\\344\\277\\202tempura\\345\\217\\253\\345\\201\\232\\350\\274\\225\\351\\243\\237\\345\\230\\205\\346\\235\\261\\350\\245\\277\\346\\210\\226\\350\\200\\205\\344\\277\\202\\345\\222\\252\\351\\243\\237\\345\\221\\242\\345\\260\\261\\344\\277\\202\\345\\205\\251\\345\\200\\213\\344\\272\\272\\346\\210\\226\\350\\200\\205\\345\\271\\276\\345\\200\\213\\346\\234\\213\\345\\217\\213\\345\\226\\272\\345\\272\\246\\346\\235\\257\\351\\205\\222\\351\\243\\262\\344\\270\\213\\345\\225\\244\\351\\205\\222\\345\\230\\205\\346\\231\\202\\351\\226\\223\\345\\221\\242\\346\\203\\263\\344\\270\\200\\347\\242\\237tempura\\345\\222\\201\\344\\275\\242\\345\\223\\213\\351\\243\\237\\345\\260\\221\\345\\260\\221\\345\\260\\261\\344\\275\\234\\347\\202\\272\\351\\200\\201\\350\\265\\260\\346\\210\\226\\350\\200\\205\\344\\277\\202\\344\\270\\200\\347\\250\\256\\344\\273\\244\\345\\210\\260\\345\\200\\213\\345\\217\\243\\345\\206\\207\\345\\222\\201\\347\\204\\241\\350\\201\\212\\343\\227\\216\\344\\273\\262\\344\\275\\277\\345\\224\\224\\344\\275\\277\\345\\226\\272\\345\\210\\260\\346\\231\\256\\351\\201\\215\\345\\245\\275\\346\\231\\256\\351\\201\\215\\345\\230\\205\\345\\271\\263\\346\\260\\221\\345\\230\\242\\351\\243\\237\\344\\275\\206\\344\\277\\202\\345\\201\\232\\345\\276\\227\\345\\224\\224\\345\\245\\275\\345\\225\\246\\346\\234\\200\\344\\270\\273\\350\\246\\201\\345\\205\\266\\344\\270\\255\\344\\270\\200\\345\\200\\213\\346\\210\\221\\347\\270\\275\\347\\265\\220\\350\\265\\267\\345\\232\\237\\345\\221\\200\\345\\260\\261\\344\\277\\202\\345\\233\\240\\347\\202\\272\\344\\273\\245\\345\\276\\214\\345\\230\\205\\345\\225\\217\\351\\241\\214\\345\\225\\246\\346\\234\\211\\345\\245\\275\\345\\244\\232\\350\\210\\226\\351\\240\\255\\345\\221\\242\\346\\205\\263\\346\\210\\220\\346\\234\\254\\345\\221\\200\\346\\260\\270\\351\\201\\240\\351\\203\\275\\345\\224\\224\\350\\202\\257\\347\\216\\251\\345\\225\\262\\344\\272\\272\\345\\224\\224\\351\\241\\230\\346\\204\\217\\346\\257\\217\\346\\227\\245\\347\\216\\251\\344\\275\\206\\344\\277\\202\\345\\244\\232\\344\\270\\200\\345\\225\\262\\347\\234\\237\\346\\255\\243\\346\\255\\243\\345\\256\\227\\345\\201\\232tempura\\350\\210\\226\\351\\240\\255\\345\\221\\242\\344\\275\\242\\345\\227\\260\\347\\250\\256tempura\\346\\262\\271\\345\\221\\242\\344\\275\\240\\345\\217\\252\\350\\246\\201\\344\\273\\273\\344\\275\\225\\346\\231\\202\\351\\226\\223\\345\\205\\245\\345\\210\\260\\345\\216\\273\\344\\275\\242\\345\\200\\213\\345\\273\\232\\346\\210\\277\\345\\272\\246\"\n",
              "    confidence: 0.9469258189201355\n",
              "  }\n",
              "}\n",
              "results {\n",
              "  alternatives {\n",
              "    transcript: \"\\344\\275\\240\\351\\203\\275\\350\\246\\213\\345\\210\\260\\345\\225\\262\\346\\262\\271\\344\\277\\202\\351\\207\\221\\351\\273\\203\\350\\211\\262\\346\\270\\205\\346\\276\\210\\350\\246\\213\\345\\272\\225\\345\\230\\205\\347\\246\\256\\345\\200\\213\\344\\277\\202\\344\\273\\262\\350\\246\\201\\344\\270\\255\\345\\230\\205\\351\\207\\215\\350\\246\\201\\345\\221\\200\\347\\225\\266\\344\\275\\240\\345\\225\\262\\346\\262\\271\\345\\224\\224\\344\\277\\202\\346\\226\\260\\351\\256\\256\\345\\224\\224\\344\\277\\202\\351\\235\\232\\347\\232\\204\\350\\251\\261\\345\\221\\242\\345\\222\\213\\345\\207\\272\\345\\232\\237\\347\\204\\241\\350\\253\\226\\351\\241\\217\\350\\211\\262\\351\\246\\231\\345\\221\\263\\345\\225\\246\\344\\277\\202\\346\\234\\203\\347\\265\\225\\345\\260\\215\\345\\275\\261\\351\\237\\277\\345\\210\\260\\344\\275\\240\\345\\230\\205\\345\\207\\272\\345\\223\\201\\343\\227\\216\\351\\273\\236\\346\\250\\243\\346\\272\\235\\345\\207\\272\\345\\232\\237\\345\\221\\200\\346\\210\\221\\350\\253\\227\\346\\211\\200\\346\\234\\211\\345\\230\\242\\345\\245\\275\\347\\264\\260\\345\\276\\256\\345\\230\\205\\345\\221\\242\\351\\203\\275\\344\\277\\202\\350\\250\\210\\351\\201\\216\\345\\272\\246\\351\\201\\216\\343\\227\\216\\345\\225\\246\\347\\234\\237\\344\\277\\202\\345\\245\\275\\347\\224\\250\\345\\222\\251\\346\\262\\271\\345\\221\\200\\347\\224\\232\\350\\207\\263\\345\\217\\257\\350\\203\\275\\350\\246\\201\\345\\220\\214\\344\\270\\200\\347\\250\\256\\345\\217\\210\\345\\224\\224\\347\\237\\245\\346\\234\\203\\345\\224\\224\\346\\234\\203\\346\\225\\231\\346\\210\\221\\350\\207\\252\\345\\267\\261\\350\\253\\227\\345\\217\\257\\350\\203\\275\\351\\203\\275\\344\\277\\202\\351\\200\\243\\345\\200\\213\\351\\201\\212\\351\\203\\275\\346\\234\\203\\350\\254\\233\\347\\251\\266\\351\\201\\216\\345\\233\\211\\345\\224\\224\\344\\277\\202\\345\\260\\261\\345\\222\\201\\347\\260\\241\\345\\226\\256\\347\\225\\253\\344\\275\\206\\344\\277\\202\\344\\270\\200\\351\\226\\213\\351\\226\\223\\350\\210\\226\\351\\240\\255\\346\\261\\202\\345\\205\\266\\346\\224\\236\\345\\225\\262\\345\\260\\244\\345\\205\\266\\345\\227\\260\\345\\225\\262\\345\\207\\272\\345\\232\\237\\346\\211\\223\\344\\270\\213\\345\\260\\261\\344\\277\\202\\345\\224\\224\\344\\277\\202\\345\\222\\201\\347\\260\\241\\345\\226\\256\\345\\230\\205\\346\\210\\221\\344\\270\\200\\345\\256\\232\\346\\234\\203\\345\\216\\273\\347\\204\\241\\350\\253\\226\\345\\246\\202\\344\\275\\225\\345\\260\\261\\346\\203\\263\\350\\251\\246\\350\\251\\246\\344\\275\\242\\345\\230\\205lunch\\345\\205\\210\\345\\225\\246\\347\\204\\266\\345\\276\\214\\345\\206\\215\\347\\235\\207\\347\\235\\207\\345\\222\\251\\346\\203\\205\\346\\263\\201\\350\\200\\203\\346\\205\\256\\344\\270\\213dinner\\344\\275\\240\\347\\237\\245\\346\\210\\221\\345\\205\\266\\345\\257\\246\\351\\203\\275\\345\\271\\276\\345\\244\\247\\351\\243\\237\\343\\227\\216\\346\\257\\217\\346\\254\\241\\345\\216\\273\\351\\243\\237tempura\\345\\225\\262\\345\\260\\210\\351\\226\\200\\345\\201\\232temperature\"\n",
              "    confidence: 0.9460809826850891\n",
              "  }\n",
              "}\n",
              "results {\n",
              "  alternatives {\n",
              "    transcript: \"\\344\\270\\200\\345\\200\\213\\351\\230\\277\\345\\244\\252\\346\\210\\221\\345\\224\\224\\344\\277\\202\\345\\245\\275\\345\\244\\240\\351\\243\\275\\344\\270\\211\\345\\210\\206\\351\\220\\230\\350\\273\\212\\347\\250\\213\\346\\210\\221\\345\\260\\261\\345\\216\\273\\345\\222\\227\\345\\200\\213\\346\\227\\245\\346\\234\\254\\345\\230\\205\\350\\266\\205\\347\\264\\232\\345\\270\\202\\345\\240\\264\\350\\262\\267\\345\\222\\227\\345\\227\\260\\345\\200\\213\\345\\200\\213\\351\\203\\275\\345\\276\\227\\345\\225\\246\\346\\210\\221\\345\\226\\272\\345\\272\\246\\345\\216\\273\\345\\210\\260\\347\\232\\204\\345\\244\\247\\346\\246\\202\\345\\260\\261\\346\\216\\222\\345\\222\\22720\\345\\210\\206\\351\\220\\230\\345\\230\\205\\345\\261\\261\\351\\225\\267\\346\\260\\264\\351\\201\\240\\345\\216\\273\\345\\210\\260\\345\\260\\261\\346\\216\\222\\345\\225\\246\\346\\230\\257\\344\\275\\206\\345\\225\\246\\346\\210\\221\\351\\203\\275\\344\\277\\202\\345\\216\\273\\345\\210\\260\\344\\275\\240\\345\\217\\243\\345\\221\\263\\345\\221\\242\\345\\260\\261\\344\\277\\202\\346\\234\\211\\345\\243\\253\\345\\244\\232\\345\\225\\244\\346\\242\\250\\350\\212\\222\\346\\236\\234\\345\\220\\214\\345\\237\\213\\351\\273\\221\\350\\212\\235\\351\\272\\273\\345\\221\\263\\345\\230\\205\\351\\203\\275\\345\\224\\224\\344\\277\\202\\346\\210\\221\\345\\223\\213\\344\\270\\212\\346\\254\\241\\344\\273\\213\\347\\264\\271\\351\\201\\216\\345\\225\\246\\345\\260\\261\\344\\277\\202\\345\\226\\272\\345\\200\\213market\\350\\243\\217\\351\\235\\242\\345\\230\\205\\347\\225\\266\\346\\231\\202\\345\\260\\261\\350\\251\\261\\344\\277\\202pop up store\\345\\232\\237\\343\\227\\216\\345\\216\\237\\344\\276\\206\\345\\245\\275\\346\\230\\216\\351\\241\\257\\350\\200\\214\\345\\256\\266\\345\\224\\224\\344\\277\\202block\\351\\203\\275\\345\\245\\275\\344\\274\\274\\346\\260\\270\\344\\271\\205\\344\\275\\217\\344\\275\\242\\345\\226\\272\\345\\227\\260\\345\\272\\246\\346\\210\\221\\350\\253\\227\\347\\224\\237\\346\\204\\217\\345\\244\\252\\345\\245\\275\\345\\226\\207\\345\\233\\240\\347\\202\\272\\345\\221\\242\\346\\207\\211\\350\\251\\262\\344\\277\\202\\347\\242\\272\\345\\257\\246\\345\\221\\242\\346\\216\\222\\351\\203\\275\\351\\226\\213\\345\\237\\213\\346\\210\\221\\350\\253\\227\\344\\277\\202\\345\\233\\240\\347\\202\\272\\345\\217\\252\\347\\237\\245\\351\\201\\223\\346\\274\\224\\345\\223\\241\\351\\273\\216lv\\347\\234\\237\\344\\277\\202\\345\\224\\224\\344\\277\\202\\345\\245\\275\\345\\244\\232\\345\\221\\242\\344\\270\\200\\347\\250\\256\\345\\230\\205\\350\\252\\215\\345\\244\\232\\345\\236\\213\"\n",
              "    confidence: 0.9448572397232056\n",
              "  }\n",
              "}\n",
              "results {\n",
              "  alternatives {\n",
              "    transcript: \"\\350\\210\\226\\351\\240\\255\\345\\222\\201\\345\\260\\261\\350\\256\\212\\345\\222\\227\\345\\200\\213\\346\\223\\201\\351\\243\\257\\351\\243\\237\\350\\200\\214\\344\\270\\224\\344\\275\\242\\345\\223\\213\\351\\203\\275\\350\\255\\230\\347\\260\\275\\345\\220\\215\\345\\225\\246\\346\\210\\220\\346\\227\\245\\350\\275\\211\\345\\217\\243\\345\\221\\263\\345\\221\\200\\345\\230\\233\\344\\275\\242\\351\\203\\275\\344\\277\\202\\350\\262\\264\\345\\215\\201\\350\\232\\212\\345\\276\\22712\\345\\200\\213\\351\\220\\230\\345\\221\\200\\346\\210\\221\\347\\234\\237\\344\\277\\202\\345\\245\\275\\350\\262\\264\\345\\226\\216\\345\\221\\242\\345\\200\\213\\345\\230\\242\\347\\242\\272\\345\\257\\246\\344\\277\\202\\345\\245\\275\\350\\262\\264\\345\\221\\200\\344\\275\\206\\344\\277\\202\\346\\257\\217\\345\\200\\213\\344\\272\\272\\345\\230\\205\\345\\257\\251\\346\\263\\225\\345\\260\\261\\344\\277\\202\\346\\210\\221\\345\\220\\214\\344\\275\\240\\345\\222\\201\\346\\250\\243\\345\\225\\246\\345\\261\\261\\351\\225\\267\\346\\260\\264\\351\\201\\240\\345\\216\\273\\345\\210\\260\\345\\222\\201\\351\\225\\267\\346\\260\\264\\347\\211\\214\\345\\271\\276\\345\\244\\232\\351\\214\\242\\345\\206\\207\\346\\211\\200\\350\\254\\202\\345\\221\\200\\345\\271\\276\\345\\245\\275\\345\\227\\260\\345\\240\\206\\351\\272\\265\\347\\262\\211\\347\\255\\211\\345\\232\\237\\343\\227\\216\\345\\222\\213\\345\\230\\233\\346\\210\\221\\350\\246\\272\\345\\276\\227\\346\\234\\211\\346\\231\\202\\346\\234\\211\\345\\225\\262\\345\\201\\232\\347\\224\\237\\346\\204\\217\\345\\260\\261\\344\\277\\202\\345\\222\\201\\343\\227\\216\\345\\225\\246\\345\\276\\227\\345\\225\\246\\350\\200\\214\\345\\256\\266\\345\\225\\262\\346\\210\\220\\346\\234\\254\\346\\257\\224\\350\\274\\203\\344\\275\\216\\345\\230\\205\\347\\224\\242\\345\\223\\201\\345\\221\\200\\347\\225\\266\\344\\275\\240\\345\\201\\232\\345\\276\\227\\347\\264\\204\\347\\202\\272\\344\\270\\200\\345\\220\\215\\346\\260\\243\\346\\210\\226\\350\\200\\205\\345\\201\\232\\345\\276\\227\\345\\224\\224\\351\\214\\257\\345\\230\\205\\346\\203\\205\\346\\263\\201\\344\\270\\213\\345\\221\\242\\344\\277\\202\\350\\262\\264\\345\\260\\221\\345\\260\\221\\345\\221\\242\\345\\206\\207\\344\\272\\272\\346\\234\\203\\346\\212\\225\\350\\250\\264\\345\\221\\200\"\n",
              "    confidence: 0.9476472735404968\n",
              "  }\n",
              "}\n",
              "results {\n",
              "  alternatives {\n",
              "    transcript: \"\\345\\216\\273\\345\\210\\260\\345\\227\\260\\345\\272\\246\\345\\225\\246\\347\\204\\266\\345\\276\\214\\346\\255\\243\\345\\246\\202\\344\\275\\240\\346\\211\\200\\350\\254\\233\\345\\230\\205\\351\\276\\234\\346\\245\\265\\351\\203\\275\\344\\277\\202\\345\\273\\277\\350\\232\\212\\347\\225\\200\\345\\244\\232\\344\\275\\240double\\345\\225\\246\\351\\203\\275\\344\\277\\20245\\350\\232\\212\\345\\224\\224\\346\\234\\203\\350\\256\\212\\345\\222\\227\\345\\233\\233\\347\\231\\276\\350\\232\\212\\345\\221\\200\\345\\222\\201\\346\\250\\243\\345\\215\\263\\344\\277\\202\\345\\256\\214\\345\\205\\250\\344\\277\\202\\345\\224\\224\\346\\234\\203\\343\\227\\216\\345\\230\\233\\346\\227\\242\\347\\204\\266\\345\\216\\273\\345\\210\\260\\345\\271\\276\\351\\225\\267\\351\\276\\215\\351\\203\\275\\346\\216\\222\\345\\225\\246\\344\\270\\200\\350\\262\\267\\344\\275\\240\\350\\246\\213\\345\\210\\260\\345\\225\\262\\344\\272\\272\\345\\221\\242\\344\\270\\200\\350\\262\\267\\345\\221\\242\\344\\277\\202\\344\\270\\200\\346\\211\\223\\344\\273\\245\\344\\270\\212\\343\\227\\216\\345\\225\\246\\345\\222\\201\\350\\276\\233\\350\\213\\246\\344\\275\\240\\351\\273\\236\\351\\203\\275\\350\\246\\201\\350\\262\\267\\347\\262\\245\\347\\233\\241\\351\\207\\217\\345\\216\\273\\350\\262\\267\\343\\227\\216\\345\\225\\246\\345\\224\\224\\346\\234\\203\\350\\251\\261\\350\\262\\267\\345\\260\\221\\345\\260\\221\\345\\222\\201\\346\\250\\243\\345\\230\\205\\345\\233\\240\\347\\202\\272\\344\\275\\240\\345\\247\\213\\347\\265\\202\\346\\234\\211\\344\\270\\200\\346\\227\\245\\344\\271\\213\\345\\276\\214\\345\\212\\240\\345\\245\\275\\351\\243\\237\\345\\221\\242\\345\\200\\213\\346\\210\\220\\345\\212\\237\\345\\230\\205\\345\\234\\260\\346\\226\\271\\346\\211\\200\\344\\273\\245\\346\\210\\221\\347\\225\\266\\346\\231\\202\\345\\277\\203\\347\\224\\230\\346\\203\\205\\351\\241\\230\\347\\225\\20020\\350\\232\\212\\345\\221\\242\\345\\260\\261\\350\\277\\224\\345\\210\\260\\345\\261\\213\\344\\274\\201\\345\\201\\207\\346\\227\\245\\351\\203\\275\\345\\245\\275\\351\\243\\237\\345\\230\\205\\346\\210\\221\\350\\246\\272\\345\\276\\227ok\"\n",
              "    confidence: 0.9457993507385254\n",
              "  }\n",
              "}\n",
              "results {\n",
              "  alternatives {\n",
              "    transcript: \"\\346\\211\\200\\350\\254\\202\\345\\230\\205\\345\\207\\272\\351\\206\\222\\344\\271\\213\\350\\241\\214\\346\\224\\266\\347\\251\\253\\351\\203\\275\\345\\271\\276\\345\\244\\247\\345\\226\\216\\345\\222\\201\\346\\211\\200\\344\\273\\245\\344\\273\\212\\346\\254\\241\\346\\210\\221\\350\\246\\272\\345\\276\\227\\344\\277\\202\\345\\245\\275\\346\\210\\220\\345\\212\\237\\345\\230\\205\\345\\200\\213\\345\\207\\272\\350\\241\\214\\345\\222\\201\\345\\221\\200\\345\\270\\214\\346\\234\\233\\346\\234\\211\\346\\251\\237\\346\\234\\203\\344\\275\\240\\351\\203\\275\\345\\216\\273\\350\\251\\246\\344\\270\\213\\345\\225\\246\\345\\245\\275\\345\\244\\232\\350\\254\\235\\344\\275\\240\\345\\230\\205\\344\\273\\213\\347\\264\\271\\345\\221\\200\\344\\273\\212\\346\\227\\245\\345\\230\\205\\347\\204\\241\\351\\231\\220\\345\\257\\254\\351\\240\\273\\345\\210\\260\\346\\255\\244\\347\\202\\272\\346\\255\\242\\346\\210\\221\\345\\223\\213\\344\\270\\213\\346\\230\\237\\346\\234\\237\\345\\206\\215\\345\\202\\276\"\n",
              "    confidence: 0.9450513124465942\n",
              "  }\n",
              "}"
            ]
          },
          "metadata": {
            "tags": []
          },
          "execution_count": 9
        }
      ]
    },
    {
      "cell_type": "code",
      "metadata": {
        "id": "lPqlX-H5WF9a",
        "colab_type": "code",
        "outputId": "04dafc65-2d66-479d-ea6b-b39d666cac2d",
        "colab": {
          "base_uri": "https://localhost:8080/",
          "height": 54
        }
      },
      "source": [
        "data.results[0].alternatives[0].transcript"
      ],
      "execution_count": 0,
      "outputs": [
        {
          "output_type": "execute_result",
          "data": {
            "text/plain": [
              "'美式無限無限寬頻人人有份好歡迎大家收聽今日嘅無限寬頻我已經為大家可以畫3d今日呢我就準備咗一間餐廳同你講下因為我覺得你會鍾意食嘅嘢嚟嘅佢每次都話我鍾意食嘅嘢好容易搵嘅啫因為我可以食嘅咁有啲嘢係你冇咁鍾意食㗎嘛甜品呢樣嘢呢其實就先講星期日本日本日本餐廳啦咁後日本餐都好多種㗎嘛食好多嘢嘅我覺得係比較'"
            ]
          },
          "metadata": {
            "tags": []
          },
          "execution_count": 15
        }
      ]
    },
    {
      "cell_type": "code",
      "metadata": {
        "id": "mHS5NMHkXDRd",
        "colab_type": "code",
        "colab": {}
      },
      "source": [
        "s=\"\\344\\272\\272\\345\\223\\213\\345\\225\\262\\350\\255\\254\\345\\246\\202\\344\\277\\202\\344\\270\\200\\345\\200\\213\\345\\224\\224\\344\\277\\202\\344\\272\\236\\346\\264\\262\\344\\272\\272\\345\\225\\246\\345\\217\\257\\350\\203\\275\\344\\277\\202\\345\\205\\266\\344\\273\\226\\346\\226\\207\\345\\214\\226\\345\\230\\205\\344\\272\\272\\345\\221\\242\\351\\203\\275\\346\\234\\203\\346\\216\\245\\345\\217\\227\\351\\243\\237\\345\\221\\242\\346\\250\\243\\345\\230\\242\\345\\233\\240\\347\\202\\272\\345\\224\\224\\344\\277\\202\\345\\227\\260\\345\\225\\262\\347\\224\\237\\345\\230\\242\\351\\243\\237\\351\\243\\237\\345\\256\\214\\350\\277\\224\\345\\216\\273\\344\\275\\240\\346\\234\\203\\351\\251\\232\\346\\210\\221\\345\\223\\213\\351\\243\\262\\344\\275\\217\\345\\205\\210\\346\\210\\221\\345\\223\\213\\347\\264\\204\\344\\270\\213\\344\\270\\255\\345\\234\\213\\351\\243\\262\\350\\214\\266\\351\\243\\237\\345\\227\\260\\345\\225\\262\\351\\263\\263\\347\\210\\252\\344\\275\\242\\345\\223\\213\\345\\217\\210\\346\\234\\203\\351\\251\\232\\343\\227\\216\\345\\222\\201\\346\\250\\243\\345\\230\\242\\345\\221\\242\\345\\260\\261\\345\\237\\272\\346\\234\\254\\344\\270\\212\\344\\275\\242\\345\\223\\213\\345\\224\\224\\346\\234\\203\\351\\251\\232\\345\\230\\205\\351\\243\\237\\347\\267\\212\\345\\232\\237\\343\\227\\216\\345\\222\\201\\346\\211\\200\\344\\273\\245\\344\\277\\202\\346\\257\\224\\350\\274\\203\\345\\244\\247\\345\\260\\261\\345\\277\\253\\345\\225\\262\\345\\233\\211\\346\\207\\211\\350\\251\\262\\345\\260\\261\\345\\224\\224\\346\\234\\203\\346\\213\\211\\351\\272\\265\\345\\222\\201\\346\\231\\256\\351\\200\\232\\345\\225\\246\\345\\224\\224\\344\\277\\202\\346\\234\\203\\345\\224\\224\\346\\234\\203\\344\\277\\202\\346\\227\\245\\346\\234\\254\\345\\230\\205\\345\\256\\232\\351\\243\\237\\345\\227\\260\\345\\225\\262\\345\\230\\242\\345\\230\\205\\350\\210\\226\\351\\240\\255\\347\\211\\271\\345\\210\\245\\345\\234\\250\\345\\222\\251\\345\\221\\242\\344\\275\\242\\351\\226\\213\\351\\213\\252\\351\\240\\255\\345\\227\\260\\345\\200\\213\\344\\272\\272\\344\\270\\213\\344\\275\\216\\345\\227\\260\\345\\200\\213\\344\\270\\273\\345\\273\\232\\345\\200\\213\\345\\270\\253\\345\\202\\205\\345\\221\\242\\344\\275\\242\\344\\270\\246\\345\\224\\224\\344\\277\\202\\346\\227\\245\\346\\234\\254\\344\\272\\272\\345\\223\\213\\345\\230\\205\\345\\222\\201\\345\\200\\213\\346\\225\\205\\344\\272\\213\\345\\245\\275\\345\\276\\227\\346\\204\\217\\344\\270\\213\\345\\205\\266\\345\\257\\246\\344\\275\\242\\345\\200\\213\\351\\274\\273\\350\\200\\201\\344\\272\\272\""
      ],
      "execution_count": 0,
      "outputs": []
    },
    {
      "cell_type": "code",
      "metadata": {
        "id": "PdNWlRfXXIyG",
        "colab_type": "code",
        "colab": {}
      },
      "source": [
        "s"
      ],
      "execution_count": 0,
      "outputs": []
    },
    {
      "cell_type": "code",
      "metadata": {
        "id": "jw0rvo1PWXR4",
        "colab_type": "code",
        "outputId": "83106a0e-1b15-4442-d122-54d1517861c3",
        "colab": {
          "base_uri": "https://localhost:8080/",
          "height": 34
        }
      },
      "source": [
        "type(data.results[0].alternatives[0].transcript)"
      ],
      "execution_count": 0,
      "outputs": [
        {
          "output_type": "execute_result",
          "data": {
            "text/plain": [
              "str"
            ]
          },
          "metadata": {
            "tags": []
          },
          "execution_count": 19
        }
      ]
    },
    {
      "cell_type": "markdown",
      "metadata": {
        "id": "KRL5TVzIVbU9",
        "colab_type": "text"
      },
      "source": [
        "#Putting the result to Firestore"
      ]
    },
    {
      "cell_type": "code",
      "metadata": {
        "id": "IkhsFLskVi3H",
        "colab_type": "code",
        "outputId": "6dc1058e-a773-4460-8442-42abb5c54402",
        "colab": {
          "base_uri": "https://localhost:8080/",
          "height": 508
        }
      },
      "source": [
        "pip install --upgrade google-cloud-firestore"
      ],
      "execution_count": 10,
      "outputs": [
        {
          "output_type": "stream",
          "text": [
            "Collecting google-cloud-firestore\n",
            "\u001b[?25l  Downloading https://files.pythonhosted.org/packages/32/b1/ef2095d777ca2505efa8182bea155f2ce8bab099224579feb1d309449076/google_cloud_firestore-1.6.1-py2.py3-none-any.whl (333kB)\n",
            "\r\u001b[K     |█                               | 10kB 19.8MB/s eta 0:00:01\r\u001b[K     |██                              | 20kB 2.2MB/s eta 0:00:01\r\u001b[K     |███                             | 30kB 3.2MB/s eta 0:00:01\r\u001b[K     |████                            | 40kB 2.1MB/s eta 0:00:01\r\u001b[K     |█████                           | 51kB 2.6MB/s eta 0:00:01\r\u001b[K     |██████                          | 61kB 3.1MB/s eta 0:00:01\r\u001b[K     |██████▉                         | 71kB 3.6MB/s eta 0:00:01\r\u001b[K     |███████▉                        | 81kB 4.0MB/s eta 0:00:01\r\u001b[K     |████████▉                       | 92kB 4.5MB/s eta 0:00:01\r\u001b[K     |█████████▉                      | 102kB 3.4MB/s eta 0:00:01\r\u001b[K     |██████████▉                     | 112kB 3.4MB/s eta 0:00:01\r\u001b[K     |███████████▉                    | 122kB 3.4MB/s eta 0:00:01\r\u001b[K     |████████████▊                   | 133kB 3.4MB/s eta 0:00:01\r\u001b[K     |█████████████▊                  | 143kB 3.4MB/s eta 0:00:01\r\u001b[K     |██████████████▊                 | 153kB 3.4MB/s eta 0:00:01\r\u001b[K     |███████████████▊                | 163kB 3.4MB/s eta 0:00:01\r\u001b[K     |████████████████▊               | 174kB 3.4MB/s eta 0:00:01\r\u001b[K     |█████████████████▊              | 184kB 3.4MB/s eta 0:00:01\r\u001b[K     |██████████████████▋             | 194kB 3.4MB/s eta 0:00:01\r\u001b[K     |███████████████████▋            | 204kB 3.4MB/s eta 0:00:01\r\u001b[K     |████████████████████▋           | 215kB 3.4MB/s eta 0:00:01\r\u001b[K     |█████████████████████▋          | 225kB 3.4MB/s eta 0:00:01\r\u001b[K     |██████████████████████▋         | 235kB 3.4MB/s eta 0:00:01\r\u001b[K     |███████████████████████▋        | 245kB 3.4MB/s eta 0:00:01\r\u001b[K     |████████████████████████▌       | 256kB 3.4MB/s eta 0:00:01\r\u001b[K     |█████████████████████████▌      | 266kB 3.4MB/s eta 0:00:01\r\u001b[K     |██████████████████████████▌     | 276kB 3.4MB/s eta 0:00:01\r\u001b[K     |███████████████████████████▌    | 286kB 3.4MB/s eta 0:00:01\r\u001b[K     |████████████████████████████▌   | 296kB 3.4MB/s eta 0:00:01\r\u001b[K     |█████████████████████████████▌  | 307kB 3.4MB/s eta 0:00:01\r\u001b[K     |██████████████████████████████▍ | 317kB 3.4MB/s eta 0:00:01\r\u001b[K     |███████████████████████████████▍| 327kB 3.4MB/s eta 0:00:01\r\u001b[K     |████████████████████████████████| 337kB 3.4MB/s \n",
            "\u001b[?25hRequirement already satisfied, skipping upgrade: google-api-core[grpc]<2.0.0dev,>=1.14.0 in /usr/local/lib/python3.6/dist-packages (from google-cloud-firestore) (1.15.0)\n",
            "Requirement already satisfied, skipping upgrade: pytz in /usr/local/lib/python3.6/dist-packages (from google-cloud-firestore) (2018.9)\n",
            "Requirement already satisfied, skipping upgrade: google-cloud-core<2.0dev,>=1.0.3 in /usr/local/lib/python3.6/dist-packages (from google-cloud-firestore) (1.0.3)\n",
            "Requirement already satisfied, skipping upgrade: six>=1.10.0 in /usr/local/lib/python3.6/dist-packages (from google-api-core[grpc]<2.0.0dev,>=1.14.0->google-cloud-firestore) (1.12.0)\n",
            "Requirement already satisfied, skipping upgrade: protobuf>=3.4.0 in /usr/local/lib/python3.6/dist-packages (from google-api-core[grpc]<2.0.0dev,>=1.14.0->google-cloud-firestore) (3.10.0)\n",
            "Requirement already satisfied, skipping upgrade: googleapis-common-protos<2.0dev,>=1.6.0 in /usr/local/lib/python3.6/dist-packages (from google-api-core[grpc]<2.0.0dev,>=1.14.0->google-cloud-firestore) (1.6.0)\n",
            "Requirement already satisfied, skipping upgrade: google-auth<2.0dev,>=0.4.0 in /usr/local/lib/python3.6/dist-packages (from google-api-core[grpc]<2.0.0dev,>=1.14.0->google-cloud-firestore) (1.4.2)\n",
            "Requirement already satisfied, skipping upgrade: requests<3.0.0dev,>=2.18.0 in /usr/local/lib/python3.6/dist-packages (from google-api-core[grpc]<2.0.0dev,>=1.14.0->google-cloud-firestore) (2.21.0)\n",
            "Requirement already satisfied, skipping upgrade: setuptools>=34.0.0 in /usr/local/lib/python3.6/dist-packages (from google-api-core[grpc]<2.0.0dev,>=1.14.0->google-cloud-firestore) (42.0.2)\n",
            "Requirement already satisfied, skipping upgrade: grpcio<2.0dev,>=1.8.2; extra == \"grpc\" in /usr/local/lib/python3.6/dist-packages (from google-api-core[grpc]<2.0.0dev,>=1.14.0->google-cloud-firestore) (1.15.0)\n",
            "Requirement already satisfied, skipping upgrade: cachetools>=2.0.0 in /usr/local/lib/python3.6/dist-packages (from google-auth<2.0dev,>=0.4.0->google-api-core[grpc]<2.0.0dev,>=1.14.0->google-cloud-firestore) (4.0.0)\n",
            "Requirement already satisfied, skipping upgrade: pyasn1-modules>=0.2.1 in /usr/local/lib/python3.6/dist-packages (from google-auth<2.0dev,>=0.4.0->google-api-core[grpc]<2.0.0dev,>=1.14.0->google-cloud-firestore) (0.2.7)\n",
            "Requirement already satisfied, skipping upgrade: rsa>=3.1.4 in /usr/local/lib/python3.6/dist-packages (from google-auth<2.0dev,>=0.4.0->google-api-core[grpc]<2.0.0dev,>=1.14.0->google-cloud-firestore) (4.0)\n",
            "Requirement already satisfied, skipping upgrade: chardet<3.1.0,>=3.0.2 in /usr/local/lib/python3.6/dist-packages (from requests<3.0.0dev,>=2.18.0->google-api-core[grpc]<2.0.0dev,>=1.14.0->google-cloud-firestore) (3.0.4)\n",
            "Requirement already satisfied, skipping upgrade: idna<2.9,>=2.5 in /usr/local/lib/python3.6/dist-packages (from requests<3.0.0dev,>=2.18.0->google-api-core[grpc]<2.0.0dev,>=1.14.0->google-cloud-firestore) (2.8)\n",
            "Requirement already satisfied, skipping upgrade: certifi>=2017.4.17 in /usr/local/lib/python3.6/dist-packages (from requests<3.0.0dev,>=2.18.0->google-api-core[grpc]<2.0.0dev,>=1.14.0->google-cloud-firestore) (2019.11.28)\n",
            "Requirement already satisfied, skipping upgrade: urllib3<1.25,>=1.21.1 in /usr/local/lib/python3.6/dist-packages (from requests<3.0.0dev,>=2.18.0->google-api-core[grpc]<2.0.0dev,>=1.14.0->google-cloud-firestore) (1.24.3)\n",
            "Requirement already satisfied, skipping upgrade: pyasn1<0.5.0,>=0.4.6 in /usr/local/lib/python3.6/dist-packages (from pyasn1-modules>=0.2.1->google-auth<2.0dev,>=0.4.0->google-api-core[grpc]<2.0.0dev,>=1.14.0->google-cloud-firestore) (0.4.8)\n",
            "Installing collected packages: google-cloud-firestore\n",
            "Successfully installed google-cloud-firestore-1.6.1\n"
          ],
          "name": "stdout"
        },
        {
          "output_type": "display_data",
          "data": {
            "application/vnd.colab-display-data+json": {
              "pip_warning": {
                "packages": [
                  "google"
                ]
              }
            }
          },
          "metadata": {
            "tags": []
          }
        }
      ]
    },
    {
      "cell_type": "code",
      "metadata": {
        "id": "BnfzbYjDVuBi",
        "colab_type": "code",
        "colab": {}
      },
      "source": [
        "from google.cloud import firestore\n",
        "\n",
        "# Project ID is determined by the GCLOUD_PROJECT environment variable\n",
        "db = firestore.Client()"
      ],
      "execution_count": 0,
      "outputs": []
    },
    {
      "cell_type": "code",
      "metadata": {
        "id": "A8R5hRd4arDb",
        "colab_type": "code",
        "colab": {}
      },
      "source": [
        "import json"
      ],
      "execution_count": 0,
      "outputs": []
    },
    {
      "cell_type": "code",
      "metadata": {
        "id": "4wh98PuAjKws",
        "colab_type": "code",
        "colab": {}
      },
      "source": [
        "count=1\n",
        "d={}\n",
        "for result in data.results:\n",
        "  key='transcript'+str(count)\n",
        "  d[key]=result.alternatives[0].transcript\n",
        "  count+=1\n",
        "\n"
      ],
      "execution_count": 0,
      "outputs": []
    },
    {
      "cell_type": "code",
      "metadata": {
        "id": "vPUDeMeAk0WX",
        "colab_type": "code",
        "outputId": "ff9ab7c7-518a-4b29-807e-6feb96785583",
        "colab": {
          "base_uri": "https://localhost:8080/",
          "height": 34
        }
      },
      "source": [
        "len(d)"
      ],
      "execution_count": 13,
      "outputs": [
        {
          "output_type": "execute_result",
          "data": {
            "text/plain": [
              "19"
            ]
          },
          "metadata": {
            "tags": []
          },
          "execution_count": 13
        }
      ]
    },
    {
      "cell_type": "code",
      "metadata": {
        "id": "NvrOUGoamc70",
        "colab_type": "code",
        "outputId": "33ed7607-9159-4f77-fd4b-18e5b9d3ca11",
        "colab": {
          "base_uri": "https://localhost:8080/",
          "height": 356
        }
      },
      "source": [
        "d"
      ],
      "execution_count": 14,
      "outputs": [
        {
          "output_type": "execute_result",
          "data": {
            "text/plain": [
              "{'transcript1': '美式無限無限寬頻人人有份好歡迎大家收聽今日嘅無限寬頻我已經為大家可以畫3d今日呢我就準備咗一間餐廳同你講下因為我覺得你會鍾意食嘅嘢嚟嘅你每次都話我鍾意食嘅嘢好容易搵嘅啫因為我可以食嘅咁有啲嘢係你冇咁鍾意食㗎嘛甜品呢樣嘢呢其實係日本日本日本餐廳啦咁後日本餐都好多種㗎嘛食好多嘢嘅我覺得係比較',\n",
              " 'transcript10': '比華利山嗰啲就係食咗麥卡錫啦然後去師傅就好似好高級嘅嗰啲方式食啦你而家講緊呢啲就係基本上一個lunch呀或者係平時搞解決咗個肚餓問題嘅一種選擇嚟㗎好平民化價錢相當之豐到咁而且你啱啱所講嘅因為人哋專門做嘅咁我相信佢嘅品質出品呢係絕對係即係專門店舖頭嘅掂啦其實每個人都有自己嘅有自己嘅喜好啦就算真係鍾意食tempura嘅人有啲蝦嘅有啲人唔鍾意食其他嘅其實你啱啱所講嘅炸饅魚呢係我鍾意食嘅男仔入嚟㗎但我唔係嗰啲㗎我係食隻唔係有執嗰啲鰻魚呀我係鍾意食嗰啲淡水鰻魚真係冇嗰啲日子都要吊銷執嗰啲鰻魚所以兩種食法係唔同嘅我鍾意食嗰種就係淡水嘅冇汁嘅蛋',\n",
              " 'transcript11': '哪個方式去做過嘅呢係我其中一個最鍾意食嘅tempura點隻品種之一嚟㗎有埋嗰個站鰻魚嘅我哋都係呀同埋一堆嗰啲菜啦你知我勁怕聲都唔出嚟呢係冇聲嚟㗎即係佢係叫你啦非常之好咁夜瞓呢可能係有唔同嘅境界就食個飯嘅食唔到啲嘢其實好啱㗎嘛係會食到嗰個比例啱啱好啦咁你都係食到好嘅食材啦當然你唔可以要求佢畀最靚嘅咩哈你食啦呢啲咁但係我覺得都係覺得佢啦',\n",
              " 'transcript12': '唔記得當年阿姐而家講緊快十年前嘅事啦你因為佢接飛機就錯過咗一次息tempura嘅機會啦你記唔記得就係一啲好高級嘅我macarthur嘅方式啦咁其實你啱啱講到喇因為出面有好多嘅舖頭咁無論如何去啲lunch嘅時間呢佢都會有一啲所謂嘅我食呀夾tempura令到大部分嘅民眾去到日本餐廳食tempura呢都有一個固有嘅stella態度有個錯覺就差啲嘢出嚟唔係咁重要嘅啫但係當你食咗呢一啲真正嘅member之後呢你就知道你其實對tempura嘅理解呢係一個好錯誤因為如果咋得靚嘅係真係好好食啱啱畫3d所講嘅嗰個脆漿啦個咋分呀如果人哋係真係黃金色嘅咋到兼職薄薄一層',\n",
              " 'transcript13': '出面嘅你食落去呢真係嗰種趣同埋成口粉呢係完全兩回事嚟㗎一種就係食真正tempura同埋出面嗰啲濫竽充數嘅第一個最大嘅分別喺度呀香口啲啦你整返舊熱辣辣嘅飯有啲醬汁喺度呢嗰下啦如果改下呢個備一份冰凍啤酒你呢你就會覺得好熱㗎啦佢十零廿蚊好抵好抵㗎啦好開心㗎喇咁呢個係一個經驗啦我比較佩服嘅就係本身呢間餐廳個老闆同埋個廚佢唔係日本人帶佢亦都會將呢樣嘢都做到佢喺度㗎佢真係出嚟同我哋打招呼自己都親力親為個廚房度做嘢㗎唔係話搞掂咗鋪頭求其搵個人去做啦佢自己都會喺度㗎',\n",
              " 'transcript14': '太平道華喺日本人嘅文化裏面呀特別係啲日本男士呀一放工呢咪佢鍾意佢啲酒吧或者係啲居酒屋度成班同事check下水呀咁樣嘅呢啲所謂嘅social嘅生活啦即係社交生活啦其中一個最熱門嘅嘢食呢就係tempura叫做輕食嘅東西或者係咪食呢就係兩個人或者幾個朋友喺度杯酒飲下啤酒嘅時間呢想一碟tempura咁佢哋食少少就作為送走或者係一種令到個口冇咁無聊㗎仲使唔使喺到普遍好普遍嘅平民嘢食但係做得唔好啦最主要其中一個我總結起嚟呀就係因為以後嘅問題啦有好多舖頭呢慳成本呀永遠都唔肯玩啲人唔願意每日玩但係多一啲真正正宗做tempura舖頭呢佢嗰種tempura油呢你只要任何時間入到去佢個廚房度',\n",
              " 'transcript15': '你都見到啲油係金黃色清澈見底嘅禮個係仲要中嘅重要呀當你啲油唔係新鮮唔係靚的話呢咋出嚟無論顏色香味啦係會絕對影響到你嘅出品㗎點樣溝出嚟呀我諗所有嘢好細微嘅呢都係計過度過㗎啦真係好用咩油呀甚至可能要同一種又唔知會唔會教我自己諗可能都係連個遊都會講究過囉唔係就咁簡單畫但係一開間舖頭求其攞啲尤其嗰啲出嚟打下就係唔係咁簡單嘅我一定會去無論如何就想試試佢嘅lunch先啦然後再睇睇咩情況考慮下dinner你知我其實都幾大食㗎每次去食tempura啲專門做temperature',\n",
              " 'transcript16': '一個阿太我唔係好夠飽三分鐘車程我就去咗個日本嘅超級市場買咗嗰個個都得啦我喺度去到的大概就排咗20分鐘嘅山長水遠去到就排啦是但啦我都係去到你口味呢就係有士多啤梨芒果同埋黑芝麻味嘅都唔係我哋上次介紹過啦就係喺個market裏面嘅當時就話係pop up store嚟㗎原來好明顯而家唔係block都好似永久住佢喺嗰度我諗生意太好喇因為呢應該係確實呢排都開埋我諗係因為只知道演員黎lv真係唔係好多呢一種嘅認多型',\n",
              " 'transcript17': '舖頭咁就變咗個擁飯食而且佢哋都識簽名啦成日轉口味呀嘛佢都係貴十蚊得12個鐘呀我真係好貴喎呢個嘢確實係好貴呀但係每個人嘅審法就係我同你咁樣啦山長水遠去到咁長水牌幾多錢冇所謂呀幾好嗰堆麵粉等嚟㗎咋嘛我覺得有時有啲做生意就係咁㗎啦得啦而家啲成本比較低嘅產品呀當你做得約為一名氣或者做得唔錯嘅情況下呢係貴少少呢冇人會投訴呀',\n",
              " 'transcript18': '去到嗰度啦然後正如你所講嘅龜極都係廿蚊畀多你double啦都係45蚊唔會變咗四百蚊呀咁樣即係完全係唔會㗎嘛既然去到幾長龍都排啦一買你見到啲人呢一買呢係一打以上㗎啦咁辛苦你點都要買粥盡量去買㗎啦唔會話買少少咁樣嘅因為你始終有一日之後加好食呢個成功嘅地方所以我當時心甘情願畀20蚊呢就返到屋企假日都好食嘅我覺得ok',\n",
              " 'transcript19': '所謂嘅出醒之行收穫都幾大喎咁所以今次我覺得係好成功嘅個出行咁呀希望有機會你都去試下啦好多謝你嘅介紹呀今日嘅無限寬頻到此為止我哋下星期再傾',\n",
              " 'transcript2': '被人哋啲就識玩譬如係一個唔係亞洲人啦可能係其他文化嘅人都會接受食呢樣嘢因為唔係嗰啲server迪生嘢食食完返去你會驚我哋飲住先我哋約下中國飲茶食嗰啲鳳爪佢哋又會驚㗎咁樣嘢呢就基本上佢哋唔會驚嘅食緊嚟㗎咁所以係比較大就快啲囉應該就唔會拉麵咁普通啦唔係會唔會係日本嘅定食好似metallica嗰啲嘢嘅舖頭舖頭別在咩呢佢開鋪頭嗰個人下低嗰個主廚個師傅呢佢並唔係日本人哋嘅咁個故事我得以下其實佢個鼻老人',\n",
              " 'transcript3': '秘魯人呢就走咗去日本嗰度我諗佢嗰度住呀發展呀咁樣呀今日著咗好多年嘅時間佢就係出去餐廳返工呀去咗一間專門頂tempura嘅地方咁跟住呢基本上就學先返嚟呀即係其實佢本身呢好鍾意食呢一樣嘢愛上咗對於呢個文化對於有嘢食咁跟住呢佢就決定咗要將呢樣嘢帶返返嚟洛杉磯咁就喺度開間餐廳都係交畀阿神嘅餐廳嚟嘅下午一啲都唔貴唔會有好靚嘅裝修但係呢個嘢食出殯呢就非常之好食嘅而且呢喺短短的開咗唔夠一年嘅時間先嚟啦已經得到好好嘅平台以咁我真係好有興趣喎因為我自己本身呢係鍾意食tempura嘅但我而家講緊唔係話即係隨便咋嘢嗰啲呀係真係專業整tempura',\n",
              " 'transcript4': '鋪頭好多嘅餐廳都會有tempura買咁但係嗰啲emperor如果你話畀喺專業專門做tempura個舖頭呢係一個好大嘅差距假我而家諗緊其實我以前呢就有間好出名呀仔畀我嗰邊呀我哋講真係好貴嘅其實有一間喺toris嗰邊都開咗好多年㗎喇咁我以前都耐唔耐都會去食嘅但係你依家呢我相信我就係唔知道嘅所以我好期待你嘅介紹呀好貴呀我都食過啦但係都未食完呢間之後呢你就發覺原來只係十零蚊都唔使十蚊你就可以食到算係真係唔錯呀得兩張相差唔多嘅呢個地方呀你又係一樣唔係咁容易嘅唔係話我求其返屋企埋一堆雜粉麵粉雞蛋返嚟呢就可以做到㗎因為我哋自己屋企第一少咋嘢啦第二其實嗰個',\n",
              " 'transcript5': '難㗎所有嘢要搬入得非常之好無論係用咩油啦有嘅溫度啦你教唔同嘅嘢需要嘅時間都係唔同嘅咁當然重點點樣去瞓啦咁所以我覺得其實如果你要學識我咁都係幾難嘅嘢囉我覺得係唔容易㗎係其實我以前呢就學個job to run下係跟嗰個日本嘅師傅呀咁所以其實佢有教過我一啲q門喇淨係做呢個分張呢都係用好多嘅步驟同埋公聚假並唔係我哋所講嘅有啲麵粉呀有雞蛋呀點樣呀撈埋一齊呀點樣啦冇撚喺水嘅溫度啦呢啲粉嘅粗細喇你要低過佢啦然後個比例啦等等啦全部都有一個好講究嘅工序同埋份量㗎咁所以點解有啲tempura舖頭有啲人覺得就成間舖頭定係食炸template',\n",
              " 'transcript6': '需唔需要做到咁專業呀需唔需要做咁簡單呀咁樣其實呢如果你試過呢啲真係專門食平啲嘅舖頭呢你好難去返去其他鋪頭食tempura㗎啦咁去到咁遠呀我就真係暈暈咁多其實我覺得你好想食嗰啲你啲call呢一間食炸豬扒好食嘅係諗咗好耐真係好慘呀食一餐我都決定咗去食西餐廳因為隻豬扒有冇食過呀嘛咁佢一陣間呢個時候呢就係中午嚟㗎咁我中午嘅其實因為係生活都幾多人㗎所以唔使等位大都係即可換曬嘅咁其實好簡單好似你話齋佢根本呢就專門做嗰幾樣嘢好想食嗰樣因為我去打畀我吖我到咗先下晝一點',\n",
              " 'transcript7': '就係用呢一個蟹肉呀patrick整嘅成本價錢唔貴喎佢呢個都係咁嘅做法呢就有兩種選擇一呢就係做嗰種嗰啲當即係上面係食物啦下面就煩得好好因為呢都好食嘅一碗白飯就分開跟住有冇麵豉湯跟住呢就係分開嘅我就自己個人呢就比較呢啲呢啲環境我覺得好撚煩囉因為你會將佢炸物香味啦同埋佢有個特世界上第一混合埋一齊好食嘅重點係咩你所有埋佢嘅飯呢佢都有一隻流心蛋',\n",
              " 'transcript8': '流心蛋呢係講明㗎啦佢好佢唔會唔會話畀人聽留心中間嗰個彈琴嘅唔會㗎佢教你將個打咩等個蛋糕嘅樓落個飯度連埋佢本身混合咗嗰度比較特別嘅自由呢一齊食真係好好呀非常之好啦佢唔會過甜會過鹹個味道啱啱好嘅就算你load咗煩到你唔會覺得嘅時候攞返啲全部都係打得好好玩啲嘢就有咩都有炸蝦喇有大雨啦有炸紫菜同埋有打過一陣時見到kappa嘅咁如果你畀貴少少呢就會有一個係炸鰻魚嘅係唔好啦咁我本身自己唔鍾意食鰻魚咁就冇20蚊如果我好似平時賣',\n",
              " 'transcript9': '而家問一問其實一啲都唔貴囉我已經流曬好衰但係真係唔係咁容易食到呀全羅南基就真係得嗰十隻手指數唔夠嘅餐廳啦咁你呢間講嘅呢你就而家我聽你咁都目前為止嘅講法呢我就已經係好想嘅自動ii佢嘅好處呢我覺得係因為唔貴呀你講緊有十二蚊到最貴都係去到20蚊咁定係應該可能貴啲但係你講咁嘅價錢呢有咩食到唔錯佢嗰陣都嚟呢已經係非常之難得㗎啦咁你就比華利山嗰啲食緊講冇辦法定200蚊一位㗎嘛咁平民化啲嘢我覺得你係非常之好食㗎啦'}"
            ]
          },
          "metadata": {
            "tags": []
          },
          "execution_count": 14
        }
      ]
    },
    {
      "cell_type": "code",
      "metadata": {
        "id": "Xp04hOECm5tg",
        "colab_type": "code",
        "outputId": "d8dc7a0b-1d66-406a-c50b-53271224202d",
        "colab": {
          "base_uri": "https://localhost:8080/",
          "height": 84
        }
      },
      "source": [
        "doc_ref = db.collection(u'food').document(u'010720')\n",
        "doc_ref.set(d)"
      ],
      "execution_count": 15,
      "outputs": [
        {
          "output_type": "execute_result",
          "data": {
            "text/plain": [
              "update_time {\n",
              "  seconds: 1580638803\n",
              "  nanos: 373966000\n",
              "}"
            ]
          },
          "metadata": {
            "tags": []
          },
          "execution_count": 15
        }
      ]
    },
    {
      "cell_type": "markdown",
      "metadata": {
        "id": "ZDcNLCprgyN_",
        "colab_type": "text"
      },
      "source": [
        "秘魯人呢就走咗去日本嗰度我諗佢嗰度住呀發展呀咁樣呀今日著咗好多年嘅時間佢就係出去餐廳返工呀去咗一間專門頂tempura嘅地方咁跟住呢基本上就學先返嚟呀即係其實佢本身呢好鍾意食呢一樣嘢愛上咗對於呢個文化對於有嘢食咁跟住呢佢就決定咗要將呢樣嘢帶返返嚟洛杉磯咁就喺度開間餐廳都係交畀阿神嘅餐廳嚟嘅下午一啲都唔貴唔會有好靚嘅裝修但係呢個嘢食出殯呢就非常之好食嘅而且呢喺短短的開咗唔夠一年嘅時間先嚟啦已經得到好好嘅平台以咁我真係好有興趣喎因為我自己本身呢係鍾意食tempura嘅但我而家講緊唔係話即係隨便咋嘢嗰啲呀係真係專業整tempura',\n",
        "\n",
        "鋪頭好多嘅餐廳都會有tempura買咁但係嗰啲emperor如果你話畀喺專業專門做tempura個舖頭呢係一個好大嘅差距假我而家諗緊其實我以前呢就有間好出名呀仔畀我嗰邊呀我哋講真係好貴嘅其實有一間喺toris嗰邊都開咗好多年㗎喇咁我以前都耐唔耐都會去食嘅但係你依家呢我相信我就係唔知道嘅所以我好期待你嘅介紹呀好貴呀我都食過啦但係都未食完呢間之後呢你就發覺原來只係十零蚊都唔使十蚊你就可以食到算係真係唔錯呀得兩張相差唔多嘅呢個地方呀你又係一樣唔係咁容易嘅唔係話我求其返屋企埋一堆雜粉麵粉雞蛋返嚟呢就可以做到㗎因為我哋自己屋企第一少咋嘢啦第二其實嗰個',\n",
        "\n",
        "難㗎所有嘢要搬入得非常之好無論係用咩油啦有嘅溫度啦你教唔同嘅嘢需要嘅時間都係唔同嘅咁當然重點點樣去瞓啦咁所以我覺得其實如果你要學識我咁都係幾難嘅嘢囉我覺得係唔容易㗎係其實我以前呢就學個job to run下係跟嗰個日本嘅師傅呀咁所以其實佢有教過我一啲q門喇淨係做呢個分張呢都係用好多嘅步驟同埋公聚假並唔係我哋所講嘅有啲麵粉呀有雞蛋呀點樣呀撈埋一齊呀點樣啦冇撚喺水嘅溫度啦呢啲粉嘅粗細喇你要低過佢啦然後個比例啦等等啦全部都有一個好講究嘅工序同埋份量㗎咁所以點解有啲tempura舖頭有啲人覺得就成間舖頭定係食炸template',\n",
        "\n",
        "需唔需要做到咁專業呀需唔需要做咁簡單呀咁樣其實呢如果你試過呢啲真係專門食平啲嘅舖頭呢你好難去返去其他鋪頭食tempura㗎啦咁去到咁遠呀我就真係暈暈咁多其實我覺得你好想食嗰啲你啲call呢一間食炸豬扒好食嘅係諗咗好耐真係好慘呀食一餐我都決定咗去食西餐廳因為隻豬扒有冇食過呀嘛咁佢一陣間呢個時候呢就係中午嚟㗎咁我中午嘅其實因為係生活都幾多人㗎所以唔使等位大都係即可換曬嘅咁其實好簡單好似你話齋佢根本呢就專門做嗰幾樣嘢好想食嗰樣因為我去打畀我吖我到咗先下晝一點',\n",
        "\n",
        "就係用呢一個蟹肉呀patrick整嘅成本價錢唔貴喎佢呢個都係咁嘅做法呢就有兩種選擇一呢就係做嗰種嗰啲當即係上面係食物啦下面就煩得好好因為呢都好食嘅一碗白飯就分開跟住有冇麵豉湯跟住呢就係分開嘅我就自己個人呢就比較呢啲呢啲環境我覺得好撚煩囉因為你會將佢炸物香味啦同埋佢有個特世界上第一混合埋一齊好食嘅重點係咩你所有埋佢嘅飯呢佢都有一隻流心蛋',\n",
        "\n",
        "\n",
        "\n",
        "流心蛋呢係講明㗎啦佢好佢唔會唔會話畀人聽留心中間嗰個彈琴嘅唔會㗎佢教你將個打咩等個蛋糕嘅樓落個飯度連埋佢本身混合咗嗰度比較特別嘅自由呢一齊食真係好好呀非常之好啦佢唔會過甜會過鹹個味道啱啱好嘅就算你load咗煩到你唔會覺得嘅時候攞返啲全部都係打得好好玩啲嘢就有咩都有炸蝦喇有大雨啦有炸紫菜同埋有打過一陣時見到kappa嘅咁如果你畀貴少少呢就會有一個係炸鰻魚嘅係唔好啦咁我本身自己唔鍾意食鰻魚咁就冇20蚊如果我好似平時賣',\n",
        "\n",
        "而家問一問其實一啲都唔貴囉我已經流曬好衰但係真係唔係咁容易食到呀全羅南基就真係得嗰十隻手指數唔夠嘅餐廳啦咁你呢間講嘅呢你就而家我聽你咁都目前為止嘅講法呢我就已經係好想嘅自動ii佢嘅好處呢我覺得係因為唔貴呀你講緊有十二蚊到最貴都係去到20蚊咁定係應該可能貴啲但係你講咁嘅價錢呢有咩食到唔錯佢嗰陣都嚟呢已經係非常之難得㗎啦咁你就比華利山嗰啲食緊講冇辦法定200蚊一位㗎嘛咁平民化啲嘢我覺得你係非常之好食㗎啦'}"
      ]
    }
  ]
}