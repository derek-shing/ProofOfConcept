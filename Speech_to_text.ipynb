{
  "nbformat": 4,
  "nbformat_minor": 0,
  "metadata": {
    "colab": {
      "name": "Speech_to_text.ipynb",
      "provenance": [],
      "toc_visible": true,
      "authorship_tag": "ABX9TyMhuZU75fq35w0uzGGshjBV",
      "include_colab_link": true
    },
    "kernelspec": {
      "name": "python3",
      "display_name": "Python 3"
    }
  },
  "cells": [
    {
      "cell_type": "markdown",
      "metadata": {
        "id": "view-in-github",
        "colab_type": "text"
      },
      "source": [
        "<a href=\"https://colab.research.google.com/github/derek-shing/ProofOfConcept/blob/master/Speech_to_text.ipynb\" target=\"_parent\"><img src=\"https://colab.research.google.com/assets/colab-badge.svg\" alt=\"Open In Colab\"/></a>"
      ]
    },
    {
      "cell_type": "markdown",
      "metadata": {
        "id": "7X9CjNTyRkuJ",
        "colab_type": "text"
      },
      "source": [
        "#Testing the Speech to Text Cantonese API\n",
        "\n",
        "\n",
        "1.   Preprocessing the audio file\n",
        "\n",
        "\n",
        "*   How to record sound\n",
        "*   turn to correct format\n",
        "*   display codec spec.\n",
        "*   Save to Storage\n",
        "\n",
        "\n",
        "\n",
        "\n",
        "2.   Using AutoML API\n",
        "*    Read from Storage\n",
        "*    Call the API\n",
        "\n"
      ]
    },
    {
      "cell_type": "code",
      "metadata": {
        "id": "iQ5mljBPRjkT",
        "colab_type": "code",
        "colab": {}
      },
      "source": [
        "project_id = 'my-project-1558599394309'"
      ],
      "execution_count": 0,
      "outputs": []
    },
    {
      "cell_type": "code",
      "metadata": {
        "id": "H3d88FoFUKpB",
        "colab_type": "code",
        "colab": {}
      },
      "source": [
        "from google.colab import auth\n",
        "auth.authenticate_user()"
      ],
      "execution_count": 0,
      "outputs": []
    },
    {
      "cell_type": "code",
      "metadata": {
        "id": "j9g2829rUoXI",
        "colab_type": "code",
        "colab": {
          "base_uri": "https://localhost:8080/",
          "height": 34
        },
        "outputId": "4820fc7b-1477-4fdd-9de1-104524b654f9"
      },
      "source": [
        "!gcloud config set project {project_id}"
      ],
      "execution_count": 3,
      "outputs": [
        {
          "output_type": "stream",
          "text": [
            "Updated property [core/project].\n"
          ],
          "name": "stdout"
        }
      ]
    },
    {
      "cell_type": "code",
      "metadata": {
        "id": "go46rSDsWPFE",
        "colab_type": "code",
        "colab": {
          "base_uri": "https://localhost:8080/",
          "height": 68
        },
        "outputId": "b0670605-6109-49c4-c6ea-39771717f01c"
      },
      "source": [
        "!gsutil cp gs://food1430/cantonese_flac.flac cantonese_flac.flac"
      ],
      "execution_count": 8,
      "outputs": [
        {
          "output_type": "stream",
          "text": [
            "Copying gs://food1430/cantonese_flac.flac...\n",
            "/ [1 files][  3.3 MiB/  3.3 MiB]                                                \n",
            "Operation completed over 1 objects/3.3 MiB.                                      \n"
          ],
          "name": "stdout"
        }
      ]
    },
    {
      "cell_type": "code",
      "metadata": {
        "id": "CJaoboRiWrjO",
        "colab_type": "code",
        "colab": {}
      },
      "source": [
        ""
      ],
      "execution_count": 0,
      "outputs": []
    }
  ]
}