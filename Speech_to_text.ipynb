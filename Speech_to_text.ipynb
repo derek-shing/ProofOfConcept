{
  "nbformat": 4,
  "nbformat_minor": 0,
  "metadata": {
    "colab": {
      "name": "Speech_to_text.ipynb",
      "provenance": [],
      "toc_visible": true,
      "authorship_tag": "ABX9TyOKvim7jDOVLAiFqo8Ra0+1",
      "include_colab_link": true
    },
    "kernelspec": {
      "name": "python3",
      "display_name": "Python 3"
    }
  },
  "cells": [
    {
      "cell_type": "markdown",
      "metadata": {
        "id": "view-in-github",
        "colab_type": "text"
      },
      "source": [
        "<a href=\"https://colab.research.google.com/github/derek-shing/ProofOfConcept/blob/master/Speech_to_text.ipynb\" target=\"_parent\"><img src=\"https://colab.research.google.com/assets/colab-badge.svg\" alt=\"Open In Colab\"/></a>"
      ]
    },
    {
      "cell_type": "markdown",
      "metadata": {
        "id": "7X9CjNTyRkuJ",
        "colab_type": "text"
      },
      "source": [
        "#Testing the Speech to Text Cantonese API\n",
        "\n",
        "\n",
        "1.   Preprocessing the audio file\n",
        "\n",
        "\n",
        "*   How to record sound\n",
        "*   turn to correct format\n",
        "*   display codec spec.\n",
        "*   Save to Storage\n",
        "\n",
        "\n",
        "\n",
        "\n",
        "2.   Using AutoML API\n",
        "*    Read from Storage\n",
        "*    Call the API\n",
        "\n",
        "\n",
        "https://cloud.google.com/speech-to-text/docs/quickstart  \n",
        "\n",
        "\n",
        "\n",
        "\n"
      ]
    },
    {
      "cell_type": "code",
      "metadata": {
        "id": "iQ5mljBPRjkT",
        "colab_type": "code",
        "colab": {}
      },
      "source": [
        "project_id = 'my-project-1558599394309'"
      ],
      "execution_count": 0,
      "outputs": []
    },
    {
      "cell_type": "code",
      "metadata": {
        "id": "H3d88FoFUKpB",
        "colab_type": "code",
        "colab": {}
      },
      "source": [
        "from google.colab import auth\n",
        "auth.authenticate_user()"
      ],
      "execution_count": 0,
      "outputs": []
    },
    {
      "cell_type": "code",
      "metadata": {
        "id": "j9g2829rUoXI",
        "colab_type": "code",
        "colab": {
          "base_uri": "https://localhost:8080/",
          "height": 34
        },
        "outputId": "aa8354c9-831e-480b-c48e-1dcb200fe74e"
      },
      "source": [
        "!gcloud config set project {project_id}"
      ],
      "execution_count": 8,
      "outputs": [
        {
          "output_type": "stream",
          "text": [
            "Updated property [core/project].\n"
          ],
          "name": "stdout"
        }
      ]
    },
    {
      "cell_type": "code",
      "metadata": {
        "id": "go46rSDsWPFE",
        "colab_type": "code",
        "colab": {
          "base_uri": "https://localhost:8080/",
          "height": 68
        },
        "outputId": "65d7e8c3-6c96-4206-9c13-5ba1c8401dfa"
      },
      "source": [
        "!gsutil cp gs://food1430/cantonese_flac.flac cantonese_flac.flac"
      ],
      "execution_count": 9,
      "outputs": [
        {
          "output_type": "stream",
          "text": [
            "Copying gs://food1430/cantonese_flac.flac...\n",
            "/ [1 files][  3.3 MiB/  3.3 MiB]                                                \n",
            "Operation completed over 1 objects/3.3 MiB.                                      \n"
          ],
          "name": "stdout"
        }
      ]
    },
    {
      "cell_type": "code",
      "metadata": {
        "id": "UF3_069JssXH",
        "colab_type": "code",
        "colab": {
          "base_uri": "https://localhost:8080/",
          "height": 649
        },
        "outputId": "a8e73bf7-ffc0-491e-a53a-172f44a1b20a"
      },
      "source": [
        "!ffmpeg -i cantonese_flac.flac -ac 1 mono.flac"
      ],
      "execution_count": 13,
      "outputs": [
        {
          "output_type": "stream",
          "text": [
            "ffmpeg version 3.4.6-0ubuntu0.18.04.1 Copyright (c) 2000-2019 the FFmpeg developers\n",
            "  built with gcc 7 (Ubuntu 7.3.0-16ubuntu3)\n",
            "  configuration: --prefix=/usr --extra-version=0ubuntu0.18.04.1 --toolchain=hardened --libdir=/usr/lib/x86_64-linux-gnu --incdir=/usr/include/x86_64-linux-gnu --enable-gpl --disable-stripping --enable-avresample --enable-avisynth --enable-gnutls --enable-ladspa --enable-libass --enable-libbluray --enable-libbs2b --enable-libcaca --enable-libcdio --enable-libflite --enable-libfontconfig --enable-libfreetype --enable-libfribidi --enable-libgme --enable-libgsm --enable-libmp3lame --enable-libmysofa --enable-libopenjpeg --enable-libopenmpt --enable-libopus --enable-libpulse --enable-librubberband --enable-librsvg --enable-libshine --enable-libsnappy --enable-libsoxr --enable-libspeex --enable-libssh --enable-libtheora --enable-libtwolame --enable-libvorbis --enable-libvpx --enable-libwavpack --enable-libwebp --enable-libx265 --enable-libxml2 --enable-libxvid --enable-libzmq --enable-libzvbi --enable-omx --enable-openal --enable-opengl --enable-sdl2 --enable-libdc1394 --enable-libdrm --enable-libiec61883 --enable-chromaprint --enable-frei0r --enable-libopencv --enable-libx264 --enable-shared\n",
            "  libavutil      55. 78.100 / 55. 78.100\n",
            "  libavcodec     57.107.100 / 57.107.100\n",
            "  libavformat    57. 83.100 / 57. 83.100\n",
            "  libavdevice    57. 10.100 / 57. 10.100\n",
            "  libavfilter     6.107.100 /  6.107.100\n",
            "  libavresample   3.  7.  0 /  3.  7.  0\n",
            "  libswscale      4.  8.100 /  4.  8.100\n",
            "  libswresample   2.  9.100 /  2.  9.100\n",
            "  libpostproc    54.  7.100 / 54.  7.100\n",
            "Input #0, flac, from 'cantonese_flac.flac':\n",
            "  Metadata:\n",
            "    MAJOR_BRAND     : M4A \n",
            "    MINOR_VERSION   : 0\n",
            "    COMPATIBLE_BRANDS: M4A mp42isom\n",
            "    ITUNSMPB        :  00000000 00000840 00000000 00000000002107C0 00000000 00000000 00000000 00000000 00000000 00000000 00000000 00000000\n",
            "    ENCODER         : Lavf58.29.100\n",
            "  Duration: 00:00:49.09, start: 0.000000, bitrate: 559 kb/s\n",
            "    Stream #0:0: Audio: flac, 44100 Hz, stereo, s32 (24 bit)\n",
            "Stream mapping:\n",
            "  Stream #0:0 -> #0:0 (flac (native) -> flac (native))\n",
            "Press [q] to stop, [?] for help\n",
            "Output #0, flac, to 'mono.flac':\n",
            "  Metadata:\n",
            "    MAJOR_BRAND     : M4A \n",
            "    MINOR_VERSION   : 0\n",
            "    COMPATIBLE_BRANDS: M4A mp42isom\n",
            "    ITUNSMPB        :  00000000 00000840 00000000 00000000002107C0 00000000 00000000 00000000 00000000 00000000 00000000 00000000 00000000\n",
            "    encoder         : Lavf57.83.100\n",
            "    Stream #0:0: Audio: flac, 44100 Hz, mono, s32 (24 bit), 128 kb/s\n",
            "    Metadata:\n",
            "      encoder         : Lavc57.107.100 flac\n",
            "size=    3088kB time=00:00:49.08 bitrate= 515.4kbits/s speed= 252x    \n",
            "video:0kB audio:3080kB subtitle:0kB other streams:0kB global headers:0kB muxing overhead: 0.269182%\n"
          ],
          "name": "stdout"
        }
      ]
    },
    {
      "cell_type": "code",
      "metadata": {
        "id": "vKiV3hztk7RX",
        "colab_type": "code",
        "colab": {
          "base_uri": "https://localhost:8080/",
          "height": 204
        },
        "outputId": "816cc31c-01c1-4217-92ce-d5127e57c29c"
      },
      "source": [
        "!wget https://www.signalogic.com/melp/eng_noise/orig/car.wav"
      ],
      "execution_count": 1,
      "outputs": [
        {
          "output_type": "stream",
          "text": [
            "--2020-01-24 08:03:49--  https://www.signalogic.com/melp/eng_noise/orig/car.wav\n",
            "Resolving www.signalogic.com (www.signalogic.com)... 209.150.126.178\n",
            "Connecting to www.signalogic.com (www.signalogic.com)|209.150.126.178|:443... connected.\n",
            "HTTP request sent, awaiting response... 200 OK\n",
            "Length: 256044 (250K) [audio/x-wav]\n",
            "Saving to: ‘car.wav’\n",
            "\n",
            "\rcar.wav               0%[                    ]       0  --.-KB/s               \rcar.wav             100%[===================>] 250.04K  --.-KB/s    in 0.06s   \n",
            "\n",
            "2020-01-24 08:03:49 (4.41 MB/s) - ‘car.wav’ saved [256044/256044]\n",
            "\n"
          ],
          "name": "stdout"
        }
      ]
    },
    {
      "cell_type": "code",
      "metadata": {
        "id": "L2ekqyjglaq6",
        "colab_type": "code",
        "colab": {
          "base_uri": "https://localhost:8080/",
          "height": 68
        },
        "outputId": "3cbc8910-48cf-4b4a-b28b-9ef1ca8de781"
      },
      "source": [
        "!gsutil cp /content/car.wav gs://food1430/car.wav"
      ],
      "execution_count": 5,
      "outputs": [
        {
          "output_type": "stream",
          "text": [
            "Copying file:///content/car.wav [Content-Type=audio/x-wav]...\n",
            "-\n",
            "Operation completed over 1 objects/250.0 KiB.                                    \n"
          ],
          "name": "stdout"
        }
      ]
    },
    {
      "cell_type": "code",
      "metadata": {
        "id": "aDyWnNFKoOse",
        "colab_type": "code",
        "colab": {}
      },
      "source": [
        "import os\n",
        "os.environ[\"GOOGLE_APPLICATION_CREDENTIALS\"] = \"/content/drive/My Drive/GCP_account.json\""
      ],
      "execution_count": 0,
      "outputs": []
    },
    {
      "cell_type": "code",
      "metadata": {
        "id": "i_1JbZ4EomJy",
        "colab_type": "code",
        "colab": {
          "base_uri": "https://localhost:8080/",
          "height": 122
        },
        "outputId": "15f1d832-3124-4d99-c747-a4ab804b2c29"
      },
      "source": [
        "from google.colab import drive\n",
        "drive.mount('/content/drive')"
      ],
      "execution_count": 7,
      "outputs": [
        {
          "output_type": "stream",
          "text": [
            "Go to this URL in a browser: https://accounts.google.com/o/oauth2/auth?client_id=947318989803-6bn6qk8qdgf4n4g3pfee6491hc0brc4i.apps.googleusercontent.com&redirect_uri=urn%3aietf%3awg%3aoauth%3a2.0%3aoob&response_type=code&scope=email%20https%3a%2f%2fwww.googleapis.com%2fauth%2fdocs.test%20https%3a%2f%2fwww.googleapis.com%2fauth%2fdrive%20https%3a%2f%2fwww.googleapis.com%2fauth%2fdrive.photos.readonly%20https%3a%2f%2fwww.googleapis.com%2fauth%2fpeopleapi.readonly\n",
            "\n",
            "Enter your authorization code:\n",
            "··········\n",
            "Mounted at /content/drive\n"
          ],
          "name": "stdout"
        }
      ]
    },
    {
      "cell_type": "code",
      "metadata": {
        "id": "zqMAQDm5pbNZ",
        "colab_type": "code",
        "colab": {
          "base_uri": "https://localhost:8080/",
          "height": 501
        },
        "outputId": "3259728a-8807-4a04-cb70-0d254ab6bb96"
      },
      "source": [
        "pip install google-cloud-speech"
      ],
      "execution_count": 11,
      "outputs": [
        {
          "output_type": "stream",
          "text": [
            "Collecting google-cloud-speech\n",
            "\u001b[?25l  Downloading https://files.pythonhosted.org/packages/0c/81/c59a373c7668beb9de922b9c4419b793898d46c6d4a44f4fe28098e77623/google_cloud_speech-1.3.1-py2.py3-none-any.whl (88kB)\n",
            "\r\u001b[K     |███▊                            | 10kB 16.9MB/s eta 0:00:01\r\u001b[K     |███████▍                        | 20kB 1.8MB/s eta 0:00:01\r\u001b[K     |███████████▏                    | 30kB 2.6MB/s eta 0:00:01\r\u001b[K     |██████████████▉                 | 40kB 1.7MB/s eta 0:00:01\r\u001b[K     |██████████████████▋             | 51kB 2.1MB/s eta 0:00:01\r\u001b[K     |██████████████████████▎         | 61kB 2.5MB/s eta 0:00:01\r\u001b[K     |██████████████████████████      | 71kB 2.9MB/s eta 0:00:01\r\u001b[K     |█████████████████████████████▊  | 81kB 3.3MB/s eta 0:00:01\r\u001b[K     |████████████████████████████████| 92kB 2.6MB/s \n",
            "\u001b[?25hRequirement already satisfied: google-api-core[grpc]<2.0.0dev,>=1.14.0 in /usr/local/lib/python3.6/dist-packages (from google-cloud-speech) (1.15.0)\n",
            "Requirement already satisfied: google-auth<2.0dev,>=0.4.0 in /usr/local/lib/python3.6/dist-packages (from google-api-core[grpc]<2.0.0dev,>=1.14.0->google-cloud-speech) (1.4.2)\n",
            "Requirement already satisfied: pytz in /usr/local/lib/python3.6/dist-packages (from google-api-core[grpc]<2.0.0dev,>=1.14.0->google-cloud-speech) (2018.9)\n",
            "Requirement already satisfied: googleapis-common-protos<2.0dev,>=1.6.0 in /usr/local/lib/python3.6/dist-packages (from google-api-core[grpc]<2.0.0dev,>=1.14.0->google-cloud-speech) (1.6.0)\n",
            "Requirement already satisfied: protobuf>=3.4.0 in /usr/local/lib/python3.6/dist-packages (from google-api-core[grpc]<2.0.0dev,>=1.14.0->google-cloud-speech) (3.10.0)\n",
            "Requirement already satisfied: six>=1.10.0 in /usr/local/lib/python3.6/dist-packages (from google-api-core[grpc]<2.0.0dev,>=1.14.0->google-cloud-speech) (1.12.0)\n",
            "Requirement already satisfied: requests<3.0.0dev,>=2.18.0 in /usr/local/lib/python3.6/dist-packages (from google-api-core[grpc]<2.0.0dev,>=1.14.0->google-cloud-speech) (2.21.0)\n",
            "Requirement already satisfied: setuptools>=34.0.0 in /usr/local/lib/python3.6/dist-packages (from google-api-core[grpc]<2.0.0dev,>=1.14.0->google-cloud-speech) (42.0.2)\n",
            "Requirement already satisfied: grpcio<2.0dev,>=1.8.2; extra == \"grpc\" in /usr/local/lib/python3.6/dist-packages (from google-api-core[grpc]<2.0.0dev,>=1.14.0->google-cloud-speech) (1.15.0)\n",
            "Requirement already satisfied: pyasn1-modules>=0.2.1 in /usr/local/lib/python3.6/dist-packages (from google-auth<2.0dev,>=0.4.0->google-api-core[grpc]<2.0.0dev,>=1.14.0->google-cloud-speech) (0.2.7)\n",
            "Requirement already satisfied: rsa>=3.1.4 in /usr/local/lib/python3.6/dist-packages (from google-auth<2.0dev,>=0.4.0->google-api-core[grpc]<2.0.0dev,>=1.14.0->google-cloud-speech) (4.0)\n",
            "Requirement already satisfied: cachetools>=2.0.0 in /usr/local/lib/python3.6/dist-packages (from google-auth<2.0dev,>=0.4.0->google-api-core[grpc]<2.0.0dev,>=1.14.0->google-cloud-speech) (4.0.0)\n",
            "Requirement already satisfied: chardet<3.1.0,>=3.0.2 in /usr/local/lib/python3.6/dist-packages (from requests<3.0.0dev,>=2.18.0->google-api-core[grpc]<2.0.0dev,>=1.14.0->google-cloud-speech) (3.0.4)\n",
            "Requirement already satisfied: urllib3<1.25,>=1.21.1 in /usr/local/lib/python3.6/dist-packages (from requests<3.0.0dev,>=2.18.0->google-api-core[grpc]<2.0.0dev,>=1.14.0->google-cloud-speech) (1.24.3)\n",
            "Requirement already satisfied: idna<2.9,>=2.5 in /usr/local/lib/python3.6/dist-packages (from requests<3.0.0dev,>=2.18.0->google-api-core[grpc]<2.0.0dev,>=1.14.0->google-cloud-speech) (2.8)\n",
            "Requirement already satisfied: certifi>=2017.4.17 in /usr/local/lib/python3.6/dist-packages (from requests<3.0.0dev,>=2.18.0->google-api-core[grpc]<2.0.0dev,>=1.14.0->google-cloud-speech) (2019.11.28)\n",
            "Requirement already satisfied: pyasn1<0.5.0,>=0.4.6 in /usr/local/lib/python3.6/dist-packages (from pyasn1-modules>=0.2.1->google-auth<2.0dev,>=0.4.0->google-api-core[grpc]<2.0.0dev,>=1.14.0->google-cloud-speech) (0.4.8)\n",
            "Installing collected packages: google-cloud-speech\n",
            "Successfully installed google-cloud-speech-1.3.1\n"
          ],
          "name": "stdout"
        },
        {
          "output_type": "display_data",
          "data": {
            "application/vnd.colab-display-data+json": {
              "pip_warning": {
                "packages": [
                  "google"
                ]
              }
            }
          },
          "metadata": {
            "tags": []
          }
        }
      ]
    },
    {
      "cell_type": "code",
      "metadata": {
        "id": "CJaoboRiWrjO",
        "colab_type": "code",
        "colab": {
          "base_uri": "https://localhost:8080/",
          "height": 119
        },
        "outputId": "a4a972d0-79ae-4336-dee6-394c6e9f9481"
      },
      "source": [
        "import io\n",
        "import os\n",
        "\n",
        "# Imports the Google Cloud client library\n",
        "from google.cloud import speech\n",
        "from google.cloud.speech import enums\n",
        "from google.cloud.speech import types\n",
        "\n",
        "# Instantiates a client\n",
        "client = speech.SpeechClient()\n",
        "\n",
        "# The name of the audio file to transcribe\n",
        "#file_name = os.path.join(\n",
        "#    os.path.dirname(__file__),\n",
        "#    'resources',\n",
        "#    'audio.raw')\n",
        "\n",
        "file_name='/content/mono.flac'\n",
        "\n",
        "# Loads the audio into memory\n",
        "with io.open(file_name, 'rb') as audio_file:\n",
        "    content = audio_file.read()\n",
        "    audio = types.RecognitionAudio(content=content)\n",
        "\n",
        "config = types.RecognitionConfig(\n",
        "    encoding=enums.RecognitionConfig.AudioEncoding.FLAC,\n",
        "    sample_rate_hertz=44100,\n",
        "    language_code='yue-Hant-HK')\n",
        "\n",
        "# Detects speech in the audio file\n",
        "response = client.recognize(config, audio)\n",
        "\n",
        "for result in response.results:\n",
        "    print('Transcript: {}'.format(result.alternatives[0].transcript))"
      ],
      "execution_count": 14,
      "outputs": [
        {
          "output_type": "stream",
          "text": [
            "Transcript: 工聯會區議員\n",
            "Transcript: 荃灣一墜落下載\n",
            "Transcript: 調動飛車問題\n",
            "Transcript: 關全車嚟催淚煙清潔問題\n",
            "Transcript: 他又提到有去年十二月有二十多人沖尤其辦事處破壞及偷竊\n",
            "Transcript: 關注議員市民及前線警員安全問題\n"
          ],
          "name": "stdout"
        }
      ]
    },
    {
      "cell_type": "code",
      "metadata": {
        "id": "SuLIbuwz0zWE",
        "colab_type": "code",
        "colab": {}
      },
      "source": [
        ""
      ],
      "execution_count": 0,
      "outputs": []
    }
  ]
}