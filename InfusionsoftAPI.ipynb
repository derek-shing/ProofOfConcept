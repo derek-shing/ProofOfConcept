{
  "nbformat": 4,
  "nbformat_minor": 0,
  "metadata": {
    "colab": {
      "name": "InfusionsoftAPI.ipynb",
      "provenance": [],
      "authorship_tag": "ABX9TyM+j5taSDXD6tzPcjJA4Eab",
      "include_colab_link": true
    },
    "kernelspec": {
      "name": "python3",
      "display_name": "Python 3"
    }
  },
  "cells": [
    {
      "cell_type": "markdown",
      "metadata": {
        "id": "view-in-github",
        "colab_type": "text"
      },
      "source": [
        "<a href=\"https://colab.research.google.com/github/derek-shing/ProofOfConcept/blob/master/InfusionsoftAPI.ipynb\" target=\"_parent\"><img src=\"https://colab.research.google.com/assets/colab-badge.svg\" alt=\"Open In Colab\"/></a>"
      ]
    },
    {
      "cell_type": "code",
      "metadata": {
        "colab": {
          "base_uri": "https://localhost:8080/"
        },
        "id": "LSGep253XVFy",
        "outputId": "4990f7db-ffe0-45b3-d47e-1b2e6e1e2dcf"
      },
      "source": [
        "pip install infusionsoft-python"
      ],
      "execution_count": 3,
      "outputs": [
        {
          "output_type": "stream",
          "text": [
            "Collecting infusionsoft-python\n",
            "  Downloading https://files.pythonhosted.org/packages/c3/e2/7643b4c16e6b58b6675fa724eccabafd4c307fec35c1fe8e07473f4fea0c/infusionsoft-python-0.1.3.tar.gz\n",
            "Requirement already satisfied: requests in /usr/local/lib/python3.6/dist-packages (from infusionsoft-python) (2.23.0)\n",
            "Requirement already satisfied: chardet<4,>=3.0.2 in /usr/local/lib/python3.6/dist-packages (from requests->infusionsoft-python) (3.0.4)\n",
            "Requirement already satisfied: certifi>=2017.4.17 in /usr/local/lib/python3.6/dist-packages (from requests->infusionsoft-python) (2020.12.5)\n",
            "Requirement already satisfied: urllib3!=1.25.0,!=1.25.1,<1.26,>=1.21.1 in /usr/local/lib/python3.6/dist-packages (from requests->infusionsoft-python) (1.24.3)\n",
            "Requirement already satisfied: idna<3,>=2.5 in /usr/local/lib/python3.6/dist-packages (from requests->infusionsoft-python) (2.10)\n",
            "Building wheels for collected packages: infusionsoft-python\n",
            "  Building wheel for infusionsoft-python (setup.py) ... \u001b[?25l\u001b[?25hdone\n",
            "  Created wheel for infusionsoft-python: filename=infusionsoft_python-0.1.3-cp36-none-any.whl size=10553 sha256=edf973f3ec4a64efc84f21a4314d0257b0b919a3dd94fe82f111cfb86ae4447b\n",
            "  Stored in directory: /root/.cache/pip/wheels/86/ec/3f/cc79d776cfef4f13bcb9a7150616da39ef9adf23de77375ad5\n",
            "Successfully built infusionsoft-python\n",
            "Installing collected packages: infusionsoft-python\n",
            "Successfully installed infusionsoft-python-0.1.3\n"
          ],
          "name": "stdout"
        }
      ]
    },
    {
      "cell_type": "code",
      "metadata": {
        "id": "YeG17CRzYIIL"
      },
      "source": [
        "appid =\"\"\r\n",
        "secret=\"\"\r\n",
        "apikey=\"\""
      ],
      "execution_count": 5,
      "outputs": []
    },
    {
      "cell_type": "code",
      "metadata": {
        "id": "gmssGCYXYEb2"
      },
      "source": [
        "from infusionsoft.client import Client\r\n",
        "client = Client(appid, secret)"
      ],
      "execution_count": 5,
      "outputs": []
    },
    {
      "cell_type": "code",
      "metadata": {
        "colab": {
          "base_uri": "https://localhost:8080/"
        },
        "id": "Raq9YP8-Yx6A",
        "outputId": "91b49c31-1b8f-4f2a-9052-fde208f2e16e"
      },
      "source": [
        "client"
      ],
      "execution_count": 6,
      "outputs": [
        {
          "output_type": "execute_result",
          "data": {
            "text/plain": [
              "<infusionsoft.client.Client at 0x7f21d10d80b8>"
            ]
          },
          "metadata": {
            "tags": []
          },
          "execution_count": 6
        }
      ]
    },
    {
      "cell_type": "code",
      "metadata": {
        "colab": {
          "base_uri": "https://localhost:8080/"
        },
        "id": "qgC_XxC-nENC",
        "outputId": "53a493d3-9d7e-4114-c523-a5f4f0ec333e"
      },
      "source": [
        "pip install xmlrpc"
      ],
      "execution_count": 9,
      "outputs": [
        {
          "output_type": "stream",
          "text": [
            "\u001b[31mERROR: Could not find a version that satisfies the requirement xmlrpc (from versions: none)\u001b[0m\n",
            "\u001b[31mERROR: No matching distribution found for xmlrpc\u001b[0m\n"
          ],
          "name": "stdout"
        }
      ]
    },
    {
      "cell_type": "code",
      "metadata": {
        "id": "4ETnbK97nBVr"
      },
      "source": [
        "import xmlrpc"
      ],
      "execution_count": 10,
      "outputs": []
    },
    {
      "cell_type": "code",
      "metadata": {
        "id": "pIS-CHQOnd8-"
      },
      "source": [
        "server = xmlrpc.ServerProxy(\"https://FBAPI.infusionsoft.com:443/api/xmlrpc\")"
      ],
      "execution_count": null,
      "outputs": []
    },
    {
      "cell_type": "code",
      "metadata": {
        "id": "_SRYmEsvpFJw"
      },
      "source": [
        "from infusionsoft.library import Infusionsoft"
      ],
      "execution_count": null,
      "outputs": []
    },
    {
      "cell_type": "code",
      "metadata": {
        "colab": {
          "base_uri": "https://localhost:8080/"
        },
        "id": "XCg2wi0Zpxh4",
        "outputId": "780da503-eb10-4adf-f09a-062cdaa4f6b2"
      },
      "source": [
        "import xmlrpc.client\r\n",
        "server = xmlrpc.client.ServerProxy(\"https://FBAPI.infusionsoft.com:443/api/xmlrpc\");\r\n",
        "\r\n",
        "key = \"\";\r\n",
        "\r\n",
        "print (\"Welcome! You are now connected to: \", server);"
      ],
      "execution_count": 14,
      "outputs": [
        {
          "output_type": "stream",
          "text": [
            "Welcome! You are now connected to:  <ServerProxy for FBAPI.infusionsoft.com:443/api/xmlrpc>\n"
          ],
          "name": "stdout"
        }
      ]
    },
    {
      "cell_type": "code",
      "metadata": {
        "id": "r4JnTRAVqLcQ"
      },
      "source": [
        "table = 'Contact'\r\n",
        "returnFields = ['Id', 'FirstName', 'Phone1', 'Phone2']\r\n",
        "query = {'FirstName', 'Phone1', 'Phone2'}\r\n",
        "limit = 10\r\n",
        "page = 0\r\n",
        "results = server.system('query', table, limit, page, query, returnFields)\r\n",
        "\r\n",
        "for result in results: \r\n",
        "   print ('Found: '), result['FirstName','Phone1', 'Phone2'];"
      ],
      "execution_count": null,
      "outputs": []
    },
    {
      "cell_type": "code",
      "metadata": {
        "id": "o0B4sndQwoqc"
      },
      "source": [
        "access_token=\"GAlUCjQMSS4AbKAUtsiNZajKGINO\"\r\n",
        "reflesh_token=\"RyMgTvkEAywu00Pd9WFEeRGZWBQePKUB\""
      ],
      "execution_count": 6,
      "outputs": []
    },
    {
      "cell_type": "code",
      "metadata": {
        "id": "4u-XTUvtw7N3"
      },
      "source": [
        "from infusionsoft.client import Client\r\n",
        "client = Client(appid, secret,access_token)"
      ],
      "execution_count": 7,
      "outputs": []
    },
    {
      "cell_type": "code",
      "metadata": {
        "id": "huC4tgdAxPvb"
      },
      "source": [
        "client.set_token(access_token)\r\n",
        "\r\n",
        "list_contacts = client.get_contacts() "
      ],
      "execution_count": 8,
      "outputs": []
    },
    {
      "cell_type": "code",
      "metadata": {
        "id": "yJGsw-NOxTSb"
      },
      "source": [
        "list_contacts"
      ],
      "execution_count": null,
      "outputs": []
    },
    {
      "cell_type": "code",
      "metadata": {
        "id": "h0WS66ncx4Ni"
      },
      "source": [
        "list_order = client.get_orders()"
      ],
      "execution_count": 20,
      "outputs": []
    },
    {
      "cell_type": "code",
      "metadata": {
        "id": "6knY4cdEyBlE"
      },
      "source": [
        "list_order"
      ],
      "execution_count": null,
      "outputs": []
    },
    {
      "cell_type": "code",
      "metadata": {
        "id": "uwJ50VK0yQoO"
      },
      "source": [
        "hook_event=client.get_hook_events()"
      ],
      "execution_count": 11,
      "outputs": []
    },
    {
      "cell_type": "code",
      "metadata": {
        "id": "OO3EuxqGgOlI"
      },
      "source": [
        "gcf = \"https://us-central1-melissapharr-infusionsoft.cloudfunctions.net/FBAPI\""
      ],
      "execution_count": 13,
      "outputs": []
    },
    {
      "cell_type": "code",
      "metadata": {
        "colab": {
          "base_uri": "https://localhost:8080/"
        },
        "id": "bX57eij4f_Q-",
        "outputId": "f36dc335-837a-45ad-8b3e-f7bca68323d1"
      },
      "source": [
        "client.create_hook_subscription(\"order.add\",gcf)"
      ],
      "execution_count": 15,
      "outputs": [
        {
          "output_type": "execute_result",
          "data": {
            "text/plain": [
              "{'eventKey': 'order.add',\n",
              " 'hookUrl': 'https://us-central1-melissapharr-infusionsoft.cloudfunctions.net/FBAPI',\n",
              " 'key': '59',\n",
              " 'status': 'Unverified'}"
            ]
          },
          "metadata": {
            "tags": []
          },
          "execution_count": 15
        }
      ]
    },
    {
      "cell_type": "code",
      "metadata": {
        "colab": {
          "base_uri": "https://localhost:8080/"
        },
        "id": "foWRw98wgxoU",
        "outputId": "1a7675fe-5d28-424f-a0d3-47d7b7d6d53f"
      },
      "source": [
        "client.get_hook_subscriptions()"
      ],
      "execution_count": 16,
      "outputs": [
        {
          "output_type": "execute_result",
          "data": {
            "text/plain": [
              "[{'eventKey': 'contactGroup.applied',\n",
              "  'hookUrl': 'https://hooks.zapier.com/hooks/standard/1964017/210c852640ea421f8dfc59af0481fb64/',\n",
              "  'key': '44',\n",
              "  'status': 'Verified'},\n",
              " {'eventKey': 'contactGroup.applied',\n",
              "  'hookUrl': 'https://hooks.zapier.com/hooks/standard/1964017/f1bd596003eb4b66b21e18f6ddf7434c/',\n",
              "  'key': '52',\n",
              "  'status': 'Verified'},\n",
              " {'eventKey': 'contactGroup.applied',\n",
              "  'hookUrl': 'https://hooks.zapier.com/hooks/standard/1964017/74c1917b9d484ca58f129e0940dc55b8/',\n",
              "  'key': '24',\n",
              "  'status': 'Verified'},\n",
              " {'eventKey': 'contactGroup.applied',\n",
              "  'hookUrl': 'https://hooks.zapier.com/hooks/standard/1964017/6f6b5df419544a9ca2f6f70c29e3c6ea/',\n",
              "  'key': '54',\n",
              "  'status': 'Verified'},\n",
              " {'eventKey': 'contactGroup.applied',\n",
              "  'hookUrl': 'https://hooks.zapier.com/hooks/standard/1964017/75f87fe57f31486bbe5e43264cc1ac4f/',\n",
              "  'key': '20',\n",
              "  'status': 'Verified'},\n",
              " {'eventKey': 'order.add',\n",
              "  'hookUrl': 'https://us-central1-melissapharr-infusionsoft.cloudfunctions.net/FBAPI',\n",
              "  'key': '59',\n",
              "  'status': 'Unverified'},\n",
              " {'eventKey': 'contactGroup.applied',\n",
              "  'hookUrl': 'https://hooks.zapier.com/hooks/standard/1964017/9d949dcb1019466ba1c411ef6f36c324/',\n",
              "  'key': '58',\n",
              "  'status': 'Verified'}]"
            ]
          },
          "metadata": {
            "tags": []
          },
          "execution_count": 16
        }
      ]
    },
    {
      "cell_type": "code",
      "metadata": {
        "colab": {
          "base_uri": "https://localhost:8080/"
        },
        "id": "_VFyOWo0hADf",
        "outputId": "f1466574-086e-4b2e-cfd0-1081e81e1407"
      },
      "source": [
        "client.verify_hook_subscription(59)"
      ],
      "execution_count": 18,
      "outputs": [
        {
          "output_type": "execute_result",
          "data": {
            "text/plain": [
              "{'eventKey': 'order.add',\n",
              " 'hookUrl': 'https://us-central1-melissapharr-infusionsoft.cloudfunctions.net/FBAPI',\n",
              " 'key': '59',\n",
              " 'status': 'Verified'}"
            ]
          },
          "metadata": {
            "tags": []
          },
          "execution_count": 18
        }
      ]
    },
    {
      "cell_type": "code",
      "metadata": {
        "colab": {
          "base_uri": "https://localhost:8080/"
        },
        "id": "zAwZzhJ5ygLY",
        "outputId": "b4f18d83-bcb6-4319-eff2-784dfb72575b"
      },
      "source": [
        "hook_event"
      ],
      "execution_count": 12,
      "outputs": [
        {
          "output_type": "execute_result",
          "data": {
            "text/plain": [
              "['appointment.add',\n",
              " 'appointment.delete',\n",
              " 'appointment.edit',\n",
              " 'company.add',\n",
              " 'company.delete',\n",
              " 'company.edit',\n",
              " 'contact.add',\n",
              " 'contact.delete',\n",
              " 'contact.edit',\n",
              " 'contact.redact',\n",
              " 'contactGroup.add',\n",
              " 'contactGroup.applied',\n",
              " 'contactGroup.delete',\n",
              " 'contactGroup.edit',\n",
              " 'contactGroup.removed',\n",
              " 'invoice.add',\n",
              " 'invoice.delete',\n",
              " 'invoice.edit',\n",
              " 'invoice.payment.add',\n",
              " 'invoice.payment.delete',\n",
              " 'invoice.payment.edit',\n",
              " 'leadsource.add',\n",
              " 'leadsource.delete',\n",
              " 'leadsource.edit',\n",
              " 'note.add',\n",
              " 'note.delete',\n",
              " 'note.edit',\n",
              " 'opportunity.add',\n",
              " 'opportunity.delete',\n",
              " 'opportunity.edit',\n",
              " 'opportunity.stage_move',\n",
              " 'order.add',\n",
              " 'order.delete',\n",
              " 'order.edit',\n",
              " 'product.add',\n",
              " 'product.delete',\n",
              " 'product.edit',\n",
              " 'subscription.add',\n",
              " 'subscription.delete',\n",
              " 'subscription.edit',\n",
              " 'task.add',\n",
              " 'task.delete',\n",
              " 'task.edit',\n",
              " 'user.activate',\n",
              " 'user.add',\n",
              " 'user.edit']"
            ]
          },
          "metadata": {
            "tags": []
          },
          "execution_count": 12
        }
      ]
    },
    {
      "cell_type": "code",
      "metadata": {
        "id": "SBPa6S72yoJL"
      },
      "source": [
        ""
      ],
      "execution_count": null,
      "outputs": []
    }
  ]
}