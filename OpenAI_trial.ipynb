{
  "nbformat": 4,
  "nbformat_minor": 0,
  "metadata": {
    "colab": {
      "name": "OpenAI_trial.ipynb",
      "provenance": [],
      "collapsed_sections": [],
      "authorship_tag": "ABX9TyOsteJm0AEkkpPISPLBJART",
      "include_colab_link": true
    },
    "kernelspec": {
      "name": "python3",
      "display_name": "Python 3"
    }
  },
  "cells": [
    {
      "cell_type": "markdown",
      "metadata": {
        "id": "view-in-github",
        "colab_type": "text"
      },
      "source": [
        "<a href=\"https://colab.research.google.com/github/derek-shing/ProofOfConcept/blob/master/OpenAI_trial.ipynb\" target=\"_parent\"><img src=\"https://colab.research.google.com/assets/colab-badge.svg\" alt=\"Open In Colab\"/></a>"
      ]
    },
    {
      "cell_type": "code",
      "metadata": {
        "id": "9V-rrJpa6sP3",
        "colab_type": "code",
        "colab": {}
      },
      "source": [
        "import requests\n",
        "import pandas as pd"
      ],
      "execution_count": null,
      "outputs": []
    },
    {
      "cell_type": "code",
      "metadata": {
        "id": "GkxOQfsr6qn3",
        "colab_type": "code",
        "colab": {}
      },
      "source": [
        "\n",
        "\n",
        "class Market():\n",
        "\n",
        "    def get_data(self):\n",
        "\n",
        "        #data provider URL: https://api.tiingo.com/\n",
        "\n",
        "        token=\"bd6c49fc0c3f94a9c91d1f209cf901d9373169b1\"\n",
        "        headers = {\n",
        "        'Content-Type': 'application/json',\n",
        "        'Authorization' : 'Token '+token\n",
        "        }\n",
        "        url=\"https://api.tiingo.com/tiingo/daily/AAPL/prices?startDate=2012-1-1&endDate=2018-1-1 \"\n",
        "\n",
        "        requestResponse = requests.get(url,headers=headers)\n",
        "        self.df_AAPL = pd.DataFrame(requestResponse.json())\n",
        "\n",
        "        url=\"https://api.tiingo.com/tiingo/daily/MSI/prices?startDate=2012-1-1&endDate=2018-1-1 \"\n",
        "\n",
        "        requestResponse = requests.get(url,headers=headers)\n",
        "        self.df_MSI = pd.DataFrame(requestResponse.json())\n",
        "\n",
        "        url=\"https://api.tiingo.com/tiingo/daily/SBUX/prices?startDate=2012-1-1&endDate=2018-1-1 \"\n",
        "\n",
        "        requestResponse = requests.get(url,headers=headers)\n",
        "        self.df_SBUX = pd.DataFrame(requestResponse.json())\n",
        "        print(self.df_AAPL.head())\n",
        "        print(self.df_MSI.head())\n",
        "        print(self.df_SBUX.head())\n",
        "\n",
        "\n",
        "\n",
        "\n"
      ],
      "execution_count": null,
      "outputs": []
    },
    {
      "cell_type": "code",
      "metadata": {
        "id": "AEnFWDN76wir",
        "colab_type": "code",
        "colab": {
          "base_uri": "https://localhost:8080/",
          "height": 420
        },
        "outputId": "2fccb338-a004-4349-abe0-5b8e71aea97f"
      },
      "source": [
        "m = Market()\n",
        "m.get_data()"
      ],
      "execution_count": null,
      "outputs": [
        {
          "output_type": "stream",
          "text": [
            "                       date   close    high  ...  adjVolume  divCash  splitFactor\n",
            "0  2012-01-03T00:00:00.000Z  411.23  412.50  ...   75555275      0.0          1.0\n",
            "1  2012-01-04T00:00:00.000Z  413.44  414.68  ...   65005565      0.0          1.0\n",
            "2  2012-01-05T00:00:00.000Z  418.03  418.55  ...   67817467      0.0          1.0\n",
            "3  2012-01-06T00:00:00.000Z  422.40  422.75  ...   79573279      0.0          1.0\n",
            "4  2012-01-09T00:00:00.000Z  421.73  427.75  ...   98506198      0.0          1.0\n",
            "\n",
            "[5 rows x 13 columns]\n",
            "                       date  close    high  ...  adjVolume  divCash  splitFactor\n",
            "0  2012-01-03T00:00:00.000Z  46.62  47.410  ...    1697400      0.0          1.0\n",
            "1  2012-01-04T00:00:00.000Z  46.36  46.540  ...    1797600      0.0          1.0\n",
            "2  2012-01-05T00:00:00.000Z  46.67  46.780  ...    1598200      0.0          1.0\n",
            "3  2012-01-06T00:00:00.000Z  46.55  46.921  ...    1188100      0.0          1.0\n",
            "4  2012-01-09T00:00:00.000Z  46.18  46.550  ...    1960300      0.0          1.0\n",
            "\n",
            "[5 rows x 13 columns]\n",
            "                       date   close   high  ...  adjVolume  divCash  splitFactor\n",
            "0  2012-01-03T00:00:00.000Z  45.285  47.04  ...   12922400      0.0          1.0\n",
            "1  2012-01-04T00:00:00.000Z  46.170  46.63  ...   13886800      0.0          1.0\n",
            "2  2012-01-05T00:00:00.000Z  46.360  46.40  ...    9731800      0.0          1.0\n",
            "3  2012-01-06T00:00:00.000Z  46.720  46.91  ...    8105400      0.0          1.0\n",
            "4  2012-01-09T00:00:00.000Z  46.590  46.80  ...    7261600      0.0          1.0\n",
            "\n",
            "[5 rows x 13 columns]\n"
          ],
          "name": "stdout"
        }
      ]
    },
    {
      "cell_type": "code",
      "metadata": {
        "id": "K-dTv5sJ7lFV",
        "colab_type": "code",
        "colab": {
          "base_uri": "https://localhost:8080/",
          "height": 34
        },
        "outputId": "22a4fba4-c24f-4e1a-ad29-37e8e4d45e7a"
      },
      "source": [
        "m.df_AAPL.shape"
      ],
      "execution_count": null,
      "outputs": [
        {
          "output_type": "execute_result",
          "data": {
            "text/plain": [
              "(1509, 13)"
            ]
          },
          "metadata": {
            "tags": []
          },
          "execution_count": 9
        }
      ]
    },
    {
      "cell_type": "code",
      "metadata": {
        "id": "R6PlDSAM7pIz",
        "colab_type": "code",
        "colab": {
          "base_uri": "https://localhost:8080/",
          "height": 34
        },
        "outputId": "37a1bba3-5b9d-4338-ba75-7c980f24dab8"
      },
      "source": [
        "m.df_MSI.shape"
      ],
      "execution_count": null,
      "outputs": [
        {
          "output_type": "execute_result",
          "data": {
            "text/plain": [
              "(1509, 13)"
            ]
          },
          "metadata": {
            "tags": []
          },
          "execution_count": 11
        }
      ]
    },
    {
      "cell_type": "code",
      "metadata": {
        "id": "rqo9ha9M70Ih",
        "colab_type": "code",
        "colab": {
          "base_uri": "https://localhost:8080/",
          "height": 34
        },
        "outputId": "5fb642d2-7ee6-4b7a-f6cc-230743b29e09"
      },
      "source": [
        "m.df_SBUX.shape"
      ],
      "execution_count": null,
      "outputs": [
        {
          "output_type": "execute_result",
          "data": {
            "text/plain": [
              "(1509, 13)"
            ]
          },
          "metadata": {
            "tags": []
          },
          "execution_count": 12
        }
      ]
    },
    {
      "cell_type": "code",
      "metadata": {
        "id": "8Fcgb_P_728d",
        "colab_type": "code",
        "colab": {
          "base_uri": "https://localhost:8080/",
          "height": 67
        },
        "outputId": "85703a61-5066-434c-dfe9-309e637a1311"
      },
      "source": [
        "m.df_AAPL.columns"
      ],
      "execution_count": null,
      "outputs": [
        {
          "output_type": "execute_result",
          "data": {
            "text/plain": [
              "Index(['date', 'close', 'high', 'low', 'open', 'volume', 'adjClose', 'adjHigh',\n",
              "       'adjLow', 'adjOpen', 'adjVolume', 'divCash', 'splitFactor'],\n",
              "      dtype='object')"
            ]
          },
          "metadata": {
            "tags": []
          },
          "execution_count": 13
        }
      ]
    },
    {
      "cell_type": "code",
      "metadata": {
        "id": "MFQTFIVjPxPh",
        "colab_type": "code",
        "colab": {
          "base_uri": "https://localhost:8080/",
          "height": 402
        },
        "outputId": "193dd4f3-9ea2-4de3-99b9-8bea4f67379b"
      },
      "source": [
        "m.df_AAPL[['date','close']]"
      ],
      "execution_count": null,
      "outputs": [
        {
          "output_type": "execute_result",
          "data": {
            "text/html": [
              "<div>\n",
              "<style scoped>\n",
              "    .dataframe tbody tr th:only-of-type {\n",
              "        vertical-align: middle;\n",
              "    }\n",
              "\n",
              "    .dataframe tbody tr th {\n",
              "        vertical-align: top;\n",
              "    }\n",
              "\n",
              "    .dataframe thead th {\n",
              "        text-align: right;\n",
              "    }\n",
              "</style>\n",
              "<table border=\"1\" class=\"dataframe\">\n",
              "  <thead>\n",
              "    <tr style=\"text-align: right;\">\n",
              "      <th></th>\n",
              "      <th>date</th>\n",
              "      <th>close</th>\n",
              "    </tr>\n",
              "  </thead>\n",
              "  <tbody>\n",
              "    <tr>\n",
              "      <th>0</th>\n",
              "      <td>2012-01-03T00:00:00.000Z</td>\n",
              "      <td>411.23</td>\n",
              "    </tr>\n",
              "    <tr>\n",
              "      <th>1</th>\n",
              "      <td>2012-01-04T00:00:00.000Z</td>\n",
              "      <td>413.44</td>\n",
              "    </tr>\n",
              "    <tr>\n",
              "      <th>2</th>\n",
              "      <td>2012-01-05T00:00:00.000Z</td>\n",
              "      <td>418.03</td>\n",
              "    </tr>\n",
              "    <tr>\n",
              "      <th>3</th>\n",
              "      <td>2012-01-06T00:00:00.000Z</td>\n",
              "      <td>422.40</td>\n",
              "    </tr>\n",
              "    <tr>\n",
              "      <th>4</th>\n",
              "      <td>2012-01-09T00:00:00.000Z</td>\n",
              "      <td>421.73</td>\n",
              "    </tr>\n",
              "    <tr>\n",
              "      <th>...</th>\n",
              "      <td>...</td>\n",
              "      <td>...</td>\n",
              "    </tr>\n",
              "    <tr>\n",
              "      <th>1504</th>\n",
              "      <td>2017-12-22T00:00:00.000Z</td>\n",
              "      <td>175.01</td>\n",
              "    </tr>\n",
              "    <tr>\n",
              "      <th>1505</th>\n",
              "      <td>2017-12-26T00:00:00.000Z</td>\n",
              "      <td>170.57</td>\n",
              "    </tr>\n",
              "    <tr>\n",
              "      <th>1506</th>\n",
              "      <td>2017-12-27T00:00:00.000Z</td>\n",
              "      <td>170.60</td>\n",
              "    </tr>\n",
              "    <tr>\n",
              "      <th>1507</th>\n",
              "      <td>2017-12-28T00:00:00.000Z</td>\n",
              "      <td>171.08</td>\n",
              "    </tr>\n",
              "    <tr>\n",
              "      <th>1508</th>\n",
              "      <td>2017-12-29T00:00:00.000Z</td>\n",
              "      <td>169.23</td>\n",
              "    </tr>\n",
              "  </tbody>\n",
              "</table>\n",
              "<p>1509 rows × 2 columns</p>\n",
              "</div>"
            ],
            "text/plain": [
              "                          date   close\n",
              "0     2012-01-03T00:00:00.000Z  411.23\n",
              "1     2012-01-04T00:00:00.000Z  413.44\n",
              "2     2012-01-05T00:00:00.000Z  418.03\n",
              "3     2012-01-06T00:00:00.000Z  422.40\n",
              "4     2012-01-09T00:00:00.000Z  421.73\n",
              "...                        ...     ...\n",
              "1504  2017-12-22T00:00:00.000Z  175.01\n",
              "1505  2017-12-26T00:00:00.000Z  170.57\n",
              "1506  2017-12-27T00:00:00.000Z  170.60\n",
              "1507  2017-12-28T00:00:00.000Z  171.08\n",
              "1508  2017-12-29T00:00:00.000Z  169.23\n",
              "\n",
              "[1509 rows x 2 columns]"
            ]
          },
          "metadata": {
            "tags": []
          },
          "execution_count": 18
        }
      ]
    },
    {
      "cell_type": "code",
      "metadata": {
        "id": "_qyGydD9QvRU",
        "colab_type": "code",
        "colab": {
          "base_uri": "https://localhost:8080/",
          "height": 34
        },
        "outputId": "28aed58f-86f7-464a-f1aa-8310639df529"
      },
      "source": [
        "pd.unique(m.df_AAPL['splitFactor'])"
      ],
      "execution_count": null,
      "outputs": [
        {
          "output_type": "execute_result",
          "data": {
            "text/plain": [
              "array([1.      , 7.000007])"
            ]
          },
          "metadata": {
            "tags": []
          },
          "execution_count": 26
        }
      ]
    },
    {
      "cell_type": "code",
      "metadata": {
        "id": "kLSUz6A1PDNe",
        "colab_type": "code",
        "colab": {}
      },
      "source": [
        "new  =  pd.merge(m.df_AAPL[['date','close']],m.df_MSI[['date','close']], on='date')"
      ],
      "execution_count": null,
      "outputs": []
    },
    {
      "cell_type": "code",
      "metadata": {
        "id": "kLZKWk1yQJsK",
        "colab_type": "code",
        "colab": {}
      },
      "source": [
        "new2 = pd.merge(new,m.df_SBUX[['date','close']], on='date')"
      ],
      "execution_count": null,
      "outputs": []
    },
    {
      "cell_type": "code",
      "metadata": {
        "id": "VDsdKUV9R2as",
        "colab_type": "code",
        "colab": {
          "base_uri": "https://localhost:8080/",
          "height": 402
        },
        "outputId": "6a52fc6f-6ddd-4a17-ab4b-232dc47f9177"
      },
      "source": [
        "new2"
      ],
      "execution_count": null,
      "outputs": [
        {
          "output_type": "execute_result",
          "data": {
            "text/html": [
              "<div>\n",
              "<style scoped>\n",
              "    .dataframe tbody tr th:only-of-type {\n",
              "        vertical-align: middle;\n",
              "    }\n",
              "\n",
              "    .dataframe tbody tr th {\n",
              "        vertical-align: top;\n",
              "    }\n",
              "\n",
              "    .dataframe thead th {\n",
              "        text-align: right;\n",
              "    }\n",
              "</style>\n",
              "<table border=\"1\" class=\"dataframe\">\n",
              "  <thead>\n",
              "    <tr style=\"text-align: right;\">\n",
              "      <th></th>\n",
              "      <th>date</th>\n",
              "      <th>close_x</th>\n",
              "      <th>close_y</th>\n",
              "      <th>close</th>\n",
              "    </tr>\n",
              "  </thead>\n",
              "  <tbody>\n",
              "    <tr>\n",
              "      <th>0</th>\n",
              "      <td>2012-01-03T00:00:00.000Z</td>\n",
              "      <td>411.23</td>\n",
              "      <td>46.62</td>\n",
              "      <td>45.285</td>\n",
              "    </tr>\n",
              "    <tr>\n",
              "      <th>1</th>\n",
              "      <td>2012-01-04T00:00:00.000Z</td>\n",
              "      <td>413.44</td>\n",
              "      <td>46.36</td>\n",
              "      <td>46.170</td>\n",
              "    </tr>\n",
              "    <tr>\n",
              "      <th>2</th>\n",
              "      <td>2012-01-05T00:00:00.000Z</td>\n",
              "      <td>418.03</td>\n",
              "      <td>46.67</td>\n",
              "      <td>46.360</td>\n",
              "    </tr>\n",
              "    <tr>\n",
              "      <th>3</th>\n",
              "      <td>2012-01-06T00:00:00.000Z</td>\n",
              "      <td>422.40</td>\n",
              "      <td>46.55</td>\n",
              "      <td>46.720</td>\n",
              "    </tr>\n",
              "    <tr>\n",
              "      <th>4</th>\n",
              "      <td>2012-01-09T00:00:00.000Z</td>\n",
              "      <td>421.73</td>\n",
              "      <td>46.18</td>\n",
              "      <td>46.590</td>\n",
              "    </tr>\n",
              "    <tr>\n",
              "      <th>...</th>\n",
              "      <td>...</td>\n",
              "      <td>...</td>\n",
              "      <td>...</td>\n",
              "      <td>...</td>\n",
              "    </tr>\n",
              "    <tr>\n",
              "      <th>1504</th>\n",
              "      <td>2017-12-22T00:00:00.000Z</td>\n",
              "      <td>175.01</td>\n",
              "      <td>90.76</td>\n",
              "      <td>57.300</td>\n",
              "    </tr>\n",
              "    <tr>\n",
              "      <th>1505</th>\n",
              "      <td>2017-12-26T00:00:00.000Z</td>\n",
              "      <td>170.57</td>\n",
              "      <td>90.67</td>\n",
              "      <td>57.140</td>\n",
              "    </tr>\n",
              "    <tr>\n",
              "      <th>1506</th>\n",
              "      <td>2017-12-27T00:00:00.000Z</td>\n",
              "      <td>170.60</td>\n",
              "      <td>90.80</td>\n",
              "      <td>57.270</td>\n",
              "    </tr>\n",
              "    <tr>\n",
              "      <th>1507</th>\n",
              "      <td>2017-12-28T00:00:00.000Z</td>\n",
              "      <td>171.08</td>\n",
              "      <td>90.57</td>\n",
              "      <td>57.810</td>\n",
              "    </tr>\n",
              "    <tr>\n",
              "      <th>1508</th>\n",
              "      <td>2017-12-29T00:00:00.000Z</td>\n",
              "      <td>169.23</td>\n",
              "      <td>90.34</td>\n",
              "      <td>57.430</td>\n",
              "    </tr>\n",
              "  </tbody>\n",
              "</table>\n",
              "<p>1509 rows × 4 columns</p>\n",
              "</div>"
            ],
            "text/plain": [
              "                          date  close_x  close_y   close\n",
              "0     2012-01-03T00:00:00.000Z   411.23    46.62  45.285\n",
              "1     2012-01-04T00:00:00.000Z   413.44    46.36  46.170\n",
              "2     2012-01-05T00:00:00.000Z   418.03    46.67  46.360\n",
              "3     2012-01-06T00:00:00.000Z   422.40    46.55  46.720\n",
              "4     2012-01-09T00:00:00.000Z   421.73    46.18  46.590\n",
              "...                        ...      ...      ...     ...\n",
              "1504  2017-12-22T00:00:00.000Z   175.01    90.76  57.300\n",
              "1505  2017-12-26T00:00:00.000Z   170.57    90.67  57.140\n",
              "1506  2017-12-27T00:00:00.000Z   170.60    90.80  57.270\n",
              "1507  2017-12-28T00:00:00.000Z   171.08    90.57  57.810\n",
              "1508  2017-12-29T00:00:00.000Z   169.23    90.34  57.430\n",
              "\n",
              "[1509 rows x 4 columns]"
            ]
          },
          "metadata": {
            "tags": []
          },
          "execution_count": 28
        }
      ]
    },
    {
      "cell_type": "code",
      "metadata": {
        "id": "UzcL6-8FR58y",
        "colab_type": "code",
        "colab": {
          "base_uri": "https://localhost:8080/",
          "height": 282
        },
        "outputId": "2c1492db-a518-489a-e027-ebeab45604af"
      },
      "source": [
        "new2['close_x'].plot()"
      ],
      "execution_count": null,
      "outputs": [
        {
          "output_type": "execute_result",
          "data": {
            "text/plain": [
              "<matplotlib.axes._subplots.AxesSubplot at 0x7f131ff71ac8>"
            ]
          },
          "metadata": {
            "tags": []
          },
          "execution_count": 29
        },
        {
          "output_type": "display_data",
          "data": {
            "image/png": "[encoded data removed]",
            "text/plain": [
              "<Figure size 432x288 with 1 Axes>"
            ]
          },
          "metadata": {
            "tags": [],
            "needs_background": "light"
          }
        }
      ]
    },
    {
      "cell_type": "code",
      "metadata": {
        "id": "kISDksWQSRdI",
        "colab_type": "code",
        "colab": {}
      },
      "source": [
        "new2.to_csv('stock_price.csv',index=False)"
      ],
      "execution_count": null,
      "outputs": []
    },
    {
      "cell_type": "code",
      "metadata": {
        "id": "EBKjolJ3Bp33",
        "colab_type": "code",
        "colab": {
          "base_uri": "https://localhost:8080/",
          "height": 118
        },
        "outputId": "c4f98032-8932-4aea-c948-208cdcf6e938"
      },
      "source": [
        "pip install gym"
      ],
      "execution_count": null,
      "outputs": [
        {
          "output_type": "stream",
          "text": [
            "Requirement already satisfied: gym in /usr/local/lib/python3.6/dist-packages (0.17.2)\n",
            "Requirement already satisfied: scipy in /usr/local/lib/python3.6/dist-packages (from gym) (1.4.1)\n",
            "Requirement already satisfied: numpy>=1.10.4 in /usr/local/lib/python3.6/dist-packages (from gym) (1.18.5)\n",
            "Requirement already satisfied: cloudpickle<1.4.0,>=1.2.0 in /usr/local/lib/python3.6/dist-packages (from gym) (1.3.0)\n",
            "Requirement already satisfied: pyglet<=1.5.0,>=1.4.0 in /usr/local/lib/python3.6/dist-packages (from gym) (1.5.0)\n",
            "Requirement already satisfied: future in /usr/local/lib/python3.6/dist-packages (from pyglet<=1.5.0,>=1.4.0->gym) (0.16.0)\n"
          ],
          "name": "stdout"
        }
      ]
    },
    {
      "cell_type": "code",
      "metadata": {
        "id": "NqtDSL4iB3iB",
        "colab_type": "code",
        "colab": {
          "base_uri": "https://localhost:8080/",
          "height": 34
        },
        "outputId": "1bcdd3fc-3345-44b2-91dc-5a820eefc9d2"
      },
      "source": [
        "import gym\n",
        "import numpy as np\n",
        "env = gym.make('CartPole-v0')\n",
        "env.reset()"
      ],
      "execution_count": null,
      "outputs": [
        {
          "output_type": "execute_result",
          "data": {
            "text/plain": [
              "array([-0.00817191,  0.04741032,  0.04386243,  0.00638731])"
            ]
          },
          "metadata": {
            "tags": []
          },
          "execution_count": 2
        }
      ]
    },
    {
      "cell_type": "code",
      "metadata": {
        "id": "KEI7ylAqCDQj",
        "colab_type": "code",
        "colab": {}
      },
      "source": [
        "# turns list of integers into an int\n",
        "# Ex.\n",
        "# build_state([1,2,3,4,5]) -> 12345\n",
        "def build_state(features):\n",
        "  return int(\"\".join(map(lambda feature: str(int(feature)), features)))\n",
        "\n",
        "def to_bin(value, bins):\n",
        "  return np.digitize(x=[value], bins=bins)[0]\n",
        "\n",
        "\n",
        "class FeatureTransformer:\n",
        "  def __init__(self):\n",
        "    # Note: to make this better you could look at how often each bin was\n",
        "    # actually used while running the script.\n",
        "    # It's not clear from the high/low values nor sample() what values\n",
        "    # we really expect to get.\n",
        "    self.cart_position_bins = np.linspace(-2.4, 2.4, 9)\n",
        "    self.cart_velocity_bins = np.linspace(-2, 2, 9) # (-inf, inf) (I did not check that these were good values)\n",
        "    self.pole_angle_bins = np.linspace(-0.4, 0.4, 9)\n",
        "    self.pole_velocity_bins = np.linspace(-3.5, 3.5, 9) # (-inf, inf) (I did not check that these were good values)\n",
        "\n",
        "  def transform(self, observation):\n",
        "    # returns an int\n",
        "    cart_pos, cart_vel, pole_angle, pole_vel = observation\n",
        "    return build_state([\n",
        "      to_bin(cart_pos, self.cart_position_bins),\n",
        "      to_bin(cart_vel, self.cart_velocity_bins),\n",
        "      to_bin(pole_angle, self.pole_angle_bins),\n",
        "      to_bin(pole_vel, self.pole_velocity_bins),\n",
        "    ])\n",
        "\n",
        "\n",
        "class Model:\n",
        "  def __init__(self, env, feature_transformer):\n",
        "    self.env = env\n",
        "    self.feature_transformer = feature_transformer\n",
        "\n",
        "    num_states = 10**env.observation_space.shape[0]\n",
        "    num_actions = env.action_space.n\n",
        "    self.Q = np.random.uniform(low=-1, high=1, size=(num_states, num_actions))\n",
        "\n",
        "  def predict(self, s):\n",
        "    x = self.feature_transformer.transform(s)\n",
        "    return self.Q[x]\n",
        "\n",
        "  def update(self, s, a, G):\n",
        "    x = self.feature_transformer.transform(s)\n",
        "    self.Q[x,a] += 1e-2*(G - self.Q[x,a])\n",
        "\n",
        "  def sample_action(self, s, eps):\n",
        "    if np.random.random() < eps:\n",
        "      return self.env.action_space.sample()\n",
        "    else:\n",
        "      p = self.predict(s)\n",
        "      return np.argmax(p)"
      ],
      "execution_count": null,
      "outputs": []
    },
    {
      "cell_type": "code",
      "metadata": {
        "id": "VSARidTeGOAR",
        "colab_type": "code",
        "colab": {}
      },
      "source": [
        "t= FeatureTransformer()\n",
        "m =Model(env,t)"
      ],
      "execution_count": null,
      "outputs": []
    },
    {
      "cell_type": "code",
      "metadata": {
        "id": "3LmgEUizGhYV",
        "colab_type": "code",
        "colab": {
          "base_uri": "https://localhost:8080/",
          "height": 34
        },
        "outputId": "85c2c96a-da87-467d-dd48-136feda65aa5"
      },
      "source": [
        "m.Q.shape"
      ],
      "execution_count": null,
      "outputs": [
        {
          "output_type": "execute_result",
          "data": {
            "text/plain": [
              "(10000, 2)"
            ]
          },
          "metadata": {
            "tags": []
          },
          "execution_count": 14
        }
      ]
    },
    {
      "cell_type": "code",
      "metadata": {
        "id": "9wrvxbHN-AW4",
        "colab_type": "code",
        "colab": {}
      },
      "source": [
        "import numpy as np"
      ],
      "execution_count": null,
      "outputs": []
    },
    {
      "cell_type": "code",
      "metadata": {
        "id": "La9UywhV9-qb",
        "colab_type": "code",
        "colab": {
          "base_uri": "https://localhost:8080/",
          "height": 34
        },
        "outputId": "211ed7f4-8a01-447c-ba64-18f8560a8f0e"
      },
      "source": [
        "a = np.linspace(1,10,5)\n",
        "print(a) # [ 1.    3.25  5.5   7.75 10.  ]"
      ],
      "execution_count": null,
      "outputs": [
        {
          "output_type": "stream",
          "text": [
            "[ 1.    3.25  5.5   7.75 10.  ]\n"
          ],
          "name": "stdout"
        }
      ]
    },
    {
      "cell_type": "code",
      "metadata": {
        "id": "Frx0o8ej-Gqj",
        "colab_type": "code",
        "colab": {
          "base_uri": "https://localhost:8080/",
          "height": 34
        },
        "outputId": "de6232fe-21b4-47aa-9f6a-61b029dfb383"
      },
      "source": [
        "type(a)"
      ],
      "execution_count": null,
      "outputs": [
        {
          "output_type": "execute_result",
          "data": {
            "text/plain": [
              "numpy.ndarray"
            ]
          },
          "metadata": {
            "tags": []
          },
          "execution_count": 5
        }
      ]
    },
    {
      "cell_type": "code",
      "metadata": {
        "id": "Cc9Irdm8-JNz",
        "colab_type": "code",
        "colab": {
          "base_uri": "https://localhost:8080/",
          "height": 34
        },
        "outputId": "8873d9f5-a216-4414-d2ba-b7d4b7ae7220"
      },
      "source": [
        "a*10"
      ],
      "execution_count": null,
      "outputs": [
        {
          "output_type": "execute_result",
          "data": {
            "text/plain": [
              "array([ 10. ,  32.5,  55. ,  77.5, 100. ])"
            ]
          },
          "metadata": {
            "tags": []
          },
          "execution_count": 6
        }
      ]
    },
    {
      "cell_type": "code",
      "metadata": {
        "id": "Z1cD4sEyCUWm",
        "colab_type": "code",
        "colab": {}
      },
      "source": [
        "value= [1,4,7,3,9,6,12,-4]"
      ],
      "execution_count": null,
      "outputs": []
    },
    {
      "cell_type": "code",
      "metadata": {
        "id": "bW8q3JLGCRGE",
        "colab_type": "code",
        "colab": {}
      },
      "source": [
        "d =np.digitize(x=value, bins=a)"
      ],
      "execution_count": null,
      "outputs": []
    },
    {
      "cell_type": "code",
      "metadata": {
        "id": "RrY-VdaVCeD6",
        "colab_type": "code",
        "colab": {
          "base_uri": "https://localhost:8080/",
          "height": 34
        },
        "outputId": "9aebdd9b-727c-4250-b67b-16c08e3663cf"
      },
      "source": [
        "d"
      ],
      "execution_count": null,
      "outputs": [
        {
          "output_type": "execute_result",
          "data": {
            "text/plain": [
              "array([1, 2, 3, 1, 4, 3, 5, 0])"
            ]
          },
          "metadata": {
            "tags": []
          },
          "execution_count": 20
        }
      ]
    },
    {
      "cell_type": "code",
      "metadata": {
        "id": "UJsBVL6yVnwK",
        "colab_type": "code",
        "colab": {
          "base_uri": "https://localhost:8080/",
          "height": 335
        },
        "outputId": "8ccc825d-bb23-49b8-a8fd-7f0d7648bd9f"
      },
      "source": [
        "import gym\n",
        "import numpy as np\n",
        "import seaborn as sns\n",
        "\n",
        "\n",
        "env = gym.make('CartPole-v0')\n",
        "env.reset()\n",
        "\n",
        "def playgame(env,record):\n",
        "    env.reset()\n",
        "    done=False\n",
        "    while not done:\n",
        "        o,r,done,info = env.step(env.action_space.sample())\n",
        "        record['CPosition'].append(o[0])\n",
        "        record['CVelocity'].append(o[1])\n",
        "        record['PoleAngle'].append(o[2])\n",
        "        record['PoleVelcity'].append(o[3])\n",
        "    return record\n",
        "\n",
        "\n",
        "record ={\n",
        "    'CPosition':[],\n",
        "    'CVelocity':[],\n",
        "    'PoleAngle':[],\n",
        "    'PoleVelcity':[]\n",
        "}\n",
        "for i in range(10000):\n",
        "    record = playgame(env,record)\n",
        "\n",
        "\n",
        "sns.distplot(record['CPosition'])"
      ],
      "execution_count": null,
      "outputs": [
        {
          "output_type": "stream",
          "text": [
            "/usr/local/lib/python3.6/dist-packages/statsmodels/tools/_testing.py:19: FutureWarning: pandas.util.testing is deprecated. Use the functions in the public API at pandas.testing instead.\n",
            "  import pandas.util.testing as tm\n"
          ],
          "name": "stderr"
        },
        {
          "output_type": "execute_result",
          "data": {
            "text/plain": [
              "<matplotlib.axes._subplots.AxesSubplot at 0x7f52f76e56a0>"
            ]
          },
          "metadata": {
            "tags": []
          },
          "execution_count": 1
        },
        {
          "output_type": "display_data",
          "data": {
            "image/png": "[encoded data removed]",
            "text/plain": [
              "<Figure size 432x288 with 1 Axes>"
            ]
          },
          "metadata": {
            "tags": [],
            "needs_background": "light"
          }
        }
      ]
    },
    {
      "cell_type": "code",
      "metadata": {
        "id": "BSVwpFKpglr9",
        "colab_type": "code",
        "colab": {}
      },
      "source": [
        "import pandas as pd\n",
        "df = pd.DataFrame(record)"
      ],
      "execution_count": null,
      "outputs": []
    },
    {
      "cell_type": "code",
      "metadata": {
        "id": "ExxvIfgCgtam",
        "colab_type": "code",
        "colab": {
          "base_uri": "https://localhost:8080/",
          "height": 284
        },
        "outputId": "54aa1f81-9f33-495c-a67a-439d33e74ad7"
      },
      "source": [
        "df.describe()"
      ],
      "execution_count": null,
      "outputs": [
        {
          "output_type": "execute_result",
          "data": {
            "text/html": [
              "<div>\n",
              "<style scoped>\n",
              "    .dataframe tbody tr th:only-of-type {\n",
              "        vertical-align: middle;\n",
              "    }\n",
              "\n",
              "    .dataframe tbody tr th {\n",
              "        vertical-align: top;\n",
              "    }\n",
              "\n",
              "    .dataframe thead th {\n",
              "        text-align: right;\n",
              "    }\n",
              "</style>\n",
              "<table border=\"1\" class=\"dataframe\">\n",
              "  <thead>\n",
              "    <tr style=\"text-align: right;\">\n",
              "      <th></th>\n",
              "      <th>CPosition</th>\n",
              "      <th>CVelocity</th>\n",
              "      <th>PoleAngle</th>\n",
              "      <th>PoleVelcity</th>\n",
              "    </tr>\n",
              "  </thead>\n",
              "  <tbody>\n",
              "    <tr>\n",
              "      <th>count</th>\n",
              "      <td>222203.000000</td>\n",
              "      <td>222203.000000</td>\n",
              "      <td>222203.000000</td>\n",
              "      <td>222203.000000</td>\n",
              "    </tr>\n",
              "    <tr>\n",
              "      <th>mean</th>\n",
              "      <td>-0.000093</td>\n",
              "      <td>-0.001087</td>\n",
              "      <td>-0.000087</td>\n",
              "      <td>0.001441</td>\n",
              "    </tr>\n",
              "    <tr>\n",
              "      <th>std</th>\n",
              "      <td>0.099529</td>\n",
              "      <td>0.567713</td>\n",
              "      <td>0.103284</td>\n",
              "      <td>0.855175</td>\n",
              "    </tr>\n",
              "    <tr>\n",
              "      <th>min</th>\n",
              "      <td>-1.641130</td>\n",
              "      <td>-3.041876</td>\n",
              "      <td>-0.266585</td>\n",
              "      <td>-3.594882</td>\n",
              "    </tr>\n",
              "    <tr>\n",
              "      <th>25%</th>\n",
              "      <td>-0.043978</td>\n",
              "      <td>-0.376555</td>\n",
              "      <td>-0.061732</td>\n",
              "      <td>-0.564936</td>\n",
              "    </tr>\n",
              "    <tr>\n",
              "      <th>50%</th>\n",
              "      <td>0.000326</td>\n",
              "      <td>0.000200</td>\n",
              "      <td>-0.000276</td>\n",
              "      <td>-0.000010</td>\n",
              "    </tr>\n",
              "    <tr>\n",
              "      <th>75%</th>\n",
              "      <td>0.044084</td>\n",
              "      <td>0.375601</td>\n",
              "      <td>0.061156</td>\n",
              "      <td>0.566465</td>\n",
              "    </tr>\n",
              "    <tr>\n",
              "      <th>max</th>\n",
              "      <td>1.523443</td>\n",
              "      <td>2.860015</td>\n",
              "      <td>0.267821</td>\n",
              "      <td>3.420588</td>\n",
              "    </tr>\n",
              "  </tbody>\n",
              "</table>\n",
              "</div>"
            ],
            "text/plain": [
              "           CPosition      CVelocity      PoleAngle    PoleVelcity\n",
              "count  222203.000000  222203.000000  222203.000000  222203.000000\n",
              "mean       -0.000093      -0.001087      -0.000087       0.001441\n",
              "std         0.099529       0.567713       0.103284       0.855175\n",
              "min        -1.641130      -3.041876      -0.266585      -3.594882\n",
              "25%        -0.043978      -0.376555      -0.061732      -0.564936\n",
              "50%         0.000326       0.000200      -0.000276      -0.000010\n",
              "75%         0.044084       0.375601       0.061156       0.566465\n",
              "max         1.523443       2.860015       0.267821       3.420588"
            ]
          },
          "metadata": {
            "tags": []
          },
          "execution_count": 11
        }
      ]
    },
    {
      "cell_type": "code",
      "metadata": {
        "id": "_pn_5wj2lQ3J",
        "colab_type": "code",
        "colab": {}
      },
      "source": [
        "def to_bin(value):\n",
        "    s=[]\n",
        "    cart_position_bins = np.linspace(-2.4, 2.4, 9)\n",
        "    cart_velocity_bins = np.linspace(-2, 2, 9) # (-inf, inf) (I did not check that these were good values)\n",
        "    pole_angle_bins = np.linspace(-0.4, 0.4, 9)\n",
        "    pole_velocity_bins = np.linspace(-3.5, 3.5, 9) # (-inf, inf) (I did not check that these were good values)\n",
        "    s.append(np.digitize(value[0], cart_position_bins))\n",
        "    s.append(np.digitize(value[1], cart_velocity_bins))\n",
        "    s.append(np.digitize(value[2], pole_angle_bins))\n",
        "    s.append(np.digitize(value[3], pole_velocity_bins))\n",
        "    return s"
      ],
      "execution_count": null,
      "outputs": []
    },
    {
      "cell_type": "code",
      "metadata": {
        "id": "77uvSYKPlSJw",
        "colab_type": "code",
        "colab": {}
      },
      "source": [
        "o,r,done,info = env.step(env.action_space.sample())"
      ],
      "execution_count": null,
      "outputs": []
    },
    {
      "cell_type": "code",
      "metadata": {
        "id": "llCHCCiflyar",
        "colab_type": "code",
        "colab": {
          "base_uri": "https://localhost:8080/",
          "height": 34
        },
        "outputId": "800984a3-7220-42b6-d4ef-35952c441ace"
      },
      "source": [
        "print(o)"
      ],
      "execution_count": null,
      "outputs": [
        {
          "output_type": "stream",
          "text": [
            "[-0.16787949  0.18396949  0.44200843  0.95975119]\n"
          ],
          "name": "stdout"
        }
      ]
    },
    {
      "cell_type": "code",
      "metadata": {
        "id": "s70uLxsMld26",
        "colab_type": "code",
        "colab": {
          "base_uri": "https://localhost:8080/",
          "height": 34
        },
        "outputId": "de44b537-7098-46d2-9540-617620bf4037"
      },
      "source": [
        "to_bin(o)"
      ],
      "execution_count": null,
      "outputs": [
        {
          "output_type": "execute_result",
          "data": {
            "text/plain": [
              "[4, 5, 9, 6]"
            ]
          },
          "metadata": {
            "tags": []
          },
          "execution_count": 48
        }
      ]
    },
    {
      "cell_type": "code",
      "metadata": {
        "id": "4K6CN-6ULTyK",
        "colab_type": "code",
        "colab": {}
      },
      "source": [
        "num_states = 10**4\n",
        "num_actions =2\n",
        "\n",
        "Q = np.random.uniform(low=-1, high=1, size=(num_states, num_actions))"
      ],
      "execution_count": null,
      "outputs": []
    },
    {
      "cell_type": "code",
      "metadata": {
        "id": "-nkzIyfaLshN",
        "colab_type": "code",
        "colab": {
          "base_uri": "https://localhost:8080/",
          "height": 34
        },
        "outputId": "bf59f6cf-9e33-44d1-bb26-b0e8eb990843"
      },
      "source": [
        "type(Q)"
      ],
      "execution_count": null,
      "outputs": [
        {
          "output_type": "execute_result",
          "data": {
            "text/plain": [
              "numpy.ndarray"
            ]
          },
          "metadata": {
            "tags": []
          },
          "execution_count": 7
        }
      ]
    },
    {
      "cell_type": "code",
      "metadata": {
        "id": "lzDBhhimMqXU",
        "colab_type": "code",
        "colab": {
          "base_uri": "https://localhost:8080/",
          "height": 134
        },
        "outputId": "64e01882-82a2-4915-b44e-c89cf201e65f"
      },
      "source": [
        "Q"
      ],
      "execution_count": null,
      "outputs": [
        {
          "output_type": "execute_result",
          "data": {
            "text/plain": [
              "array([[-0.25592997, -0.07952782],\n",
              "       [-0.70880797,  0.4559391 ],\n",
              "       [ 0.93110215,  0.04042307],\n",
              "       ...,\n",
              "       [-0.26030868, -0.56602788],\n",
              "       [ 0.88264669, -0.5267375 ],\n",
              "       [ 0.20083898,  0.88579978]])"
            ]
          },
          "metadata": {
            "tags": []
          },
          "execution_count": 10
        }
      ]
    },
    {
      "cell_type": "code",
      "metadata": {
        "id": "3s01ccfkLyKr",
        "colab_type": "code",
        "colab": {
          "base_uri": "https://localhost:8080/",
          "height": 34
        },
        "outputId": "53266a7a-81a1-433f-ca22-f47f75bfd8f2"
      },
      "source": [
        "Q[0][0]"
      ],
      "execution_count": null,
      "outputs": [
        {
          "output_type": "execute_result",
          "data": {
            "text/plain": [
              "-0.25592996893891273"
            ]
          },
          "metadata": {
            "tags": []
          },
          "execution_count": 11
        }
      ]
    },
    {
      "cell_type": "code",
      "metadata": {
        "id": "XwDD6jcigy9g",
        "colab_type": "code",
        "colab": {}
      },
      "source": [
        "# https://deeplearningcourses.com/c/deep-reinforcement-learning-in-python\n",
        "# https://www.udemy.com/deep-reinforcement-learning-in-python\n",
        "from __future__ import print_function, division\n",
        "from builtins import range\n",
        "# Note: you may need to update your version of future\n",
        "#       if builtins is not defined\n",
        "# sudo pip install -U future\n",
        "\n",
        "import gym\n",
        "import os\n",
        "import sys\n",
        "import numpy as np\n",
        "import pandas as pd\n",
        "import matplotlib.pyplot as plt\n",
        "from gym import wrappers\n",
        "from datetime import datetime\n",
        "\n",
        "\n",
        "# turns list of integers into an int\n",
        "# Ex.\n",
        "# build_state([1,2,3,4,5]) -> 12345\n",
        "def build_state(features):\n",
        "  return int(\"\".join(map(lambda feature: str(int(feature)), features)))\n",
        "\n",
        "def to_bin(value, bins):\n",
        "  return np.digitize(x=[value], bins=bins)[0]\n",
        "\n",
        "\n",
        "class FeatureTransformer:\n",
        "  def __init__(self):\n",
        "    # Note: to make this better you could look at how often each bin was\n",
        "    # actually used while running the script.\n",
        "    # It's not clear from the high/low values nor sample() what values\n",
        "    # we really expect to get.\n",
        "    self.cart_position_bins = np.linspace(-2.4, 2.4, 9)\n",
        "    self.cart_velocity_bins = np.linspace(-2, 2, 9) # (-inf, inf) (I did not check that these were good values)\n",
        "    self.pole_angle_bins = np.linspace(-0.4, 0.4, 9)\n",
        "    self.pole_velocity_bins = np.linspace(-3.5, 3.5, 9) # (-inf, inf) (I did not check that these were good values)\n",
        "\n",
        "  def transform(self, observation):\n",
        "    # returns an int\n",
        "    cart_pos, cart_vel, pole_angle, pole_vel = observation\n",
        "    return build_state([\n",
        "      to_bin(cart_pos, self.cart_position_bins),\n",
        "      to_bin(cart_vel, self.cart_velocity_bins),\n",
        "      to_bin(pole_angle, self.pole_angle_bins),\n",
        "      to_bin(pole_vel, self.pole_velocity_bins),\n",
        "    ])\n",
        "\n",
        "\n",
        "class Model:\n",
        "  def __init__(self, env, feature_transformer):\n",
        "    self.env = env\n",
        "    self.feature_transformer = feature_transformer\n",
        "\n",
        "    num_states = 10**env.observation_space.shape[0]\n",
        "    num_actions = env.action_space.n\n",
        "    self.Q = np.random.uniform(low=-1, high=1, size=(num_states, num_actions))\n",
        "\n",
        "  def predict(self, s):\n",
        "    x = self.feature_transformer.transform(s)\n",
        "    print(x)\n",
        "    return self.Q[x]\n",
        "\n",
        "  def update(self, s, a, G):\n",
        "    x = self.feature_transformer.transform(s)\n",
        "    self.Q[x,a] += 1e-2*(G - self.Q[x,a])\n",
        "\n",
        "  def sample_action(self, s, eps):\n",
        "    if np.random.random() > eps:\n",
        "      return self.env.action_space.sample()\n",
        "      print('hello')\n",
        "    else:\n",
        "      p = self.predict(s)\n",
        "      print(p)\n",
        "      return np.argmax(p)\n",
        "\n",
        "\n",
        "def play_one(model, eps, gamma):\n",
        "  observation = env.reset()\n",
        "  done = False\n",
        "  totalreward = 0\n",
        "  iters = 0\n",
        "  while not done and iters < 10000:\n",
        "    action = model.sample_action(observation, eps)\n",
        "    prev_observation = observation\n",
        "    observation, reward, done, info = env.step(action)\n",
        "\n",
        "    totalreward += reward\n",
        "\n",
        "    if done and iters < 199:\n",
        "      reward = -300\n",
        "\n",
        "    # update the model\n",
        "    G = reward + gamma*np.max(model.predict(observation))\n",
        "    print(model.predict(observation))\n",
        "    model.update(prev_observation, action, G)\n",
        "\n",
        "    iters += 1\n",
        "\n",
        "  return totalreward\n",
        "\n",
        "\n",
        "def plot_running_avg(totalrewards):\n",
        "  N = len(totalrewards)\n",
        "  running_avg = np.empty(N)\n",
        "  for t in range(N):\n",
        "    running_avg[t] = totalrewards[max(0, t-100):(t+1)].mean()\n",
        "  plt.plot(running_avg)\n",
        "  plt.title(\"Running Average\")\n",
        "  plt.show()\n",
        "\n",
        "\n",
        "\n"
      ],
      "execution_count": null,
      "outputs": []
    },
    {
      "cell_type": "code",
      "metadata": {
        "id": "Hwf3DzD5g9du",
        "colab_type": "code",
        "colab": {}
      },
      "source": [
        "if __name__ == '__main__':\n",
        "  env = gym.make('CartPole-v0')\n",
        "  ft = FeatureTransformer()\n",
        "  model = Model(env, ft)\n",
        "  gamma = 0.9\n",
        "\n",
        "  if 'monitor' in sys.argv:\n",
        "    filename = os.path.basename(__file__).split('.')[0]\n",
        "    monitor_dir = './' + filename + '_' + str(datetime.now())\n",
        "    env = wrappers.Monitor(env, monitor_dir)\n",
        "\n",
        "  N = 10000\n",
        "  totalrewards = np.empty(N)\n",
        "  for n in range(N):\n",
        "    eps = 1.0/np.sqrt(n+1)\n",
        "    totalreward = play_one(model, eps, gamma)\n",
        "    totalrewards[n] = totalreward\n",
        "    if n % 100 == 0:\n",
        "      print(\"episode:\", n, \"total reward:\", totalreward, \"eps:\", eps)\n",
        "  print(\"avg reward for last 100 episodes:\", totalrewards[-100:].mean())\n",
        "  print(\"total steps:\", totalrewards.sum())\n",
        "\n",
        "  plt.plot(totalrewards)\n",
        "  plt.title(\"Rewards\")\n",
        "  plt.show()\n",
        "\n",
        "  plot_running_avg(totalrewards)"
      ],
      "execution_count": null,
      "outputs": []
    },
    {
      "cell_type": "code",
      "metadata": {
        "id": "MzRTsrpJi6_b",
        "colab_type": "code",
        "colab": {}
      },
      "source": [
        "observation = env.reset()\n",
        "action = model.sample_action(observation, eps)\n",
        "prev_observation = observation\n",
        "observation, reward, done, info = env.step(action)"
      ],
      "execution_count": null,
      "outputs": []
    },
    {
      "cell_type": "code",
      "metadata": {
        "id": "sYbHJ1gEkXVK",
        "colab_type": "code",
        "colab": {
          "base_uri": "https://localhost:8080/",
          "height": 34
        },
        "outputId": "608e605a-e64f-49da-ea0b-aaaf17934261"
      },
      "source": [
        "model.sample_action(observation,eps)"
      ],
      "execution_count": null,
      "outputs": [
        {
          "output_type": "execute_result",
          "data": {
            "text/plain": [
              "0"
            ]
          },
          "metadata": {
            "tags": []
          },
          "execution_count": 28
        }
      ]
    },
    {
      "cell_type": "code",
      "metadata": {
        "id": "3g5fMmyJlIK2",
        "colab_type": "code",
        "colab": {}
      },
      "source": [
        "for n in range(10):\n",
        "  observation = env.reset()\n",
        "  done = False\n",
        "  totalreward = 0\n",
        "  iters = 0\n",
        "  while not done and iters < 10000:\n",
        "    action = model.sample_action(observation, eps)\n",
        "    prev_observation = observation\n",
        "    observation, reward, done, info = env.step(action)\n",
        "    feature_transformer = FeatureTransformer()\n",
        "    print(feature_transformer.transform(observation))\n",
        "    model.predict(observation)\n",
        "\n",
        "    totalreward += reward\n"
      ],
      "execution_count": null,
      "outputs": []
    },
    {
      "cell_type": "code",
      "metadata": {
        "id": "3CLv1b6GldQ-",
        "colab_type": "code",
        "colab": {}
      },
      "source": [
        "x =5\n",
        "x = x +3"
      ],
      "execution_count": null,
      "outputs": []
    },
    {
      "cell_type": "code",
      "metadata": {
        "id": "mXOiZUSNljm3",
        "colab_type": "code",
        "colab": {
          "base_uri": "https://localhost:8080/",
          "height": 34
        },
        "outputId": "411e1690-668b-4b6e-cf78-a9f151b8f4b3"
      },
      "source": [
        "print(x)"
      ],
      "execution_count": null,
      "outputs": [
        {
          "output_type": "stream",
          "text": [
            "8\n"
          ],
          "name": "stdout"
        }
      ]
    },
    {
      "cell_type": "code",
      "metadata": {
        "id": "RVHxekQBoH2q",
        "colab_type": "code",
        "colab": {}
      },
      "source": [
        "from sklearn.kernel_approximation import RBFSampler\n",
        "import gym"
      ],
      "execution_count": 1,
      "outputs": []
    },
    {
      "cell_type": "code",
      "metadata": {
        "id": "esc4uefoZkuW",
        "colab_type": "code",
        "colab": {
          "base_uri": "https://localhost:8080/",
          "height": 34
        },
        "outputId": "88a0a324-555a-438a-b68c-88df3a259aed"
      },
      "source": [
        "env = gym.make('CartPole-v1')\n",
        "env.reset()\n",
        "env.action_space\n"
      ],
      "execution_count": 7,
      "outputs": [
        {
          "output_type": "execute_result",
          "data": {
            "text/plain": [
              "Discrete(2)"
            ]
          },
          "metadata": {
            "tags": []
          },
          "execution_count": 7
        }
      ]
    },
    {
      "cell_type": "code",
      "metadata": {
        "id": "MIBeBJc4Z7iD",
        "colab_type": "code",
        "colab": {}
      },
      "source": [
        "done = False\n",
        "while not done:\n",
        "  env.render()\n",
        "  action = env.action_space.sample()\n",
        "  o, r, done, infro = env.step(action)\n",
        "  "
      ],
      "execution_count": null,
      "outputs": []
    },
    {
      "cell_type": "code",
      "metadata": {
        "id": "ITL78AjKbFex",
        "colab_type": "code",
        "colab": {}
      },
      "source": [
        "import gym\n",
        "env = gym.make('CartPole-v0')\n",
        "for i_episode in range(20):\n",
        "    observation = env.reset()\n",
        "    for t in range(100):\n",
        "        env.render()\n",
        "        print(observation)\n",
        "        action = env.action_space.sample()\n",
        "        observation, reward, done, info = env.step(action)\n",
        "        if done:\n",
        "            print(\"Episode finished after {} timesteps\".format(t+1))\n",
        "            break\n",
        "env.close()"
      ],
      "execution_count": null,
      "outputs": []
    },
    {
      "cell_type": "code",
      "metadata": {
        "id": "h66qkT_-ogm7",
        "colab_type": "code",
        "colab": {}
      },
      "source": [
        "RBFSampler."
      ],
      "execution_count": null,
      "outputs": []
    }
  ]
}