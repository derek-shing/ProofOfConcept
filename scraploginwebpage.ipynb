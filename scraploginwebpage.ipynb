{
  "nbformat": 4,
  "nbformat_minor": 0,
  "metadata": {
    "colab": {
      "name": "scraploginwebpage.ipynb",
      "provenance": [],
      "collapsed_sections": [],
      "authorship_tag": "ABX9TyPLvOQu/jHDYOo+gyTRO54F",
      "include_colab_link": true
    },
    "kernelspec": {
      "name": "python3",
      "display_name": "Python 3"
    }
  },
  "cells": [
    {
      "cell_type": "markdown",
      "metadata": {
        "id": "view-in-github",
        "colab_type": "text"
      },
      "source": [
        "<a href=\"https://colab.research.google.com/github/derek-shing/ProofOfConcept/blob/master/scraploginwebpage.ipynb\" target=\"_parent\"><img src=\"https://colab.research.google.com/assets/colab-badge.svg\" alt=\"Open In Colab\"/></a>"
      ]
    },
    {
      "cell_type": "code",
      "metadata": {
        "id": "cJojIk6Ymtv8"
      },
      "source": [
        "import requests, lxml.html"
      ],
      "execution_count": 1,
      "outputs": []
    },
    {
      "cell_type": "code",
      "metadata": {
        "id": "pRujI68Hs1Rx"
      },
      "source": [
        "loginurl=\"https://steadyoptions.com/login/\"\r\n",
        "forumurl = \"https://steadyoptions.com/forums/forum/10-steadyoptions-trades/\""
      ],
      "execution_count": 4,
      "outputs": []
    },
    {
      "cell_type": "code",
      "metadata": {
        "id": "CyVQm_HOvIiA"
      },
      "source": [
        " s = requests.session()"
      ],
      "execution_count": 37,
      "outputs": []
    },
    {
      "cell_type": "code",
      "metadata": {
        "id": "1N3RHUPGSOwD"
      },
      "source": [
        "login = s.get(loginurl)"
      ],
      "execution_count": 38,
      "outputs": []
    },
    {
      "cell_type": "code",
      "metadata": {
        "id": "Eb0osGWZSd4A"
      },
      "source": [
        "login_html = lxml.html.fromstring(login.text)"
      ],
      "execution_count": 39,
      "outputs": []
    },
    {
      "cell_type": "code",
      "metadata": {
        "id": "sLVLeb96Sone"
      },
      "source": [
        "login.text"
      ],
      "execution_count": null,
      "outputs": []
    },
    {
      "cell_type": "code",
      "metadata": {
        "colab": {
          "base_uri": "https://localhost:8080/"
        },
        "id": "0bYS_ckTSeut",
        "outputId": "89baa6eb-2146-4ee2-d992-e36110a8f474"
      },
      "source": [
        "login_html."
      ],
      "execution_count": 8,
      "outputs": [
        {
          "output_type": "execute_result",
          "data": {
            "text/plain": [
              "<Element html at 0x7f1aea325778>"
            ]
          },
          "metadata": {
            "tags": []
          },
          "execution_count": 8
        }
      ]
    },
    {
      "cell_type": "code",
      "metadata": {
        "id": "kYtADb50TJFW"
      },
      "source": [
        "//*[@id=\"ipsLayout_mainArea\"]/form/input"
      ],
      "execution_count": null,
      "outputs": []
    },
    {
      "cell_type": "code",
      "metadata": {
        "id": "NaN4T-JXTcRq"
      },
      "source": [
        "hidden_inputs = login_html.xpath(r'//*[@id=\"ipsLayout_mainArea\"]/form/input')"
      ],
      "execution_count": 40,
      "outputs": []
    },
    {
      "cell_type": "code",
      "metadata": {
        "colab": {
          "base_uri": "https://localhost:8080/"
        },
        "id": "jRlXxENoT7FT",
        "outputId": "a57a4a50-c3bf-488b-e7b8-ba4411aaf0bf"
      },
      "source": [
        "hidden_inputs"
      ],
      "execution_count": 41,
      "outputs": [
        {
          "output_type": "execute_result",
          "data": {
            "text/plain": [
              "[<InputElement 7f1adb4c6bd8 name='csrfKey' type='hidden'>]"
            ]
          },
          "metadata": {
            "tags": []
          },
          "execution_count": 41
        }
      ]
    },
    {
      "cell_type": "code",
      "metadata": {
        "id": "ijekL7a6UBpe"
      },
      "source": [
        "form = {x.attrib[\"name\"]: x.attrib[\"value\"] for x in hidden_inputs}"
      ],
      "execution_count": 42,
      "outputs": []
    },
    {
      "cell_type": "code",
      "metadata": {
        "id": "q8RzZC3jU1tk"
      },
      "source": [
        "form['auth']=\"\"\r\n",
        "form['password']=\"\"\r\n",
        "form['remember_me']=\"1\"\r\n",
        "form['_processLogin']='usernamepassword'"
      ],
      "execution_count": 44,
      "outputs": []
    },
    {
      "cell_type": "code",
      "metadata": {
        "id": "1x7qqRasVf_l"
      },
      "source": [
        "response = s.post(loginurl, data=form)"
      ],
      "execution_count": 46,
      "outputs": []
    },
    {
      "cell_type": "code",
      "metadata": {
        "colab": {
          "base_uri": "https://localhost:8080/"
        },
        "id": "biC5O9G6Vwnp",
        "outputId": "2d880849-22aa-42e4-c8cc-fce58a885ba3"
      },
      "source": [
        "response"
      ],
      "execution_count": 47,
      "outputs": [
        {
          "output_type": "execute_result",
          "data": {
            "text/plain": [
              "<Response [403]>"
            ]
          },
          "metadata": {
            "tags": []
          },
          "execution_count": 47
        }
      ]
    },
    {
      "cell_type": "code",
      "metadata": {
        "colab": {
          "base_uri": "https://localhost:8080/",
          "height": 35
        },
        "id": "N0__6eIYZsSh",
        "outputId": "17bda3ce-47e5-48f3-d483-817afd742cbe"
      },
      "source": [
        "response.reason"
      ],
      "execution_count": 48,
      "outputs": [
        {
          "output_type": "execute_result",
          "data": {
            "application/vnd.google.colaboratory.intrinsic+json": {
              "type": "string"
            },
            "text/plain": [
              "'Forbidden'"
            ]
          },
          "metadata": {
            "tags": []
          },
          "execution_count": 48
        }
      ]
    },
    {
      "cell_type": "code",
      "metadata": {
        "colab": {
          "base_uri": "https://localhost:8080/",
          "height": 238
        },
        "id": "vcVbQSbCc09k",
        "outputId": "b1d5f6ec-f00b-404e-ca09-a97447aa27ae"
      },
      "source": [
        "response.text"
      ],
      "execution_count": 49,
      "outputs": [
        {
          "output_type": "execute_result",
          "data": {
            "application/vnd.google.colaboratory.intrinsic+json": {
              "type": "string"
            },
            "text/plain": [
              "'<!DOCTYPE html>\\n<html lang=\"en\" xmlns=\"http://www.w3.org/1999/xhtml\">\\n<head>\\n<link rel=\"stylesheet\" href=\"https://cdn.sucuri.net/sucuri-firewall-block.css\" />\\n<section class=\"center clearfix\">\\n<meta name=\"viewport\" content=\"width=device-width, initial-scale=1.0\" />\\n<title>Sucuri WebSite Firewall - Access Denied</title>\\n<link href=\"https://fonts.googleapis.com/css?family=Open+Sans:400,300,600,700\" rel=\"stylesheet\" type=\"text/css\">\\n</head>\\n<body>\\n<div id=\"main-container\">\\n<header class=\"app-header clearfix\">\\n<div class=\"wrap\">\\n<a href=\"https://www.sucuri.net/?utm_source=firewall_block\" class=\"logo\"></a>\\n<span class=\"logo-neartext\">Website Firewall</span>\\n<a href=\"https://sucuri.net/?utm_source=firewall_block\" class=\"site-link\">Back to sucuri.net</a>\\n</div>\\n</header>\\n\\n<section class=\"app-content access-denied clearfix\"><div class=\"box center width-max-940\"><h1 class=\"brand-font font-size-xtra no-margin\"><i class=\"icon-circle-red\"></i>Access Denied - Sucuri Website Firewall</h1>\\n<p class=\"medium-text code-snippet\">If you are the site owner (or you manage this site), please whitelist your IP or if you think this block is an error please <a href=\"https://support.sucuri.net/?utm_source=firewall_block\" class=\"color-green underline\">open a support ticket</a> and make sure to include the block details (displayed in the box below), so we can assist you in troubleshooting the issue. </p><h2>Block details:</h1>\\n<table class=\"property-table overflow-break-all line-height-16\">\\n<tr>\\n<td>Your IP:</td>\\n<td><span>35.204.210.32</span></td>\\n</tr>\\n<tr><td>URL:</td>\\n<td><span>steadyoptions.com/login/</span></td>\\n</tr>\\n<tr>\\n<td>Your Browser: </td>\\n<td><span>python-requests/2.23.0</span></td>\\n</tr>\\n<tr><td>Block ID:</td>\\n<td><span>BBOT65</span></td>\\n</tr>\\n<tr>\\n<td>Block reason:</td>\\n<td><span>Brute force bot was blocked.</span></td>\\n</tr>\\n<tr>\\n<td>Time:</td>\\n<td><span>2021-02-23 05:33:09</span></td>\\n</tr>\\n<tr>\\n<td>Server ID:</td>\\n<td><span>19014</span></td></tr>\\n</table>\\n</div>\\n</section>\\n\\n<footer>\\n<span>&copy; 2019 Sucuri Inc. All rights reserved.</span>\\n<span id=\"privacy-policy\"><a href=\"https://sucuri.net/privacy-policy?utm_source=firewall_block\" target=\"_blank\" rel=\"nofollow noopener\">Privacy</a></span>\\n</footer>\\n</div>\\n</body>\\n</html>\\n\\n'"
            ]
          },
          "metadata": {
            "tags": []
          },
          "execution_count": 49
        }
      ]
    },
    {
      "cell_type": "code",
      "metadata": {
        "colab": {
          "base_uri": "https://localhost:8080/"
        },
        "id": "xAaf0lz8yJWs",
        "outputId": "21061b5f-632e-456f-e32f-8d263e94c6fb"
      },
      "source": [
        "post"
      ],
      "execution_count": 15,
      "outputs": [
        {
          "output_type": "execute_result",
          "data": {
            "text/plain": [
              "<Response [403]>"
            ]
          },
          "metadata": {
            "tags": []
          },
          "execution_count": 15
        }
      ]
    },
    {
      "cell_type": "code",
      "metadata": {
        "id": "YA_8Lqdou9Rp"
      },
      "source": [
        "with requests.Session() as session:\r\n",
        "    post = session.post(loginurl, data=payload)\r\n",
        "    r = session.get(forumurl)\r\n",
        "    print(r.text)   #or whatever else you want to do with the request data!"
      ],
      "execution_count": null,
      "outputs": []
    },
    {
      "cell_type": "code",
      "metadata": {
        "colab": {
          "base_uri": "https://localhost:8080/"
        },
        "id": "L5xxP78swuut",
        "outputId": "bdf304cc-360e-4905-dfa1-e41aace10830"
      },
      "source": [
        "post"
      ],
      "execution_count": 7,
      "outputs": [
        {
          "output_type": "execute_result",
          "data": {
            "text/plain": [
              "<Response [403]>"
            ]
          },
          "metadata": {
            "tags": []
          },
          "execution_count": 7
        }
      ]
    },
    {
      "cell_type": "code",
      "metadata": {
        "colab": {
          "base_uri": "https://localhost:8080/"
        },
        "id": "6GXPC84JwzUs",
        "outputId": "a86c2418-dc48-4435-dd8a-d0ab8619e177"
      },
      "source": [
        "post.json"
      ],
      "execution_count": 17,
      "outputs": [
        {
          "output_type": "execute_result",
          "data": {
            "text/plain": [
              "<bound method Response.json of <Response [403]>>"
            ]
          },
          "metadata": {
            "tags": []
          },
          "execution_count": 17
        }
      ]
    }
  ]
}